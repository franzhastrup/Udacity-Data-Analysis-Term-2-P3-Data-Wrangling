{
 "cells": [
  {
   "cell_type": "markdown",
   "metadata": {},
   "source": [
    "# Udacity Nanodegree -  Wrangling and Analyzing \n",
    "## WeRateDogs - Twitter\n",
    "#### Author: Franz Hastrup-Nielsen\n",
    "#### Date: 10-06-2018"
   ]
  },
  {
   "cell_type": "markdown",
   "metadata": {},
   "source": [
    "## Introduction"
   ]
  },
  {
   "cell_type": "markdown",
   "metadata": {},
   "source": [
    "In this project, three different datasets have been utilized for analysis. A given dataset with data from WeRateDogs posts on Twitter, a downloaded dataset using a Twitter API gathering more information on the tweets and a machine learning dataset predicting the content of the attached photos.  \n",
    "These have been gathered, assessed and cleaned and followed by an analysis and interpretation."
   ]
  },
  {
   "cell_type": "markdown",
   "metadata": {},
   "source": [
    "## Gather"
   ]
  },
  {
   "cell_type": "code",
   "execution_count": 664,
   "metadata": {},
   "outputs": [],
   "source": [
    "import pandas as pd\n",
    "import requests\n",
    "import io\n",
    "import os\n",
    "import tweepy\n",
    "import sys\n",
    "import time\n",
    "import json\n",
    "import matplotlib.pyplot as plt \n",
    "%matplotlib inline"
   ]
  },
  {
   "cell_type": "code",
   "execution_count": 665,
   "metadata": {
    "scrolled": true
   },
   "outputs": [
    {
     "data": {
      "text/html": [
       "<div>\n",
       "<style>\n",
       "    .dataframe thead tr:only-child th {\n",
       "        text-align: right;\n",
       "    }\n",
       "\n",
       "    .dataframe thead th {\n",
       "        text-align: left;\n",
       "    }\n",
       "\n",
       "    .dataframe tbody tr th {\n",
       "        vertical-align: top;\n",
       "    }\n",
       "</style>\n",
       "<table border=\"1\" class=\"dataframe\">\n",
       "  <thead>\n",
       "    <tr style=\"text-align: right;\">\n",
       "      <th></th>\n",
       "      <th>tweet_id</th>\n",
       "      <th>in_reply_to_status_id</th>\n",
       "      <th>in_reply_to_user_id</th>\n",
       "      <th>timestamp</th>\n",
       "      <th>source</th>\n",
       "      <th>text</th>\n",
       "      <th>retweeted_status_id</th>\n",
       "      <th>retweeted_status_user_id</th>\n",
       "      <th>retweeted_status_timestamp</th>\n",
       "      <th>expanded_urls</th>\n",
       "      <th>rating_numerator</th>\n",
       "      <th>rating_denominator</th>\n",
       "      <th>name</th>\n",
       "      <th>doggo</th>\n",
       "      <th>floofer</th>\n",
       "      <th>pupper</th>\n",
       "      <th>puppo</th>\n",
       "    </tr>\n",
       "  </thead>\n",
       "  <tbody>\n",
       "    <tr>\n",
       "      <th>0</th>\n",
       "      <td>892420643555336193</td>\n",
       "      <td>NaN</td>\n",
       "      <td>NaN</td>\n",
       "      <td>2017-08-01 16:23:56 +0000</td>\n",
       "      <td>&lt;a href=\"http://twitter.com/download/iphone\" r...</td>\n",
       "      <td>This is Phineas. He's a mystical boy. Only eve...</td>\n",
       "      <td>NaN</td>\n",
       "      <td>NaN</td>\n",
       "      <td>NaN</td>\n",
       "      <td>https://twitter.com/dog_rates/status/892420643...</td>\n",
       "      <td>13</td>\n",
       "      <td>10</td>\n",
       "      <td>Phineas</td>\n",
       "      <td>None</td>\n",
       "      <td>None</td>\n",
       "      <td>None</td>\n",
       "      <td>None</td>\n",
       "    </tr>\n",
       "    <tr>\n",
       "      <th>1</th>\n",
       "      <td>892177421306343426</td>\n",
       "      <td>NaN</td>\n",
       "      <td>NaN</td>\n",
       "      <td>2017-08-01 00:17:27 +0000</td>\n",
       "      <td>&lt;a href=\"http://twitter.com/download/iphone\" r...</td>\n",
       "      <td>This is Tilly. She's just checking pup on you....</td>\n",
       "      <td>NaN</td>\n",
       "      <td>NaN</td>\n",
       "      <td>NaN</td>\n",
       "      <td>https://twitter.com/dog_rates/status/892177421...</td>\n",
       "      <td>13</td>\n",
       "      <td>10</td>\n",
       "      <td>Tilly</td>\n",
       "      <td>None</td>\n",
       "      <td>None</td>\n",
       "      <td>None</td>\n",
       "      <td>None</td>\n",
       "    </tr>\n",
       "    <tr>\n",
       "      <th>2</th>\n",
       "      <td>891815181378084864</td>\n",
       "      <td>NaN</td>\n",
       "      <td>NaN</td>\n",
       "      <td>2017-07-31 00:18:03 +0000</td>\n",
       "      <td>&lt;a href=\"http://twitter.com/download/iphone\" r...</td>\n",
       "      <td>This is Archie. He is a rare Norwegian Pouncin...</td>\n",
       "      <td>NaN</td>\n",
       "      <td>NaN</td>\n",
       "      <td>NaN</td>\n",
       "      <td>https://twitter.com/dog_rates/status/891815181...</td>\n",
       "      <td>12</td>\n",
       "      <td>10</td>\n",
       "      <td>Archie</td>\n",
       "      <td>None</td>\n",
       "      <td>None</td>\n",
       "      <td>None</td>\n",
       "      <td>None</td>\n",
       "    </tr>\n",
       "    <tr>\n",
       "      <th>3</th>\n",
       "      <td>891689557279858688</td>\n",
       "      <td>NaN</td>\n",
       "      <td>NaN</td>\n",
       "      <td>2017-07-30 15:58:51 +0000</td>\n",
       "      <td>&lt;a href=\"http://twitter.com/download/iphone\" r...</td>\n",
       "      <td>This is Darla. She commenced a snooze mid meal...</td>\n",
       "      <td>NaN</td>\n",
       "      <td>NaN</td>\n",
       "      <td>NaN</td>\n",
       "      <td>https://twitter.com/dog_rates/status/891689557...</td>\n",
       "      <td>13</td>\n",
       "      <td>10</td>\n",
       "      <td>Darla</td>\n",
       "      <td>None</td>\n",
       "      <td>None</td>\n",
       "      <td>None</td>\n",
       "      <td>None</td>\n",
       "    </tr>\n",
       "    <tr>\n",
       "      <th>4</th>\n",
       "      <td>891327558926688256</td>\n",
       "      <td>NaN</td>\n",
       "      <td>NaN</td>\n",
       "      <td>2017-07-29 16:00:24 +0000</td>\n",
       "      <td>&lt;a href=\"http://twitter.com/download/iphone\" r...</td>\n",
       "      <td>This is Franklin. He would like you to stop ca...</td>\n",
       "      <td>NaN</td>\n",
       "      <td>NaN</td>\n",
       "      <td>NaN</td>\n",
       "      <td>https://twitter.com/dog_rates/status/891327558...</td>\n",
       "      <td>12</td>\n",
       "      <td>10</td>\n",
       "      <td>Franklin</td>\n",
       "      <td>None</td>\n",
       "      <td>None</td>\n",
       "      <td>None</td>\n",
       "      <td>None</td>\n",
       "    </tr>\n",
       "  </tbody>\n",
       "</table>\n",
       "</div>"
      ],
      "text/plain": [
       "             tweet_id  in_reply_to_status_id  in_reply_to_user_id  \\\n",
       "0  892420643555336193                    NaN                  NaN   \n",
       "1  892177421306343426                    NaN                  NaN   \n",
       "2  891815181378084864                    NaN                  NaN   \n",
       "3  891689557279858688                    NaN                  NaN   \n",
       "4  891327558926688256                    NaN                  NaN   \n",
       "\n",
       "                   timestamp  \\\n",
       "0  2017-08-01 16:23:56 +0000   \n",
       "1  2017-08-01 00:17:27 +0000   \n",
       "2  2017-07-31 00:18:03 +0000   \n",
       "3  2017-07-30 15:58:51 +0000   \n",
       "4  2017-07-29 16:00:24 +0000   \n",
       "\n",
       "                                              source  \\\n",
       "0  <a href=\"http://twitter.com/download/iphone\" r...   \n",
       "1  <a href=\"http://twitter.com/download/iphone\" r...   \n",
       "2  <a href=\"http://twitter.com/download/iphone\" r...   \n",
       "3  <a href=\"http://twitter.com/download/iphone\" r...   \n",
       "4  <a href=\"http://twitter.com/download/iphone\" r...   \n",
       "\n",
       "                                                text  retweeted_status_id  \\\n",
       "0  This is Phineas. He's a mystical boy. Only eve...                  NaN   \n",
       "1  This is Tilly. She's just checking pup on you....                  NaN   \n",
       "2  This is Archie. He is a rare Norwegian Pouncin...                  NaN   \n",
       "3  This is Darla. She commenced a snooze mid meal...                  NaN   \n",
       "4  This is Franklin. He would like you to stop ca...                  NaN   \n",
       "\n",
       "   retweeted_status_user_id retweeted_status_timestamp  \\\n",
       "0                       NaN                        NaN   \n",
       "1                       NaN                        NaN   \n",
       "2                       NaN                        NaN   \n",
       "3                       NaN                        NaN   \n",
       "4                       NaN                        NaN   \n",
       "\n",
       "                                       expanded_urls  rating_numerator  \\\n",
       "0  https://twitter.com/dog_rates/status/892420643...                13   \n",
       "1  https://twitter.com/dog_rates/status/892177421...                13   \n",
       "2  https://twitter.com/dog_rates/status/891815181...                12   \n",
       "3  https://twitter.com/dog_rates/status/891689557...                13   \n",
       "4  https://twitter.com/dog_rates/status/891327558...                12   \n",
       "\n",
       "   rating_denominator      name doggo floofer pupper puppo  \n",
       "0                  10   Phineas  None    None   None  None  \n",
       "1                  10     Tilly  None    None   None  None  \n",
       "2                  10    Archie  None    None   None  None  \n",
       "3                  10     Darla  None    None   None  None  \n",
       "4                  10  Franklin  None    None   None  None  "
      ]
     },
     "execution_count": 665,
     "metadata": {},
     "output_type": "execute_result"
    }
   ],
   "source": [
    "#Importing the data available in a csv file\n",
    "df = pd.read_csv('twitter-archive-enhanced.csv')\n",
    "df.head()"
   ]
  },
  {
   "cell_type": "code",
   "execution_count": 666,
   "metadata": {
    "scrolled": true
   },
   "outputs": [
    {
     "name": "stdout",
     "output_type": "stream",
     "text": [
      "<class 'pandas.core.frame.DataFrame'>\n",
      "RangeIndex: 2356 entries, 0 to 2355\n",
      "Data columns (total 17 columns):\n",
      "tweet_id                      2356 non-null int64\n",
      "in_reply_to_status_id         78 non-null float64\n",
      "in_reply_to_user_id           78 non-null float64\n",
      "timestamp                     2356 non-null object\n",
      "source                        2356 non-null object\n",
      "text                          2356 non-null object\n",
      "retweeted_status_id           181 non-null float64\n",
      "retweeted_status_user_id      181 non-null float64\n",
      "retweeted_status_timestamp    181 non-null object\n",
      "expanded_urls                 2297 non-null object\n",
      "rating_numerator              2356 non-null int64\n",
      "rating_denominator            2356 non-null int64\n",
      "name                          2356 non-null object\n",
      "doggo                         2356 non-null object\n",
      "floofer                       2356 non-null object\n",
      "pupper                        2356 non-null object\n",
      "puppo                         2356 non-null object\n",
      "dtypes: float64(4), int64(3), object(10)\n",
      "memory usage: 313.0+ KB\n"
     ]
    }
   ],
   "source": [
    "df.info()"
   ]
  },
  {
   "cell_type": "code",
   "execution_count": 667,
   "metadata": {},
   "outputs": [
    {
     "data": {
      "text/plain": [
       "<Response [200]>"
      ]
     },
     "execution_count": 667,
     "metadata": {},
     "output_type": "execute_result"
    }
   ],
   "source": [
    "#Using the requests function to download file from HTTP\n",
    "url = 'https://d17h27t6h515a5.cloudfront.net/topher/2017/August/599fd2ad_image-predictions/image-predictions.tsv'\n",
    "response = requests.get(url)\n",
    "response"
   ]
  },
  {
   "cell_type": "code",
   "execution_count": 668,
   "metadata": {},
   "outputs": [],
   "source": [
    "#Downloaded file is saved\n",
    "folder_name = 'downloads'\n",
    "if not os.path.exists(folder_name):\n",
    "    os.makedirs(folder_name)\n",
    "    \n",
    "with open(os.path.join(folder_name,\n",
    "                     'image_predictions'), mode='wb') as file:\n",
    "    file.write(response.content)"
   ]
  },
  {
   "cell_type": "code",
   "execution_count": 669,
   "metadata": {
    "scrolled": true
   },
   "outputs": [
    {
     "data": {
      "text/html": [
       "<div>\n",
       "<style>\n",
       "    .dataframe thead tr:only-child th {\n",
       "        text-align: right;\n",
       "    }\n",
       "\n",
       "    .dataframe thead th {\n",
       "        text-align: left;\n",
       "    }\n",
       "\n",
       "    .dataframe tbody tr th {\n",
       "        vertical-align: top;\n",
       "    }\n",
       "</style>\n",
       "<table border=\"1\" class=\"dataframe\">\n",
       "  <thead>\n",
       "    <tr style=\"text-align: right;\">\n",
       "      <th></th>\n",
       "      <th>tweet_id</th>\n",
       "      <th>jpg_url</th>\n",
       "      <th>img_num</th>\n",
       "      <th>p1</th>\n",
       "      <th>p1_conf</th>\n",
       "      <th>p1_dog</th>\n",
       "      <th>p2</th>\n",
       "      <th>p2_conf</th>\n",
       "      <th>p2_dog</th>\n",
       "      <th>p3</th>\n",
       "      <th>p3_conf</th>\n",
       "      <th>p3_dog</th>\n",
       "    </tr>\n",
       "  </thead>\n",
       "  <tbody>\n",
       "    <tr>\n",
       "      <th>2070</th>\n",
       "      <td>891327558926688256</td>\n",
       "      <td>https://pbs.twimg.com/media/DF6hr6BUMAAzZgT.jpg</td>\n",
       "      <td>2</td>\n",
       "      <td>basset</td>\n",
       "      <td>0.555712</td>\n",
       "      <td>True</td>\n",
       "      <td>English_springer</td>\n",
       "      <td>0.225770</td>\n",
       "      <td>True</td>\n",
       "      <td>German_short-haired_pointer</td>\n",
       "      <td>0.175219</td>\n",
       "      <td>True</td>\n",
       "    </tr>\n",
       "    <tr>\n",
       "      <th>2071</th>\n",
       "      <td>891689557279858688</td>\n",
       "      <td>https://pbs.twimg.com/media/DF_q7IAWsAEuuN8.jpg</td>\n",
       "      <td>1</td>\n",
       "      <td>paper_towel</td>\n",
       "      <td>0.170278</td>\n",
       "      <td>False</td>\n",
       "      <td>Labrador_retriever</td>\n",
       "      <td>0.168086</td>\n",
       "      <td>True</td>\n",
       "      <td>spatula</td>\n",
       "      <td>0.040836</td>\n",
       "      <td>False</td>\n",
       "    </tr>\n",
       "    <tr>\n",
       "      <th>2072</th>\n",
       "      <td>891815181378084864</td>\n",
       "      <td>https://pbs.twimg.com/media/DGBdLU1WsAANxJ9.jpg</td>\n",
       "      <td>1</td>\n",
       "      <td>Chihuahua</td>\n",
       "      <td>0.716012</td>\n",
       "      <td>True</td>\n",
       "      <td>malamute</td>\n",
       "      <td>0.078253</td>\n",
       "      <td>True</td>\n",
       "      <td>kelpie</td>\n",
       "      <td>0.031379</td>\n",
       "      <td>True</td>\n",
       "    </tr>\n",
       "    <tr>\n",
       "      <th>2073</th>\n",
       "      <td>892177421306343426</td>\n",
       "      <td>https://pbs.twimg.com/media/DGGmoV4XsAAUL6n.jpg</td>\n",
       "      <td>1</td>\n",
       "      <td>Chihuahua</td>\n",
       "      <td>0.323581</td>\n",
       "      <td>True</td>\n",
       "      <td>Pekinese</td>\n",
       "      <td>0.090647</td>\n",
       "      <td>True</td>\n",
       "      <td>papillon</td>\n",
       "      <td>0.068957</td>\n",
       "      <td>True</td>\n",
       "    </tr>\n",
       "    <tr>\n",
       "      <th>2074</th>\n",
       "      <td>892420643555336193</td>\n",
       "      <td>https://pbs.twimg.com/media/DGKD1-bXoAAIAUK.jpg</td>\n",
       "      <td>1</td>\n",
       "      <td>orange</td>\n",
       "      <td>0.097049</td>\n",
       "      <td>False</td>\n",
       "      <td>bagel</td>\n",
       "      <td>0.085851</td>\n",
       "      <td>False</td>\n",
       "      <td>banana</td>\n",
       "      <td>0.076110</td>\n",
       "      <td>False</td>\n",
       "    </tr>\n",
       "  </tbody>\n",
       "</table>\n",
       "</div>"
      ],
      "text/plain": [
       "                tweet_id                                          jpg_url  \\\n",
       "2070  891327558926688256  https://pbs.twimg.com/media/DF6hr6BUMAAzZgT.jpg   \n",
       "2071  891689557279858688  https://pbs.twimg.com/media/DF_q7IAWsAEuuN8.jpg   \n",
       "2072  891815181378084864  https://pbs.twimg.com/media/DGBdLU1WsAANxJ9.jpg   \n",
       "2073  892177421306343426  https://pbs.twimg.com/media/DGGmoV4XsAAUL6n.jpg   \n",
       "2074  892420643555336193  https://pbs.twimg.com/media/DGKD1-bXoAAIAUK.jpg   \n",
       "\n",
       "      img_num           p1   p1_conf  p1_dog                  p2   p2_conf  \\\n",
       "2070        2       basset  0.555712    True    English_springer  0.225770   \n",
       "2071        1  paper_towel  0.170278   False  Labrador_retriever  0.168086   \n",
       "2072        1    Chihuahua  0.716012    True            malamute  0.078253   \n",
       "2073        1    Chihuahua  0.323581    True            Pekinese  0.090647   \n",
       "2074        1       orange  0.097049   False               bagel  0.085851   \n",
       "\n",
       "      p2_dog                           p3   p3_conf  p3_dog  \n",
       "2070    True  German_short-haired_pointer  0.175219    True  \n",
       "2071    True                      spatula  0.040836   False  \n",
       "2072    True                       kelpie  0.031379    True  \n",
       "2073    True                     papillon  0.068957    True  \n",
       "2074   False                       banana  0.076110   False  "
      ]
     },
     "execution_count": 669,
     "metadata": {},
     "output_type": "execute_result"
    }
   ],
   "source": [
    "#The downloaded file is imported\n",
    "pred = pd.read_csv('downloads\\image_predictions',sep='\\t')\n",
    "pred.tail()"
   ]
  },
  {
   "cell_type": "markdown",
   "metadata": {},
   "source": [
    "**Explanation of the table above**\n",
    "- tweet_id is the last part of the tweet URL  \n",
    "- p1 is the algorithm's #1 prediction for the image in the tweet  \n",
    "- p1_conf is how confident the algorithm is in its #1 prediction  \n",
    "- p1_dog is whether or not the #1 prediction is a breed of dog  \n",
    "- p2 is the algorithm's second most likely prediction  \n",
    "- p2_conf is how confident the algorithm is in its #2 prediction  \n",
    "- p2_dog is whether or not the #2 prediction is a breed of dog  "
   ]
  },
  {
   "cell_type": "code",
   "execution_count": 670,
   "metadata": {},
   "outputs": [],
   "source": [
    "#The below has been commented out as the request only was run once\n",
    "#consumer_key = ''\n",
    "#consumer_secret = ''\n",
    "#access_token = ''\n",
    "#access_secret = ''\n",
    "\n",
    "#auth = tweepy.OAuthHandler(consumer_key, consumer_secret)\n",
    "#auth.set_access_token(access_token, access_secret)\n",
    "\n",
    "#api = tweepy.API(auth_handler=auth,wait_on_rate_limit=True,wait_on_rate_limit_notify=True)"
   ]
  },
  {
   "cell_type": "code",
   "execution_count": 671,
   "metadata": {},
   "outputs": [],
   "source": [
    "#https://stackoverflow.com/questions/28218698/how-to-iterate-over-columns-of-pandas-dataframe-to-run-regression\n",
    "#This has been commented out as the process was a one time processing of requested data\n",
    "#tweet_list = list(df['tweet_id'])\n",
    "#rowcount = len(df.index)\n",
    "#data = {}  \n",
    "#count=0\n",
    "#for tweet_id in tweet_list:\n",
    "#    count = (count + 1)\n",
    "#    try:\n",
    "#        tweet = api.get_status(tweet_id,\n",
    "#                                      wait_on_rate_limit=True, \n",
    "#                                      wait_on_rate_limit_notify=True)\n",
    "#        data[str(tweet_id)] = tweet._json\n",
    "#        per = count/rowcount*100\n",
    "#        print(\"%.2f percent done\" % per )\n",
    "#        \n",
    "#    except: # catch *all* exceptions\n",
    "#        print(\"Error in tweet id: \" + str(tweet_id))\n"
   ]
  },
  {
   "cell_type": "code",
   "execution_count": 672,
   "metadata": {},
   "outputs": [],
   "source": [
    "#Each tweet's JSON data should be written to its own line. \n",
    "\n",
    "#Save file from Twitter API\n",
    "#with open('tweet_json.txt', 'w') as outfile:  \n",
    "#    json.dump(data, outfile, \n",
    "#              indent=4,\n",
    "#              sort_keys = True)"
   ]
  },
  {
   "cell_type": "code",
   "execution_count": 673,
   "metadata": {},
   "outputs": [],
   "source": [
    "#Then read this .txt file line by line into a pandas DataFrame with (at minimum) tweet ID, retweet count, and favorite count.\n",
    "tweet_df = pd.read_json('tweet_json.txt',orient='index')"
   ]
  },
  {
   "cell_type": "code",
   "execution_count": 674,
   "metadata": {},
   "outputs": [
    {
     "data": {
      "text/html": [
       "<div>\n",
       "<style>\n",
       "    .dataframe thead tr:only-child th {\n",
       "        text-align: right;\n",
       "    }\n",
       "\n",
       "    .dataframe thead th {\n",
       "        text-align: left;\n",
       "    }\n",
       "\n",
       "    .dataframe tbody tr th {\n",
       "        vertical-align: top;\n",
       "    }\n",
       "</style>\n",
       "<table border=\"1\" class=\"dataframe\">\n",
       "  <thead>\n",
       "    <tr style=\"text-align: right;\">\n",
       "      <th></th>\n",
       "      <th>contributors</th>\n",
       "      <th>coordinates</th>\n",
       "      <th>created_at</th>\n",
       "      <th>entities</th>\n",
       "      <th>extended_entities</th>\n",
       "      <th>favorite_count</th>\n",
       "      <th>favorited</th>\n",
       "      <th>geo</th>\n",
       "      <th>id</th>\n",
       "      <th>id_str</th>\n",
       "      <th>...</th>\n",
       "      <th>quoted_status</th>\n",
       "      <th>quoted_status_id</th>\n",
       "      <th>quoted_status_id_str</th>\n",
       "      <th>retweet_count</th>\n",
       "      <th>retweeted</th>\n",
       "      <th>retweeted_status</th>\n",
       "      <th>source</th>\n",
       "      <th>text</th>\n",
       "      <th>truncated</th>\n",
       "      <th>user</th>\n",
       "    </tr>\n",
       "  </thead>\n",
       "  <tbody>\n",
       "    <tr>\n",
       "      <th>1991-02-08 13:48:08.022790149</th>\n",
       "      <td>NaN</td>\n",
       "      <td>NaN</td>\n",
       "      <td>2015-11-15 22:32:08</td>\n",
       "      <td>{'hashtags': [], 'media': [{'display_url': 'pi...</td>\n",
       "      <td>{'media': [{'display_url': 'pic.twitter.com/BL...</td>\n",
       "      <td>2555</td>\n",
       "      <td>0</td>\n",
       "      <td>NaN</td>\n",
       "      <td>666020888022790144</td>\n",
       "      <td>666020888022790144</td>\n",
       "      <td>...</td>\n",
       "      <td>NaN</td>\n",
       "      <td>NaN</td>\n",
       "      <td>NaN</td>\n",
       "      <td>517</td>\n",
       "      <td>0</td>\n",
       "      <td>NaN</td>\n",
       "      <td>&lt;a href=\"http://twitter.com/download/iphone\" r...</td>\n",
       "      <td>Here we have a Japanese Irish Setter. Lost eye...</td>\n",
       "      <td>0</td>\n",
       "      <td>{'contributors_enabled': False, 'created_at': ...</td>\n",
       "    </tr>\n",
       "    <tr>\n",
       "      <th>1991-02-08 16:08:05.002620928</th>\n",
       "      <td>NaN</td>\n",
       "      <td>NaN</td>\n",
       "      <td>2015-11-15 23:05:30</td>\n",
       "      <td>{'hashtags': [], 'media': [{'display_url': 'pi...</td>\n",
       "      <td>{'media': [{'display_url': 'pic.twitter.com/r7...</td>\n",
       "      <td>129</td>\n",
       "      <td>0</td>\n",
       "      <td>NaN</td>\n",
       "      <td>666029285002620928</td>\n",
       "      <td>666029285002620928</td>\n",
       "      <td>...</td>\n",
       "      <td>NaN</td>\n",
       "      <td>NaN</td>\n",
       "      <td>NaN</td>\n",
       "      <td>46</td>\n",
       "      <td>0</td>\n",
       "      <td>NaN</td>\n",
       "      <td>&lt;a href=\"http://twitter.com/download/iphone\" r...</td>\n",
       "      <td>This is a western brown Mitsubishi terrier. Up...</td>\n",
       "      <td>0</td>\n",
       "      <td>{'contributors_enabled': False, 'created_at': ...</td>\n",
       "    </tr>\n",
       "    <tr>\n",
       "      <th>1991-02-08 17:16:52.701032449</th>\n",
       "      <td>NaN</td>\n",
       "      <td>NaN</td>\n",
       "      <td>2015-11-15 23:21:54</td>\n",
       "      <td>{'hashtags': [], 'media': [{'display_url': 'pi...</td>\n",
       "      <td>{'media': [{'display_url': 'pic.twitter.com/y6...</td>\n",
       "      <td>125</td>\n",
       "      <td>0</td>\n",
       "      <td>NaN</td>\n",
       "      <td>666033412701032448</td>\n",
       "      <td>666033412701032448</td>\n",
       "      <td>...</td>\n",
       "      <td>NaN</td>\n",
       "      <td>NaN</td>\n",
       "      <td>NaN</td>\n",
       "      <td>44</td>\n",
       "      <td>0</td>\n",
       "      <td>NaN</td>\n",
       "      <td>&lt;a href=\"http://twitter.com/download/iphone\" r...</td>\n",
       "      <td>Here is a very happy pup. Big fan of well-main...</td>\n",
       "      <td>0</td>\n",
       "      <td>{'contributors_enabled': False, 'created_at': ...</td>\n",
       "    </tr>\n",
       "    <tr>\n",
       "      <th>1991-02-08 20:17:06.329800704</th>\n",
       "      <td>NaN</td>\n",
       "      <td>NaN</td>\n",
       "      <td>2015-11-16 00:04:52</td>\n",
       "      <td>{'hashtags': [], 'media': [{'display_url': 'pi...</td>\n",
       "      <td>{'media': [{'display_url': 'pic.twitter.com/DW...</td>\n",
       "      <td>299</td>\n",
       "      <td>0</td>\n",
       "      <td>NaN</td>\n",
       "      <td>666044226329800704</td>\n",
       "      <td>666044226329800704</td>\n",
       "      <td>...</td>\n",
       "      <td>NaN</td>\n",
       "      <td>NaN</td>\n",
       "      <td>NaN</td>\n",
       "      <td>141</td>\n",
       "      <td>0</td>\n",
       "      <td>NaN</td>\n",
       "      <td>&lt;a href=\"http://twitter.com/download/iphone\" r...</td>\n",
       "      <td>This is a purebred Piers Morgan. Loves to Netf...</td>\n",
       "      <td>0</td>\n",
       "      <td>{'contributors_enabled': False, 'created_at': ...</td>\n",
       "    </tr>\n",
       "    <tr>\n",
       "      <th>1991-02-08 21:40:48.165822465</th>\n",
       "      <td>NaN</td>\n",
       "      <td>NaN</td>\n",
       "      <td>2015-11-16 00:24:50</td>\n",
       "      <td>{'hashtags': [], 'media': [{'display_url': 'pi...</td>\n",
       "      <td>{'media': [{'display_url': 'pic.twitter.com/4B...</td>\n",
       "      <td>109</td>\n",
       "      <td>0</td>\n",
       "      <td>NaN</td>\n",
       "      <td>666049248165822464</td>\n",
       "      <td>666049248165822464</td>\n",
       "      <td>...</td>\n",
       "      <td>NaN</td>\n",
       "      <td>NaN</td>\n",
       "      <td>NaN</td>\n",
       "      <td>40</td>\n",
       "      <td>0</td>\n",
       "      <td>NaN</td>\n",
       "      <td>&lt;a href=\"http://twitter.com/download/iphone\" r...</td>\n",
       "      <td>Here we have a 1949 1st generation vulpix. Enj...</td>\n",
       "      <td>0</td>\n",
       "      <td>{'contributors_enabled': False, 'created_at': ...</td>\n",
       "    </tr>\n",
       "  </tbody>\n",
       "</table>\n",
       "<p>5 rows × 30 columns</p>\n",
       "</div>"
      ],
      "text/plain": [
       "                               contributors  coordinates          created_at  \\\n",
       "1991-02-08 13:48:08.022790149           NaN          NaN 2015-11-15 22:32:08   \n",
       "1991-02-08 16:08:05.002620928           NaN          NaN 2015-11-15 23:05:30   \n",
       "1991-02-08 17:16:52.701032449           NaN          NaN 2015-11-15 23:21:54   \n",
       "1991-02-08 20:17:06.329800704           NaN          NaN 2015-11-16 00:04:52   \n",
       "1991-02-08 21:40:48.165822465           NaN          NaN 2015-11-16 00:24:50   \n",
       "\n",
       "                                                                        entities  \\\n",
       "1991-02-08 13:48:08.022790149  {'hashtags': [], 'media': [{'display_url': 'pi...   \n",
       "1991-02-08 16:08:05.002620928  {'hashtags': [], 'media': [{'display_url': 'pi...   \n",
       "1991-02-08 17:16:52.701032449  {'hashtags': [], 'media': [{'display_url': 'pi...   \n",
       "1991-02-08 20:17:06.329800704  {'hashtags': [], 'media': [{'display_url': 'pi...   \n",
       "1991-02-08 21:40:48.165822465  {'hashtags': [], 'media': [{'display_url': 'pi...   \n",
       "\n",
       "                                                               extended_entities  \\\n",
       "1991-02-08 13:48:08.022790149  {'media': [{'display_url': 'pic.twitter.com/BL...   \n",
       "1991-02-08 16:08:05.002620928  {'media': [{'display_url': 'pic.twitter.com/r7...   \n",
       "1991-02-08 17:16:52.701032449  {'media': [{'display_url': 'pic.twitter.com/y6...   \n",
       "1991-02-08 20:17:06.329800704  {'media': [{'display_url': 'pic.twitter.com/DW...   \n",
       "1991-02-08 21:40:48.165822465  {'media': [{'display_url': 'pic.twitter.com/4B...   \n",
       "\n",
       "                               favorite_count  favorited  geo  \\\n",
       "1991-02-08 13:48:08.022790149            2555          0  NaN   \n",
       "1991-02-08 16:08:05.002620928             129          0  NaN   \n",
       "1991-02-08 17:16:52.701032449             125          0  NaN   \n",
       "1991-02-08 20:17:06.329800704             299          0  NaN   \n",
       "1991-02-08 21:40:48.165822465             109          0  NaN   \n",
       "\n",
       "                                               id              id_str  \\\n",
       "1991-02-08 13:48:08.022790149  666020888022790144  666020888022790144   \n",
       "1991-02-08 16:08:05.002620928  666029285002620928  666029285002620928   \n",
       "1991-02-08 17:16:52.701032449  666033412701032448  666033412701032448   \n",
       "1991-02-08 20:17:06.329800704  666044226329800704  666044226329800704   \n",
       "1991-02-08 21:40:48.165822465  666049248165822464  666049248165822464   \n",
       "\n",
       "                                                     ...                          \\\n",
       "1991-02-08 13:48:08.022790149                        ...                           \n",
       "1991-02-08 16:08:05.002620928                        ...                           \n",
       "1991-02-08 17:16:52.701032449                        ...                           \n",
       "1991-02-08 20:17:06.329800704                        ...                           \n",
       "1991-02-08 21:40:48.165822465                        ...                           \n",
       "\n",
       "                              quoted_status  quoted_status_id  \\\n",
       "1991-02-08 13:48:08.022790149           NaN               NaN   \n",
       "1991-02-08 16:08:05.002620928           NaN               NaN   \n",
       "1991-02-08 17:16:52.701032449           NaN               NaN   \n",
       "1991-02-08 20:17:06.329800704           NaN               NaN   \n",
       "1991-02-08 21:40:48.165822465           NaN               NaN   \n",
       "\n",
       "                               quoted_status_id_str  retweet_count  retweeted  \\\n",
       "1991-02-08 13:48:08.022790149                   NaN            517          0   \n",
       "1991-02-08 16:08:05.002620928                   NaN             46          0   \n",
       "1991-02-08 17:16:52.701032449                   NaN             44          0   \n",
       "1991-02-08 20:17:06.329800704                   NaN            141          0   \n",
       "1991-02-08 21:40:48.165822465                   NaN             40          0   \n",
       "\n",
       "                               retweeted_status  \\\n",
       "1991-02-08 13:48:08.022790149               NaN   \n",
       "1991-02-08 16:08:05.002620928               NaN   \n",
       "1991-02-08 17:16:52.701032449               NaN   \n",
       "1991-02-08 20:17:06.329800704               NaN   \n",
       "1991-02-08 21:40:48.165822465               NaN   \n",
       "\n",
       "                                                                          source  \\\n",
       "1991-02-08 13:48:08.022790149  <a href=\"http://twitter.com/download/iphone\" r...   \n",
       "1991-02-08 16:08:05.002620928  <a href=\"http://twitter.com/download/iphone\" r...   \n",
       "1991-02-08 17:16:52.701032449  <a href=\"http://twitter.com/download/iphone\" r...   \n",
       "1991-02-08 20:17:06.329800704  <a href=\"http://twitter.com/download/iphone\" r...   \n",
       "1991-02-08 21:40:48.165822465  <a href=\"http://twitter.com/download/iphone\" r...   \n",
       "\n",
       "                                                                            text  \\\n",
       "1991-02-08 13:48:08.022790149  Here we have a Japanese Irish Setter. Lost eye...   \n",
       "1991-02-08 16:08:05.002620928  This is a western brown Mitsubishi terrier. Up...   \n",
       "1991-02-08 17:16:52.701032449  Here is a very happy pup. Big fan of well-main...   \n",
       "1991-02-08 20:17:06.329800704  This is a purebred Piers Morgan. Loves to Netf...   \n",
       "1991-02-08 21:40:48.165822465  Here we have a 1949 1st generation vulpix. Enj...   \n",
       "\n",
       "                               truncated  \\\n",
       "1991-02-08 13:48:08.022790149          0   \n",
       "1991-02-08 16:08:05.002620928          0   \n",
       "1991-02-08 17:16:52.701032449          0   \n",
       "1991-02-08 20:17:06.329800704          0   \n",
       "1991-02-08 21:40:48.165822465          0   \n",
       "\n",
       "                                                                            user  \n",
       "1991-02-08 13:48:08.022790149  {'contributors_enabled': False, 'created_at': ...  \n",
       "1991-02-08 16:08:05.002620928  {'contributors_enabled': False, 'created_at': ...  \n",
       "1991-02-08 17:16:52.701032449  {'contributors_enabled': False, 'created_at': ...  \n",
       "1991-02-08 20:17:06.329800704  {'contributors_enabled': False, 'created_at': ...  \n",
       "1991-02-08 21:40:48.165822465  {'contributors_enabled': False, 'created_at': ...  \n",
       "\n",
       "[5 rows x 30 columns]"
      ]
     },
     "execution_count": 674,
     "metadata": {},
     "output_type": "execute_result"
    }
   ],
   "source": [
    "tweet_df.head()"
   ]
  },
  {
   "cell_type": "markdown",
   "metadata": {},
   "source": [
    "## Assess"
   ]
  },
  {
   "cell_type": "markdown",
   "metadata": {},
   "source": [
    "3 datasets will be assessed:  \n",
    "df - given dataset  \n",
    "pred - Machine Learning predictions of what is in the pictures  \n",
    "tweet_df - The tweet_id's from df has been used to download the remaining information on these provided tweets  \n",
    "  \n",
    "The overall assessment of data can be found in the bottom of this section"
   ]
  },
  {
   "cell_type": "markdown",
   "metadata": {},
   "source": [
    "### df"
   ]
  },
  {
   "cell_type": "code",
   "execution_count": 675,
   "metadata": {},
   "outputs": [
    {
     "data": {
      "text/html": [
       "<div>\n",
       "<style>\n",
       "    .dataframe thead tr:only-child th {\n",
       "        text-align: right;\n",
       "    }\n",
       "\n",
       "    .dataframe thead th {\n",
       "        text-align: left;\n",
       "    }\n",
       "\n",
       "    .dataframe tbody tr th {\n",
       "        vertical-align: top;\n",
       "    }\n",
       "</style>\n",
       "<table border=\"1\" class=\"dataframe\">\n",
       "  <thead>\n",
       "    <tr style=\"text-align: right;\">\n",
       "      <th></th>\n",
       "      <th>tweet_id</th>\n",
       "      <th>in_reply_to_status_id</th>\n",
       "      <th>in_reply_to_user_id</th>\n",
       "      <th>timestamp</th>\n",
       "      <th>source</th>\n",
       "      <th>text</th>\n",
       "      <th>retweeted_status_id</th>\n",
       "      <th>retweeted_status_user_id</th>\n",
       "      <th>retweeted_status_timestamp</th>\n",
       "      <th>expanded_urls</th>\n",
       "      <th>rating_numerator</th>\n",
       "      <th>rating_denominator</th>\n",
       "      <th>name</th>\n",
       "      <th>doggo</th>\n",
       "      <th>floofer</th>\n",
       "      <th>pupper</th>\n",
       "      <th>puppo</th>\n",
       "    </tr>\n",
       "  </thead>\n",
       "  <tbody>\n",
       "    <tr>\n",
       "      <th>767</th>\n",
       "      <td>777641927919427584</td>\n",
       "      <td>NaN</td>\n",
       "      <td>NaN</td>\n",
       "      <td>2016-09-18 22:54:18 +0000</td>\n",
       "      <td>&lt;a href=\"http://twitter.com/download/iphone\" r...</td>\n",
       "      <td>RT @dog_rates: This is Arnie. He's a Nova Scot...</td>\n",
       "      <td>7.504293e+17</td>\n",
       "      <td>4.196984e+09</td>\n",
       "      <td>2016-07-05 20:41:01 +0000</td>\n",
       "      <td>https://twitter.com/dog_rates/status/750429297...</td>\n",
       "      <td>12</td>\n",
       "      <td>10</td>\n",
       "      <td>Arnie</td>\n",
       "      <td>None</td>\n",
       "      <td>None</td>\n",
       "      <td>None</td>\n",
       "      <td>None</td>\n",
       "    </tr>\n",
       "    <tr>\n",
       "      <th>593</th>\n",
       "      <td>798925684722855936</td>\n",
       "      <td>NaN</td>\n",
       "      <td>NaN</td>\n",
       "      <td>2016-11-16 16:28:21 +0000</td>\n",
       "      <td>&lt;a href=\"http://twitter.com/download/iphone\" r...</td>\n",
       "      <td>This is Shadow. He's a firm believer that they...</td>\n",
       "      <td>NaN</td>\n",
       "      <td>NaN</td>\n",
       "      <td>NaN</td>\n",
       "      <td>https://twitter.com/dog_rates/status/798925684...</td>\n",
       "      <td>11</td>\n",
       "      <td>10</td>\n",
       "      <td>Shadow</td>\n",
       "      <td>None</td>\n",
       "      <td>None</td>\n",
       "      <td>None</td>\n",
       "      <td>None</td>\n",
       "    </tr>\n",
       "    <tr>\n",
       "      <th>32</th>\n",
       "      <td>886054160059072513</td>\n",
       "      <td>NaN</td>\n",
       "      <td>NaN</td>\n",
       "      <td>2017-07-15 02:45:48 +0000</td>\n",
       "      <td>&lt;a href=\"http://twitter.com/download/iphone\" r...</td>\n",
       "      <td>RT @Athletics: 12/10 #BATP https://t.co/WxwJmv...</td>\n",
       "      <td>8.860537e+17</td>\n",
       "      <td>1.960740e+07</td>\n",
       "      <td>2017-07-15 02:44:07 +0000</td>\n",
       "      <td>https://twitter.com/dog_rates/status/886053434...</td>\n",
       "      <td>12</td>\n",
       "      <td>10</td>\n",
       "      <td>None</td>\n",
       "      <td>None</td>\n",
       "      <td>None</td>\n",
       "      <td>None</td>\n",
       "      <td>None</td>\n",
       "    </tr>\n",
       "    <tr>\n",
       "      <th>256</th>\n",
       "      <td>843981021012017153</td>\n",
       "      <td>NaN</td>\n",
       "      <td>NaN</td>\n",
       "      <td>2017-03-21 00:22:10 +0000</td>\n",
       "      <td>&lt;a href=\"http://twitter.com/download/iphone\" r...</td>\n",
       "      <td>HE WAS DOING A SNOOZE NO SHAME IN A SNOOZE 13/...</td>\n",
       "      <td>NaN</td>\n",
       "      <td>NaN</td>\n",
       "      <td>NaN</td>\n",
       "      <td>https://twitter.com/brianstack153/status/79679...</td>\n",
       "      <td>13</td>\n",
       "      <td>10</td>\n",
       "      <td>None</td>\n",
       "      <td>None</td>\n",
       "      <td>None</td>\n",
       "      <td>None</td>\n",
       "      <td>None</td>\n",
       "    </tr>\n",
       "    <tr>\n",
       "      <th>695</th>\n",
       "      <td>786709082849828864</td>\n",
       "      <td>NaN</td>\n",
       "      <td>NaN</td>\n",
       "      <td>2016-10-13 23:23:56 +0000</td>\n",
       "      <td>&lt;a href=\"http://twitter.com/download/iphone\" r...</td>\n",
       "      <td>This is Logan, the Chow who lived. He solemnly...</td>\n",
       "      <td>NaN</td>\n",
       "      <td>NaN</td>\n",
       "      <td>NaN</td>\n",
       "      <td>https://twitter.com/dog_rates/status/786709082...</td>\n",
       "      <td>75</td>\n",
       "      <td>10</td>\n",
       "      <td>Logan</td>\n",
       "      <td>None</td>\n",
       "      <td>None</td>\n",
       "      <td>None</td>\n",
       "      <td>None</td>\n",
       "    </tr>\n",
       "  </tbody>\n",
       "</table>\n",
       "</div>"
      ],
      "text/plain": [
       "               tweet_id  in_reply_to_status_id  in_reply_to_user_id  \\\n",
       "767  777641927919427584                    NaN                  NaN   \n",
       "593  798925684722855936                    NaN                  NaN   \n",
       "32   886054160059072513                    NaN                  NaN   \n",
       "256  843981021012017153                    NaN                  NaN   \n",
       "695  786709082849828864                    NaN                  NaN   \n",
       "\n",
       "                     timestamp  \\\n",
       "767  2016-09-18 22:54:18 +0000   \n",
       "593  2016-11-16 16:28:21 +0000   \n",
       "32   2017-07-15 02:45:48 +0000   \n",
       "256  2017-03-21 00:22:10 +0000   \n",
       "695  2016-10-13 23:23:56 +0000   \n",
       "\n",
       "                                                source  \\\n",
       "767  <a href=\"http://twitter.com/download/iphone\" r...   \n",
       "593  <a href=\"http://twitter.com/download/iphone\" r...   \n",
       "32   <a href=\"http://twitter.com/download/iphone\" r...   \n",
       "256  <a href=\"http://twitter.com/download/iphone\" r...   \n",
       "695  <a href=\"http://twitter.com/download/iphone\" r...   \n",
       "\n",
       "                                                  text  retweeted_status_id  \\\n",
       "767  RT @dog_rates: This is Arnie. He's a Nova Scot...         7.504293e+17   \n",
       "593  This is Shadow. He's a firm believer that they...                  NaN   \n",
       "32   RT @Athletics: 12/10 #BATP https://t.co/WxwJmv...         8.860537e+17   \n",
       "256  HE WAS DOING A SNOOZE NO SHAME IN A SNOOZE 13/...                  NaN   \n",
       "695  This is Logan, the Chow who lived. He solemnly...                  NaN   \n",
       "\n",
       "     retweeted_status_user_id retweeted_status_timestamp  \\\n",
       "767              4.196984e+09  2016-07-05 20:41:01 +0000   \n",
       "593                       NaN                        NaN   \n",
       "32               1.960740e+07  2017-07-15 02:44:07 +0000   \n",
       "256                       NaN                        NaN   \n",
       "695                       NaN                        NaN   \n",
       "\n",
       "                                         expanded_urls  rating_numerator  \\\n",
       "767  https://twitter.com/dog_rates/status/750429297...                12   \n",
       "593  https://twitter.com/dog_rates/status/798925684...                11   \n",
       "32   https://twitter.com/dog_rates/status/886053434...                12   \n",
       "256  https://twitter.com/brianstack153/status/79679...                13   \n",
       "695  https://twitter.com/dog_rates/status/786709082...                75   \n",
       "\n",
       "     rating_denominator    name doggo floofer pupper puppo  \n",
       "767                  10   Arnie  None    None   None  None  \n",
       "593                  10  Shadow  None    None   None  None  \n",
       "32                   10    None  None    None   None  None  \n",
       "256                  10    None  None    None   None  None  \n",
       "695                  10   Logan  None    None   None  None  "
      ]
     },
     "execution_count": 675,
     "metadata": {},
     "output_type": "execute_result"
    }
   ],
   "source": [
    "df.sample(5)"
   ]
  },
  {
   "cell_type": "code",
   "execution_count": 749,
   "metadata": {},
   "outputs": [
    {
     "name": "stdout",
     "output_type": "stream",
     "text": [
      " The text: This is Logan, the Chow who lived. He solemnly swears he's up to lots of good. H*ckin magical af 9.75/10 https://t.co/yBO5wuqaPS \n",
      " The grade in rating_numerator: 75.0 \n",
      "\n"
     ]
    }
   ],
   "source": [
    "print (\" The text: %s \\n The grade in rating_numerator: %.1f \\n\" % (df['text'].ix[695], df['rating_numerator'].ix[695]))"
   ]
  },
  {
   "cell_type": "markdown",
   "metadata": {},
   "source": [
    "Amount of mentions of \"doggo\", \"floofer\", \"pupper\",\"puppo\""
   ]
  },
  {
   "cell_type": "code",
   "execution_count": 677,
   "metadata": {},
   "outputs": [
    {
     "data": {
      "text/plain": [
       "None     2259\n",
       "doggo      97\n",
       "Name: doggo, dtype: int64"
      ]
     },
     "execution_count": 677,
     "metadata": {},
     "output_type": "execute_result"
    }
   ],
   "source": [
    "df.doggo.value_counts()"
   ]
  },
  {
   "cell_type": "code",
   "execution_count": 678,
   "metadata": {},
   "outputs": [
    {
     "data": {
      "text/plain": [
       "None       2346\n",
       "floofer      10\n",
       "Name: floofer, dtype: int64"
      ]
     },
     "execution_count": 678,
     "metadata": {},
     "output_type": "execute_result"
    }
   ],
   "source": [
    "df.floofer.value_counts()"
   ]
  },
  {
   "cell_type": "code",
   "execution_count": 679,
   "metadata": {},
   "outputs": [
    {
     "data": {
      "text/plain": [
       "None      2099\n",
       "pupper     257\n",
       "Name: pupper, dtype: int64"
      ]
     },
     "execution_count": 679,
     "metadata": {},
     "output_type": "execute_result"
    }
   ],
   "source": [
    "df.pupper.value_counts()"
   ]
  },
  {
   "cell_type": "code",
   "execution_count": 680,
   "metadata": {},
   "outputs": [
    {
     "data": {
      "text/plain": [
       "None     2326\n",
       "puppo      30\n",
       "Name: puppo, dtype: int64"
      ]
     },
     "execution_count": 680,
     "metadata": {},
     "output_type": "execute_result"
    }
   ],
   "source": [
    "df.puppo.value_counts()"
   ]
  },
  {
   "cell_type": "markdown",
   "metadata": {},
   "source": [
    "Pupper is by far the most popular"
   ]
  },
  {
   "cell_type": "code",
   "execution_count": 681,
   "metadata": {},
   "outputs": [
    {
     "name": "stdout",
     "output_type": "stream",
     "text": [
      "<class 'pandas.core.frame.DataFrame'>\n",
      "RangeIndex: 2356 entries, 0 to 2355\n",
      "Data columns (total 17 columns):\n",
      "tweet_id                      2356 non-null int64\n",
      "in_reply_to_status_id         78 non-null float64\n",
      "in_reply_to_user_id           78 non-null float64\n",
      "timestamp                     2356 non-null object\n",
      "source                        2356 non-null object\n",
      "text                          2356 non-null object\n",
      "retweeted_status_id           181 non-null float64\n",
      "retweeted_status_user_id      181 non-null float64\n",
      "retweeted_status_timestamp    181 non-null object\n",
      "expanded_urls                 2297 non-null object\n",
      "rating_numerator              2356 non-null int64\n",
      "rating_denominator            2356 non-null int64\n",
      "name                          2356 non-null object\n",
      "doggo                         2356 non-null object\n",
      "floofer                       2356 non-null object\n",
      "pupper                        2356 non-null object\n",
      "puppo                         2356 non-null object\n",
      "dtypes: float64(4), int64(3), object(10)\n",
      "memory usage: 313.0+ KB\n"
     ]
    }
   ],
   "source": [
    "df.info()"
   ]
  },
  {
   "cell_type": "markdown",
   "metadata": {},
   "source": [
    "timestamp, retweeted_status_timestamp -> object  \n",
    "tweet_id could be object instead of integer/float  "
   ]
  },
  {
   "cell_type": "code",
   "execution_count": 682,
   "metadata": {},
   "outputs": [
    {
     "data": {
      "text/html": [
       "<div>\n",
       "<style>\n",
       "    .dataframe thead tr:only-child th {\n",
       "        text-align: right;\n",
       "    }\n",
       "\n",
       "    .dataframe thead th {\n",
       "        text-align: left;\n",
       "    }\n",
       "\n",
       "    .dataframe tbody tr th {\n",
       "        vertical-align: top;\n",
       "    }\n",
       "</style>\n",
       "<table border=\"1\" class=\"dataframe\">\n",
       "  <thead>\n",
       "    <tr style=\"text-align: right;\">\n",
       "      <th></th>\n",
       "      <th>tweet_id</th>\n",
       "      <th>in_reply_to_status_id</th>\n",
       "      <th>in_reply_to_user_id</th>\n",
       "      <th>retweeted_status_id</th>\n",
       "      <th>retweeted_status_user_id</th>\n",
       "      <th>rating_numerator</th>\n",
       "      <th>rating_denominator</th>\n",
       "    </tr>\n",
       "  </thead>\n",
       "  <tbody>\n",
       "    <tr>\n",
       "      <th>count</th>\n",
       "      <td>2.356000e+03</td>\n",
       "      <td>7.800000e+01</td>\n",
       "      <td>7.800000e+01</td>\n",
       "      <td>1.810000e+02</td>\n",
       "      <td>1.810000e+02</td>\n",
       "      <td>2356.000000</td>\n",
       "      <td>2356.000000</td>\n",
       "    </tr>\n",
       "    <tr>\n",
       "      <th>mean</th>\n",
       "      <td>7.427716e+17</td>\n",
       "      <td>7.455079e+17</td>\n",
       "      <td>2.014171e+16</td>\n",
       "      <td>7.720400e+17</td>\n",
       "      <td>1.241698e+16</td>\n",
       "      <td>13.126486</td>\n",
       "      <td>10.455433</td>\n",
       "    </tr>\n",
       "    <tr>\n",
       "      <th>std</th>\n",
       "      <td>6.856705e+16</td>\n",
       "      <td>7.582492e+16</td>\n",
       "      <td>1.252797e+17</td>\n",
       "      <td>6.236928e+16</td>\n",
       "      <td>9.599254e+16</td>\n",
       "      <td>45.876648</td>\n",
       "      <td>6.745237</td>\n",
       "    </tr>\n",
       "    <tr>\n",
       "      <th>min</th>\n",
       "      <td>6.660209e+17</td>\n",
       "      <td>6.658147e+17</td>\n",
       "      <td>1.185634e+07</td>\n",
       "      <td>6.661041e+17</td>\n",
       "      <td>7.832140e+05</td>\n",
       "      <td>0.000000</td>\n",
       "      <td>0.000000</td>\n",
       "    </tr>\n",
       "    <tr>\n",
       "      <th>25%</th>\n",
       "      <td>6.783989e+17</td>\n",
       "      <td>6.757419e+17</td>\n",
       "      <td>3.086374e+08</td>\n",
       "      <td>7.186315e+17</td>\n",
       "      <td>4.196984e+09</td>\n",
       "      <td>10.000000</td>\n",
       "      <td>10.000000</td>\n",
       "    </tr>\n",
       "    <tr>\n",
       "      <th>50%</th>\n",
       "      <td>7.196279e+17</td>\n",
       "      <td>7.038708e+17</td>\n",
       "      <td>4.196984e+09</td>\n",
       "      <td>7.804657e+17</td>\n",
       "      <td>4.196984e+09</td>\n",
       "      <td>11.000000</td>\n",
       "      <td>10.000000</td>\n",
       "    </tr>\n",
       "    <tr>\n",
       "      <th>75%</th>\n",
       "      <td>7.993373e+17</td>\n",
       "      <td>8.257804e+17</td>\n",
       "      <td>4.196984e+09</td>\n",
       "      <td>8.203146e+17</td>\n",
       "      <td>4.196984e+09</td>\n",
       "      <td>12.000000</td>\n",
       "      <td>10.000000</td>\n",
       "    </tr>\n",
       "    <tr>\n",
       "      <th>max</th>\n",
       "      <td>8.924206e+17</td>\n",
       "      <td>8.862664e+17</td>\n",
       "      <td>8.405479e+17</td>\n",
       "      <td>8.874740e+17</td>\n",
       "      <td>7.874618e+17</td>\n",
       "      <td>1776.000000</td>\n",
       "      <td>170.000000</td>\n",
       "    </tr>\n",
       "  </tbody>\n",
       "</table>\n",
       "</div>"
      ],
      "text/plain": [
       "           tweet_id  in_reply_to_status_id  in_reply_to_user_id  \\\n",
       "count  2.356000e+03           7.800000e+01         7.800000e+01   \n",
       "mean   7.427716e+17           7.455079e+17         2.014171e+16   \n",
       "std    6.856705e+16           7.582492e+16         1.252797e+17   \n",
       "min    6.660209e+17           6.658147e+17         1.185634e+07   \n",
       "25%    6.783989e+17           6.757419e+17         3.086374e+08   \n",
       "50%    7.196279e+17           7.038708e+17         4.196984e+09   \n",
       "75%    7.993373e+17           8.257804e+17         4.196984e+09   \n",
       "max    8.924206e+17           8.862664e+17         8.405479e+17   \n",
       "\n",
       "       retweeted_status_id  retweeted_status_user_id  rating_numerator  \\\n",
       "count         1.810000e+02              1.810000e+02       2356.000000   \n",
       "mean          7.720400e+17              1.241698e+16         13.126486   \n",
       "std           6.236928e+16              9.599254e+16         45.876648   \n",
       "min           6.661041e+17              7.832140e+05          0.000000   \n",
       "25%           7.186315e+17              4.196984e+09         10.000000   \n",
       "50%           7.804657e+17              4.196984e+09         11.000000   \n",
       "75%           8.203146e+17              4.196984e+09         12.000000   \n",
       "max           8.874740e+17              7.874618e+17       1776.000000   \n",
       "\n",
       "       rating_denominator  \n",
       "count         2356.000000  \n",
       "mean            10.455433  \n",
       "std              6.745237  \n",
       "min              0.000000  \n",
       "25%             10.000000  \n",
       "50%             10.000000  \n",
       "75%             10.000000  \n",
       "max            170.000000  "
      ]
     },
     "execution_count": 682,
     "metadata": {},
     "output_type": "execute_result"
    }
   ],
   "source": [
    "df.describe()"
   ]
  },
  {
   "cell_type": "markdown",
   "metadata": {},
   "source": [
    "rating_numerator has values below 10  \n",
    "rating_denominator has values different from 10 (range 0-170)"
   ]
  },
  {
   "cell_type": "code",
   "execution_count": 683,
   "metadata": {},
   "outputs": [
    {
     "data": {
      "text/plain": [
       "0"
      ]
     },
     "execution_count": 683,
     "metadata": {},
     "output_type": "execute_result"
    }
   ],
   "source": [
    "sum(df.duplicated())"
   ]
  },
  {
   "cell_type": "markdown",
   "metadata": {},
   "source": [
    "### pred"
   ]
  },
  {
   "cell_type": "code",
   "execution_count": 684,
   "metadata": {},
   "outputs": [
    {
     "data": {
      "text/html": [
       "<div>\n",
       "<style>\n",
       "    .dataframe thead tr:only-child th {\n",
       "        text-align: right;\n",
       "    }\n",
       "\n",
       "    .dataframe thead th {\n",
       "        text-align: left;\n",
       "    }\n",
       "\n",
       "    .dataframe tbody tr th {\n",
       "        vertical-align: top;\n",
       "    }\n",
       "</style>\n",
       "<table border=\"1\" class=\"dataframe\">\n",
       "  <thead>\n",
       "    <tr style=\"text-align: right;\">\n",
       "      <th></th>\n",
       "      <th>tweet_id</th>\n",
       "      <th>jpg_url</th>\n",
       "      <th>img_num</th>\n",
       "      <th>p1</th>\n",
       "      <th>p1_conf</th>\n",
       "      <th>p1_dog</th>\n",
       "      <th>p2</th>\n",
       "      <th>p2_conf</th>\n",
       "      <th>p2_dog</th>\n",
       "      <th>p3</th>\n",
       "      <th>p3_conf</th>\n",
       "      <th>p3_dog</th>\n",
       "    </tr>\n",
       "  </thead>\n",
       "  <tbody>\n",
       "    <tr>\n",
       "      <th>2014</th>\n",
       "      <td>879415818425184262</td>\n",
       "      <td>https://pbs.twimg.com/ext_tw_video_thumb/87941...</td>\n",
       "      <td>1</td>\n",
       "      <td>English_springer</td>\n",
       "      <td>0.383404</td>\n",
       "      <td>True</td>\n",
       "      <td>Boston_bull</td>\n",
       "      <td>0.134967</td>\n",
       "      <td>True</td>\n",
       "      <td>Cardigan</td>\n",
       "      <td>0.110481</td>\n",
       "      <td>True</td>\n",
       "    </tr>\n",
       "    <tr>\n",
       "      <th>629</th>\n",
       "      <td>680913438424612864</td>\n",
       "      <td>https://pbs.twimg.com/media/CXMXKKHUMAA1QN3.jpg</td>\n",
       "      <td>1</td>\n",
       "      <td>Pomeranian</td>\n",
       "      <td>0.615678</td>\n",
       "      <td>True</td>\n",
       "      <td>golden_retriever</td>\n",
       "      <td>0.126455</td>\n",
       "      <td>True</td>\n",
       "      <td>Chihuahua</td>\n",
       "      <td>0.087184</td>\n",
       "      <td>True</td>\n",
       "    </tr>\n",
       "    <tr>\n",
       "      <th>747</th>\n",
       "      <td>687704180304273409</td>\n",
       "      <td>https://pbs.twimg.com/media/CYs3TKzUAAAF9A2.jpg</td>\n",
       "      <td>1</td>\n",
       "      <td>miniature_pinscher</td>\n",
       "      <td>0.956063</td>\n",
       "      <td>True</td>\n",
       "      <td>toy_terrier</td>\n",
       "      <td>0.012231</td>\n",
       "      <td>True</td>\n",
       "      <td>Chihuahua</td>\n",
       "      <td>0.005397</td>\n",
       "      <td>True</td>\n",
       "    </tr>\n",
       "    <tr>\n",
       "      <th>1361</th>\n",
       "      <td>761227390836215808</td>\n",
       "      <td>https://pbs.twimg.com/media/CpBsRleW8AEfO8G.jpg</td>\n",
       "      <td>1</td>\n",
       "      <td>cougar</td>\n",
       "      <td>0.306512</td>\n",
       "      <td>False</td>\n",
       "      <td>French_bulldog</td>\n",
       "      <td>0.280802</td>\n",
       "      <td>True</td>\n",
       "      <td>boxer</td>\n",
       "      <td>0.054523</td>\n",
       "      <td>True</td>\n",
       "    </tr>\n",
       "    <tr>\n",
       "      <th>1545</th>\n",
       "      <td>792050063153438720</td>\n",
       "      <td>https://pbs.twimg.com/media/Cv3tU38WcAASFas.jpg</td>\n",
       "      <td>2</td>\n",
       "      <td>komondor</td>\n",
       "      <td>0.942856</td>\n",
       "      <td>True</td>\n",
       "      <td>swab</td>\n",
       "      <td>0.052715</td>\n",
       "      <td>False</td>\n",
       "      <td>Tibetan_terrier</td>\n",
       "      <td>0.002743</td>\n",
       "      <td>True</td>\n",
       "    </tr>\n",
       "    <tr>\n",
       "      <th>1313</th>\n",
       "      <td>754747087846248448</td>\n",
       "      <td>https://pbs.twimg.com/media/CnlmeL3WgAA4c84.jpg</td>\n",
       "      <td>1</td>\n",
       "      <td>rotisserie</td>\n",
       "      <td>0.471493</td>\n",
       "      <td>False</td>\n",
       "      <td>cash_machine</td>\n",
       "      <td>0.250837</td>\n",
       "      <td>False</td>\n",
       "      <td>sliding_door</td>\n",
       "      <td>0.117872</td>\n",
       "      <td>False</td>\n",
       "    </tr>\n",
       "    <tr>\n",
       "      <th>685</th>\n",
       "      <td>683857920510050305</td>\n",
       "      <td>https://pbs.twimg.com/media/CX2NJmRWYAAxz_5.jpg</td>\n",
       "      <td>1</td>\n",
       "      <td>bluetick</td>\n",
       "      <td>0.174738</td>\n",
       "      <td>True</td>\n",
       "      <td>Shetland_sheepdog</td>\n",
       "      <td>0.126101</td>\n",
       "      <td>True</td>\n",
       "      <td>beagle</td>\n",
       "      <td>0.122887</td>\n",
       "      <td>True</td>\n",
       "    </tr>\n",
       "    <tr>\n",
       "      <th>1878</th>\n",
       "      <td>846153765933735936</td>\n",
       "      <td>https://pbs.twimg.com/media/C74kWqoU8AEaf3v.jpg</td>\n",
       "      <td>1</td>\n",
       "      <td>giant_schnauzer</td>\n",
       "      <td>0.346468</td>\n",
       "      <td>True</td>\n",
       "      <td>flat-coated_retriever</td>\n",
       "      <td>0.218451</td>\n",
       "      <td>True</td>\n",
       "      <td>Labrador_retriever</td>\n",
       "      <td>0.108020</td>\n",
       "      <td>True</td>\n",
       "    </tr>\n",
       "    <tr>\n",
       "      <th>1506</th>\n",
       "      <td>785533386513321988</td>\n",
       "      <td>https://pbs.twimg.com/media/CubGchjXEAA6gpw.jpg</td>\n",
       "      <td>2</td>\n",
       "      <td>miniature_pinscher</td>\n",
       "      <td>0.436023</td>\n",
       "      <td>True</td>\n",
       "      <td>black-and-tan_coonhound</td>\n",
       "      <td>0.258049</td>\n",
       "      <td>True</td>\n",
       "      <td>Rottweiler</td>\n",
       "      <td>0.145231</td>\n",
       "      <td>True</td>\n",
       "    </tr>\n",
       "    <tr>\n",
       "      <th>787</th>\n",
       "      <td>690374419777196032</td>\n",
       "      <td>https://pbs.twimg.com/media/CZSz3vWXEAACElU.jpg</td>\n",
       "      <td>1</td>\n",
       "      <td>kuvasz</td>\n",
       "      <td>0.286345</td>\n",
       "      <td>True</td>\n",
       "      <td>Labrador_retriever</td>\n",
       "      <td>0.107144</td>\n",
       "      <td>True</td>\n",
       "      <td>ice_bear</td>\n",
       "      <td>0.085086</td>\n",
       "      <td>False</td>\n",
       "    </tr>\n",
       "  </tbody>\n",
       "</table>\n",
       "</div>"
      ],
      "text/plain": [
       "                tweet_id                                            jpg_url  \\\n",
       "2014  879415818425184262  https://pbs.twimg.com/ext_tw_video_thumb/87941...   \n",
       "629   680913438424612864    https://pbs.twimg.com/media/CXMXKKHUMAA1QN3.jpg   \n",
       "747   687704180304273409    https://pbs.twimg.com/media/CYs3TKzUAAAF9A2.jpg   \n",
       "1361  761227390836215808    https://pbs.twimg.com/media/CpBsRleW8AEfO8G.jpg   \n",
       "1545  792050063153438720    https://pbs.twimg.com/media/Cv3tU38WcAASFas.jpg   \n",
       "1313  754747087846248448    https://pbs.twimg.com/media/CnlmeL3WgAA4c84.jpg   \n",
       "685   683857920510050305    https://pbs.twimg.com/media/CX2NJmRWYAAxz_5.jpg   \n",
       "1878  846153765933735936    https://pbs.twimg.com/media/C74kWqoU8AEaf3v.jpg   \n",
       "1506  785533386513321988    https://pbs.twimg.com/media/CubGchjXEAA6gpw.jpg   \n",
       "787   690374419777196032    https://pbs.twimg.com/media/CZSz3vWXEAACElU.jpg   \n",
       "\n",
       "      img_num                  p1   p1_conf  p1_dog                       p2  \\\n",
       "2014        1    English_springer  0.383404    True              Boston_bull   \n",
       "629         1          Pomeranian  0.615678    True         golden_retriever   \n",
       "747         1  miniature_pinscher  0.956063    True              toy_terrier   \n",
       "1361        1              cougar  0.306512   False           French_bulldog   \n",
       "1545        2            komondor  0.942856    True                     swab   \n",
       "1313        1          rotisserie  0.471493   False             cash_machine   \n",
       "685         1            bluetick  0.174738    True        Shetland_sheepdog   \n",
       "1878        1     giant_schnauzer  0.346468    True    flat-coated_retriever   \n",
       "1506        2  miniature_pinscher  0.436023    True  black-and-tan_coonhound   \n",
       "787         1              kuvasz  0.286345    True       Labrador_retriever   \n",
       "\n",
       "       p2_conf  p2_dog                  p3   p3_conf  p3_dog  \n",
       "2014  0.134967    True            Cardigan  0.110481    True  \n",
       "629   0.126455    True           Chihuahua  0.087184    True  \n",
       "747   0.012231    True           Chihuahua  0.005397    True  \n",
       "1361  0.280802    True               boxer  0.054523    True  \n",
       "1545  0.052715   False     Tibetan_terrier  0.002743    True  \n",
       "1313  0.250837   False        sliding_door  0.117872   False  \n",
       "685   0.126101    True              beagle  0.122887    True  \n",
       "1878  0.218451    True  Labrador_retriever  0.108020    True  \n",
       "1506  0.258049    True          Rottweiler  0.145231    True  \n",
       "787   0.107144    True            ice_bear  0.085086   False  "
      ]
     },
     "execution_count": 684,
     "metadata": {},
     "output_type": "execute_result"
    }
   ],
   "source": [
    "pred.sample(10)"
   ]
  },
  {
   "cell_type": "markdown",
   "metadata": {},
   "source": [
    "How many dogs are present in the dataset and the different predictions?"
   ]
  },
  {
   "cell_type": "code",
   "execution_count": 685,
   "metadata": {},
   "outputs": [
    {
     "data": {
      "text/plain": [
       "True     1532\n",
       "False     543\n",
       "Name: p1_dog, dtype: int64"
      ]
     },
     "execution_count": 685,
     "metadata": {},
     "output_type": "execute_result"
    }
   ],
   "source": [
    "pred.p1_dog.value_counts()"
   ]
  },
  {
   "cell_type": "code",
   "execution_count": 686,
   "metadata": {},
   "outputs": [
    {
     "data": {
      "text/plain": [
       "True     1553\n",
       "False     522\n",
       "Name: p2_dog, dtype: int64"
      ]
     },
     "execution_count": 686,
     "metadata": {},
     "output_type": "execute_result"
    }
   ],
   "source": [
    "pred.p2_dog.value_counts()"
   ]
  },
  {
   "cell_type": "code",
   "execution_count": 687,
   "metadata": {},
   "outputs": [
    {
     "data": {
      "text/plain": [
       "True     1499\n",
       "False     576\n",
       "Name: p3_dog, dtype: int64"
      ]
     },
     "execution_count": 687,
     "metadata": {},
     "output_type": "execute_result"
    }
   ],
   "source": [
    "pred.p3_dog.value_counts()"
   ]
  },
  {
   "cell_type": "markdown",
   "metadata": {},
   "source": [
    "The machine learning algorithm seems to guess in different categories, as all three guesses are not necessarily dogs"
   ]
  },
  {
   "cell_type": "code",
   "execution_count": 688,
   "metadata": {},
   "outputs": [
    {
     "name": "stdout",
     "output_type": "stream",
     "text": [
      "<class 'pandas.core.frame.DataFrame'>\n",
      "RangeIndex: 2075 entries, 0 to 2074\n",
      "Data columns (total 12 columns):\n",
      "tweet_id    2075 non-null int64\n",
      "jpg_url     2075 non-null object\n",
      "img_num     2075 non-null int64\n",
      "p1          2075 non-null object\n",
      "p1_conf     2075 non-null float64\n",
      "p1_dog      2075 non-null bool\n",
      "p2          2075 non-null object\n",
      "p2_conf     2075 non-null float64\n",
      "p2_dog      2075 non-null bool\n",
      "p3          2075 non-null object\n",
      "p3_conf     2075 non-null float64\n",
      "p3_dog      2075 non-null bool\n",
      "dtypes: bool(3), float64(3), int64(2), object(4)\n",
      "memory usage: 152.1+ KB\n"
     ]
    }
   ],
   "source": [
    "pred.info()"
   ]
  },
  {
   "cell_type": "markdown",
   "metadata": {},
   "source": [
    "tweet_id converted to object  "
   ]
  },
  {
   "cell_type": "code",
   "execution_count": 689,
   "metadata": {},
   "outputs": [
    {
     "data": {
      "text/html": [
       "<div>\n",
       "<style>\n",
       "    .dataframe thead tr:only-child th {\n",
       "        text-align: right;\n",
       "    }\n",
       "\n",
       "    .dataframe thead th {\n",
       "        text-align: left;\n",
       "    }\n",
       "\n",
       "    .dataframe tbody tr th {\n",
       "        vertical-align: top;\n",
       "    }\n",
       "</style>\n",
       "<table border=\"1\" class=\"dataframe\">\n",
       "  <thead>\n",
       "    <tr style=\"text-align: right;\">\n",
       "      <th></th>\n",
       "      <th>tweet_id</th>\n",
       "      <th>img_num</th>\n",
       "      <th>p1_conf</th>\n",
       "      <th>p2_conf</th>\n",
       "      <th>p3_conf</th>\n",
       "    </tr>\n",
       "  </thead>\n",
       "  <tbody>\n",
       "    <tr>\n",
       "      <th>count</th>\n",
       "      <td>2.075000e+03</td>\n",
       "      <td>2075.000000</td>\n",
       "      <td>2075.000000</td>\n",
       "      <td>2.075000e+03</td>\n",
       "      <td>2.075000e+03</td>\n",
       "    </tr>\n",
       "    <tr>\n",
       "      <th>mean</th>\n",
       "      <td>7.384514e+17</td>\n",
       "      <td>1.203855</td>\n",
       "      <td>0.594548</td>\n",
       "      <td>1.345886e-01</td>\n",
       "      <td>6.032417e-02</td>\n",
       "    </tr>\n",
       "    <tr>\n",
       "      <th>std</th>\n",
       "      <td>6.785203e+16</td>\n",
       "      <td>0.561875</td>\n",
       "      <td>0.271174</td>\n",
       "      <td>1.006657e-01</td>\n",
       "      <td>5.090593e-02</td>\n",
       "    </tr>\n",
       "    <tr>\n",
       "      <th>min</th>\n",
       "      <td>6.660209e+17</td>\n",
       "      <td>1.000000</td>\n",
       "      <td>0.044333</td>\n",
       "      <td>1.011300e-08</td>\n",
       "      <td>1.740170e-10</td>\n",
       "    </tr>\n",
       "    <tr>\n",
       "      <th>25%</th>\n",
       "      <td>6.764835e+17</td>\n",
       "      <td>1.000000</td>\n",
       "      <td>0.364412</td>\n",
       "      <td>5.388625e-02</td>\n",
       "      <td>1.622240e-02</td>\n",
       "    </tr>\n",
       "    <tr>\n",
       "      <th>50%</th>\n",
       "      <td>7.119988e+17</td>\n",
       "      <td>1.000000</td>\n",
       "      <td>0.588230</td>\n",
       "      <td>1.181810e-01</td>\n",
       "      <td>4.944380e-02</td>\n",
       "    </tr>\n",
       "    <tr>\n",
       "      <th>75%</th>\n",
       "      <td>7.932034e+17</td>\n",
       "      <td>1.000000</td>\n",
       "      <td>0.843855</td>\n",
       "      <td>1.955655e-01</td>\n",
       "      <td>9.180755e-02</td>\n",
       "    </tr>\n",
       "    <tr>\n",
       "      <th>max</th>\n",
       "      <td>8.924206e+17</td>\n",
       "      <td>4.000000</td>\n",
       "      <td>1.000000</td>\n",
       "      <td>4.880140e-01</td>\n",
       "      <td>2.734190e-01</td>\n",
       "    </tr>\n",
       "  </tbody>\n",
       "</table>\n",
       "</div>"
      ],
      "text/plain": [
       "           tweet_id      img_num      p1_conf       p2_conf       p3_conf\n",
       "count  2.075000e+03  2075.000000  2075.000000  2.075000e+03  2.075000e+03\n",
       "mean   7.384514e+17     1.203855     0.594548  1.345886e-01  6.032417e-02\n",
       "std    6.785203e+16     0.561875     0.271174  1.006657e-01  5.090593e-02\n",
       "min    6.660209e+17     1.000000     0.044333  1.011300e-08  1.740170e-10\n",
       "25%    6.764835e+17     1.000000     0.364412  5.388625e-02  1.622240e-02\n",
       "50%    7.119988e+17     1.000000     0.588230  1.181810e-01  4.944380e-02\n",
       "75%    7.932034e+17     1.000000     0.843855  1.955655e-01  9.180755e-02\n",
       "max    8.924206e+17     4.000000     1.000000  4.880140e-01  2.734190e-01"
      ]
     },
     "execution_count": 689,
     "metadata": {},
     "output_type": "execute_result"
    }
   ],
   "source": [
    "pred.describe()"
   ]
  },
  {
   "cell_type": "code",
   "execution_count": 690,
   "metadata": {},
   "outputs": [
    {
     "data": {
      "text/plain": [
       "0"
      ]
     },
     "execution_count": 690,
     "metadata": {},
     "output_type": "execute_result"
    }
   ],
   "source": [
    "sum(pred.duplicated())"
   ]
  },
  {
   "cell_type": "markdown",
   "metadata": {},
   "source": [
    "### tweet_df"
   ]
  },
  {
   "cell_type": "code",
   "execution_count": 691,
   "metadata": {},
   "outputs": [
    {
     "data": {
      "text/html": [
       "<div>\n",
       "<style>\n",
       "    .dataframe thead tr:only-child th {\n",
       "        text-align: right;\n",
       "    }\n",
       "\n",
       "    .dataframe thead th {\n",
       "        text-align: left;\n",
       "    }\n",
       "\n",
       "    .dataframe tbody tr th {\n",
       "        vertical-align: top;\n",
       "    }\n",
       "</style>\n",
       "<table border=\"1\" class=\"dataframe\">\n",
       "  <thead>\n",
       "    <tr style=\"text-align: right;\">\n",
       "      <th></th>\n",
       "      <th>coordinates</th>\n",
       "      <th>created_at</th>\n",
       "      <th>entities</th>\n",
       "      <th>extended_entities</th>\n",
       "      <th>favorite_count</th>\n",
       "      <th>favorited</th>\n",
       "      <th>geo</th>\n",
       "      <th>id</th>\n",
       "      <th>id_str</th>\n",
       "      <th>in_reply_to_screen_name</th>\n",
       "      <th>in_reply_to_status_id</th>\n",
       "      <th>in_reply_to_status_id_str</th>\n",
       "      <th>in_reply_to_user_id</th>\n",
       "      <th>in_reply_to_user_id_str</th>\n",
       "    </tr>\n",
       "  </thead>\n",
       "  <tbody>\n",
       "    <tr>\n",
       "      <th>1991-07-21 00:17:35.951884288</th>\n",
       "      <td>NaN</td>\n",
       "      <td>2015-12-24 16:00:30</td>\n",
       "      <td>{'hashtags': [], 'media': [{'display_url': 'pi...</td>\n",
       "      <td>{'media': [{'display_url': 'pic.twitter.com/MQ...</td>\n",
       "      <td>17839</td>\n",
       "      <td>0</td>\n",
       "      <td>NaN</td>\n",
       "      <td>680055455951884288</td>\n",
       "      <td>680055455951884288</td>\n",
       "      <td>None</td>\n",
       "      <td>NaN</td>\n",
       "      <td>NaN</td>\n",
       "      <td>NaN</td>\n",
       "      <td>NaN</td>\n",
       "    </tr>\n",
       "    <tr>\n",
       "      <th>1994-11-24 01:15:53.186217984</th>\n",
       "      <td>NaN</td>\n",
       "      <td>2016-10-11 00:34:48</td>\n",
       "      <td>{'hashtags': [], 'symbols': [], 'urls': [{'dis...</td>\n",
       "      <td>NaN</td>\n",
       "      <td>8532</td>\n",
       "      <td>0</td>\n",
       "      <td>NaN</td>\n",
       "      <td>785639753186217984</td>\n",
       "      <td>785639753186217984</td>\n",
       "      <td>None</td>\n",
       "      <td>NaN</td>\n",
       "      <td>NaN</td>\n",
       "      <td>NaN</td>\n",
       "      <td>NaN</td>\n",
       "    </tr>\n",
       "    <tr>\n",
       "      <th>1995-12-01 00:28:06.764523521</th>\n",
       "      <td>NaN</td>\n",
       "      <td>2017-01-07 16:59:28</td>\n",
       "      <td>{'hashtags': [], 'symbols': [], 'urls': [{'dis...</td>\n",
       "      <td>NaN</td>\n",
       "      <td>11613</td>\n",
       "      <td>0</td>\n",
       "      <td>NaN</td>\n",
       "      <td>817777686764523520</td>\n",
       "      <td>817777686764523520</td>\n",
       "      <td>None</td>\n",
       "      <td>NaN</td>\n",
       "      <td>NaN</td>\n",
       "      <td>NaN</td>\n",
       "      <td>NaN</td>\n",
       "    </tr>\n",
       "    <tr>\n",
       "      <th>1996-08-05 10:11:11.831150596</th>\n",
       "      <td>NaN</td>\n",
       "      <td>2017-03-07 22:22:32</td>\n",
       "      <td>{'hashtags': [], 'media': [{'display_url': 'pi...</td>\n",
       "      <td>{'media': [{'display_url': 'pic.twitter.com/JE...</td>\n",
       "      <td>29010</td>\n",
       "      <td>0</td>\n",
       "      <td>NaN</td>\n",
       "      <td>839239871831150592</td>\n",
       "      <td>839239871831150592</td>\n",
       "      <td>None</td>\n",
       "      <td>NaN</td>\n",
       "      <td>NaN</td>\n",
       "      <td>NaN</td>\n",
       "      <td>NaN</td>\n",
       "    </tr>\n",
       "    <tr>\n",
       "      <th>1997-06-03 17:36:33.868664832</th>\n",
       "      <td>NaN</td>\n",
       "      <td>2017-05-19 00:12:11</td>\n",
       "      <td>{'hashtags': [], 'symbols': [], 'urls': [{'dis...</td>\n",
       "      <td>NaN</td>\n",
       "      <td>26955</td>\n",
       "      <td>0</td>\n",
       "      <td>NaN</td>\n",
       "      <td>865359393868664832</td>\n",
       "      <td>865359393868664832</td>\n",
       "      <td>None</td>\n",
       "      <td>NaN</td>\n",
       "      <td>NaN</td>\n",
       "      <td>NaN</td>\n",
       "      <td>NaN</td>\n",
       "    </tr>\n",
       "  </tbody>\n",
       "</table>\n",
       "</div>"
      ],
      "text/plain": [
       "                               coordinates          created_at  \\\n",
       "1991-07-21 00:17:35.951884288          NaN 2015-12-24 16:00:30   \n",
       "1994-11-24 01:15:53.186217984          NaN 2016-10-11 00:34:48   \n",
       "1995-12-01 00:28:06.764523521          NaN 2017-01-07 16:59:28   \n",
       "1996-08-05 10:11:11.831150596          NaN 2017-03-07 22:22:32   \n",
       "1997-06-03 17:36:33.868664832          NaN 2017-05-19 00:12:11   \n",
       "\n",
       "                                                                        entities  \\\n",
       "1991-07-21 00:17:35.951884288  {'hashtags': [], 'media': [{'display_url': 'pi...   \n",
       "1994-11-24 01:15:53.186217984  {'hashtags': [], 'symbols': [], 'urls': [{'dis...   \n",
       "1995-12-01 00:28:06.764523521  {'hashtags': [], 'symbols': [], 'urls': [{'dis...   \n",
       "1996-08-05 10:11:11.831150596  {'hashtags': [], 'media': [{'display_url': 'pi...   \n",
       "1997-06-03 17:36:33.868664832  {'hashtags': [], 'symbols': [], 'urls': [{'dis...   \n",
       "\n",
       "                                                               extended_entities  \\\n",
       "1991-07-21 00:17:35.951884288  {'media': [{'display_url': 'pic.twitter.com/MQ...   \n",
       "1994-11-24 01:15:53.186217984                                                NaN   \n",
       "1995-12-01 00:28:06.764523521                                                NaN   \n",
       "1996-08-05 10:11:11.831150596  {'media': [{'display_url': 'pic.twitter.com/JE...   \n",
       "1997-06-03 17:36:33.868664832                                                NaN   \n",
       "\n",
       "                               favorite_count  favorited  geo  \\\n",
       "1991-07-21 00:17:35.951884288           17839          0  NaN   \n",
       "1994-11-24 01:15:53.186217984            8532          0  NaN   \n",
       "1995-12-01 00:28:06.764523521           11613          0  NaN   \n",
       "1996-08-05 10:11:11.831150596           29010          0  NaN   \n",
       "1997-06-03 17:36:33.868664832           26955          0  NaN   \n",
       "\n",
       "                                               id              id_str  \\\n",
       "1991-07-21 00:17:35.951884288  680055455951884288  680055455951884288   \n",
       "1994-11-24 01:15:53.186217984  785639753186217984  785639753186217984   \n",
       "1995-12-01 00:28:06.764523521  817777686764523520  817777686764523520   \n",
       "1996-08-05 10:11:11.831150596  839239871831150592  839239871831150592   \n",
       "1997-06-03 17:36:33.868664832  865359393868664832  865359393868664832   \n",
       "\n",
       "                              in_reply_to_screen_name  in_reply_to_status_id  \\\n",
       "1991-07-21 00:17:35.951884288                    None                    NaN   \n",
       "1994-11-24 01:15:53.186217984                    None                    NaN   \n",
       "1995-12-01 00:28:06.764523521                    None                    NaN   \n",
       "1996-08-05 10:11:11.831150596                    None                    NaN   \n",
       "1997-06-03 17:36:33.868664832                    None                    NaN   \n",
       "\n",
       "                               in_reply_to_status_id_str  in_reply_to_user_id  \\\n",
       "1991-07-21 00:17:35.951884288                        NaN                  NaN   \n",
       "1994-11-24 01:15:53.186217984                        NaN                  NaN   \n",
       "1995-12-01 00:28:06.764523521                        NaN                  NaN   \n",
       "1996-08-05 10:11:11.831150596                        NaN                  NaN   \n",
       "1997-06-03 17:36:33.868664832                        NaN                  NaN   \n",
       "\n",
       "                               in_reply_to_user_id_str  \n",
       "1991-07-21 00:17:35.951884288                      NaN  \n",
       "1994-11-24 01:15:53.186217984                      NaN  \n",
       "1995-12-01 00:28:06.764523521                      NaN  \n",
       "1996-08-05 10:11:11.831150596                      NaN  \n",
       "1997-06-03 17:36:33.868664832                      NaN  "
      ]
     },
     "execution_count": 691,
     "metadata": {},
     "output_type": "execute_result"
    }
   ],
   "source": [
    "#https://stackoverflow.com/questions/11285613/selecting-columns-in-a-pandas-dataframe?utm_medium=organic&utm_source=google_rich_qa&utm_campaign=google_rich_qa\n",
    "#Splitting up the tweet_df to show all columns here\n",
    "tweet_df.iloc[:,1:15].sample(5)"
   ]
  },
  {
   "cell_type": "code",
   "execution_count": 692,
   "metadata": {
    "scrolled": true
   },
   "outputs": [
    {
     "data": {
      "text/html": [
       "<div>\n",
       "<style>\n",
       "    .dataframe thead tr:only-child th {\n",
       "        text-align: right;\n",
       "    }\n",
       "\n",
       "    .dataframe thead th {\n",
       "        text-align: left;\n",
       "    }\n",
       "\n",
       "    .dataframe tbody tr th {\n",
       "        vertical-align: top;\n",
       "    }\n",
       "</style>\n",
       "<table border=\"1\" class=\"dataframe\">\n",
       "  <thead>\n",
       "    <tr style=\"text-align: right;\">\n",
       "      <th></th>\n",
       "      <th>is_quote_status</th>\n",
       "      <th>lang</th>\n",
       "      <th>place</th>\n",
       "      <th>possibly_sensitive</th>\n",
       "      <th>possibly_sensitive_appealable</th>\n",
       "      <th>quoted_status</th>\n",
       "      <th>quoted_status_id</th>\n",
       "      <th>quoted_status_id_str</th>\n",
       "      <th>retweet_count</th>\n",
       "      <th>retweeted</th>\n",
       "      <th>retweeted_status</th>\n",
       "      <th>source</th>\n",
       "      <th>text</th>\n",
       "      <th>truncated</th>\n",
       "      <th>user</th>\n",
       "    </tr>\n",
       "  </thead>\n",
       "  <tbody>\n",
       "    <tr>\n",
       "      <th>1994-04-19 00:22:01.925144576</th>\n",
       "      <td>0</td>\n",
       "      <td>en</td>\n",
       "      <td>None</td>\n",
       "      <td>NaN</td>\n",
       "      <td>NaN</td>\n",
       "      <td>NaN</td>\n",
       "      <td>NaN</td>\n",
       "      <td>NaN</td>\n",
       "      <td>427</td>\n",
       "      <td>0</td>\n",
       "      <td>NaN</td>\n",
       "      <td>&lt;a href=\"http://twitter.com/download/iphone\" r...</td>\n",
       "      <td>His name is Charley and he already has a new s...</td>\n",
       "      <td>0</td>\n",
       "      <td>{'contributors_enabled': False, 'created_at': ...</td>\n",
       "    </tr>\n",
       "    <tr>\n",
       "      <th>1991-03-13 19:27:54.547511297</th>\n",
       "      <td>0</td>\n",
       "      <td>en</td>\n",
       "      <td>None</td>\n",
       "      <td>0.0</td>\n",
       "      <td>0.0</td>\n",
       "      <td>NaN</td>\n",
       "      <td>NaN</td>\n",
       "      <td>NaN</td>\n",
       "      <td>160</td>\n",
       "      <td>0</td>\n",
       "      <td>NaN</td>\n",
       "      <td>&lt;a href=\"http://twitter.com/download/iphone\" r...</td>\n",
       "      <td>This is Ruffles. He is an Albanian Shoop Da Wh...</td>\n",
       "      <td>0</td>\n",
       "      <td>{'contributors_enabled': False, 'created_at': ...</td>\n",
       "    </tr>\n",
       "    <tr>\n",
       "      <th>1991-05-08 15:17:41.853720576</th>\n",
       "      <td>0</td>\n",
       "      <td>en</td>\n",
       "      <td>None</td>\n",
       "      <td>0.0</td>\n",
       "      <td>0.0</td>\n",
       "      <td>NaN</td>\n",
       "      <td>NaN</td>\n",
       "      <td>NaN</td>\n",
       "      <td>2228</td>\n",
       "      <td>0</td>\n",
       "      <td>NaN</td>\n",
       "      <td>&lt;a href=\"http://twitter.com/download/iphone\" r...</td>\n",
       "      <td>This is a heavily opinionated dog. Loves walls...</td>\n",
       "      <td>0</td>\n",
       "      <td>{'contributors_enabled': False, 'created_at': ...</td>\n",
       "    </tr>\n",
       "    <tr>\n",
       "      <th>1995-10-07 20:16:24.823349248</th>\n",
       "      <td>0</td>\n",
       "      <td>en</td>\n",
       "      <td>None</td>\n",
       "      <td>0.0</td>\n",
       "      <td>0.0</td>\n",
       "      <td>NaN</td>\n",
       "      <td>NaN</td>\n",
       "      <td>NaN</td>\n",
       "      <td>4064</td>\n",
       "      <td>0</td>\n",
       "      <td>NaN</td>\n",
       "      <td>&lt;a href=\"http://twitter.com/download/iphone\" r...</td>\n",
       "      <td>This is Rocky. He got triple-doggo-dared. Stuc...</td>\n",
       "      <td>0</td>\n",
       "      <td>{'contributors_enabled': False, 'created_at': ...</td>\n",
       "    </tr>\n",
       "    <tr>\n",
       "      <th>1991-02-13 07:38:44.426358785</th>\n",
       "      <td>0</td>\n",
       "      <td>en</td>\n",
       "      <td>None</td>\n",
       "      <td>0.0</td>\n",
       "      <td>0.0</td>\n",
       "      <td>NaN</td>\n",
       "      <td>NaN</td>\n",
       "      <td>NaN</td>\n",
       "      <td>199</td>\n",
       "      <td>0</td>\n",
       "      <td>NaN</td>\n",
       "      <td>&lt;a href=\"http://twitter.com/download/iphone\" r...</td>\n",
       "      <td>Oh boy what a pup! Sunglasses take this one to...</td>\n",
       "      <td>0</td>\n",
       "      <td>{'contributors_enabled': False, 'created_at': ...</td>\n",
       "    </tr>\n",
       "  </tbody>\n",
       "</table>\n",
       "</div>"
      ],
      "text/plain": [
       "                               is_quote_status lang place  possibly_sensitive  \\\n",
       "1994-04-19 00:22:01.925144576                0   en  None                 NaN   \n",
       "1991-03-13 19:27:54.547511297                0   en  None                 0.0   \n",
       "1991-05-08 15:17:41.853720576                0   en  None                 0.0   \n",
       "1995-10-07 20:16:24.823349248                0   en  None                 0.0   \n",
       "1991-02-13 07:38:44.426358785                0   en  None                 0.0   \n",
       "\n",
       "                               possibly_sensitive_appealable quoted_status  \\\n",
       "1994-04-19 00:22:01.925144576                            NaN           NaN   \n",
       "1991-03-13 19:27:54.547511297                            0.0           NaN   \n",
       "1991-05-08 15:17:41.853720576                            0.0           NaN   \n",
       "1995-10-07 20:16:24.823349248                            0.0           NaN   \n",
       "1991-02-13 07:38:44.426358785                            0.0           NaN   \n",
       "\n",
       "                               quoted_status_id  quoted_status_id_str  \\\n",
       "1994-04-19 00:22:01.925144576               NaN                   NaN   \n",
       "1991-03-13 19:27:54.547511297               NaN                   NaN   \n",
       "1991-05-08 15:17:41.853720576               NaN                   NaN   \n",
       "1995-10-07 20:16:24.823349248               NaN                   NaN   \n",
       "1991-02-13 07:38:44.426358785               NaN                   NaN   \n",
       "\n",
       "                               retweet_count  retweeted retweeted_status  \\\n",
       "1994-04-19 00:22:01.925144576            427          0              NaN   \n",
       "1991-03-13 19:27:54.547511297            160          0              NaN   \n",
       "1991-05-08 15:17:41.853720576           2228          0              NaN   \n",
       "1995-10-07 20:16:24.823349248           4064          0              NaN   \n",
       "1991-02-13 07:38:44.426358785            199          0              NaN   \n",
       "\n",
       "                                                                          source  \\\n",
       "1994-04-19 00:22:01.925144576  <a href=\"http://twitter.com/download/iphone\" r...   \n",
       "1991-03-13 19:27:54.547511297  <a href=\"http://twitter.com/download/iphone\" r...   \n",
       "1991-05-08 15:17:41.853720576  <a href=\"http://twitter.com/download/iphone\" r...   \n",
       "1995-10-07 20:16:24.823349248  <a href=\"http://twitter.com/download/iphone\" r...   \n",
       "1991-02-13 07:38:44.426358785  <a href=\"http://twitter.com/download/iphone\" r...   \n",
       "\n",
       "                                                                            text  \\\n",
       "1994-04-19 00:22:01.925144576  His name is Charley and he already has a new s...   \n",
       "1991-03-13 19:27:54.547511297  This is Ruffles. He is an Albanian Shoop Da Wh...   \n",
       "1991-05-08 15:17:41.853720576  This is a heavily opinionated dog. Loves walls...   \n",
       "1995-10-07 20:16:24.823349248  This is Rocky. He got triple-doggo-dared. Stuc...   \n",
       "1991-02-13 07:38:44.426358785  Oh boy what a pup! Sunglasses take this one to...   \n",
       "\n",
       "                               truncated  \\\n",
       "1994-04-19 00:22:01.925144576          0   \n",
       "1991-03-13 19:27:54.547511297          0   \n",
       "1991-05-08 15:17:41.853720576          0   \n",
       "1995-10-07 20:16:24.823349248          0   \n",
       "1991-02-13 07:38:44.426358785          0   \n",
       "\n",
       "                                                                            user  \n",
       "1994-04-19 00:22:01.925144576  {'contributors_enabled': False, 'created_at': ...  \n",
       "1991-03-13 19:27:54.547511297  {'contributors_enabled': False, 'created_at': ...  \n",
       "1991-05-08 15:17:41.853720576  {'contributors_enabled': False, 'created_at': ...  \n",
       "1995-10-07 20:16:24.823349248  {'contributors_enabled': False, 'created_at': ...  \n",
       "1991-02-13 07:38:44.426358785  {'contributors_enabled': False, 'created_at': ...  "
      ]
     },
     "execution_count": 692,
     "metadata": {},
     "output_type": "execute_result"
    }
   ],
   "source": [
    "tweet_df.iloc[:,15:].sample(5)"
   ]
  },
  {
   "cell_type": "code",
   "execution_count": 693,
   "metadata": {},
   "outputs": [
    {
     "name": "stdout",
     "output_type": "stream",
     "text": [
      "<class 'pandas.core.frame.DataFrame'>\n",
      "DatetimeIndex: 2344 entries, 1991-02-08 13:48:08.022790149 to 1998-04-12 22:37:23.555336193\n",
      "Data columns (total 30 columns):\n",
      "contributors                     0 non-null float64\n",
      "coordinates                      0 non-null float64\n",
      "created_at                       2344 non-null datetime64[ns]\n",
      "entities                         2344 non-null object\n",
      "extended_entities                1823 non-null object\n",
      "favorite_count                   2344 non-null int64\n",
      "favorited                        2344 non-null int64\n",
      "geo                              0 non-null float64\n",
      "id                               2344 non-null int64\n",
      "id_str                           2344 non-null int64\n",
      "in_reply_to_screen_name          78 non-null object\n",
      "in_reply_to_status_id            78 non-null float64\n",
      "in_reply_to_status_id_str        78 non-null float64\n",
      "in_reply_to_user_id              78 non-null float64\n",
      "in_reply_to_user_id_str          78 non-null float64\n",
      "is_quote_status                  2344 non-null int64\n",
      "lang                             2344 non-null object\n",
      "place                            1 non-null object\n",
      "possibly_sensitive               2206 non-null float64\n",
      "possibly_sensitive_appealable    2206 non-null float64\n",
      "quoted_status                    24 non-null object\n",
      "quoted_status_id                 26 non-null float64\n",
      "quoted_status_id_str             26 non-null float64\n",
      "retweet_count                    2344 non-null int64\n",
      "retweeted                        2344 non-null int64\n",
      "retweeted_status                 170 non-null object\n",
      "source                           2344 non-null object\n",
      "text                             2344 non-null object\n",
      "truncated                        2344 non-null int64\n",
      "user                             2344 non-null object\n",
      "dtypes: datetime64[ns](1), float64(11), int64(8), object(10)\n",
      "memory usage: 567.7+ KB\n"
     ]
    }
   ],
   "source": [
    "tweet_df.info()"
   ]
  },
  {
   "cell_type": "code",
   "execution_count": 694,
   "metadata": {},
   "outputs": [
    {
     "data": {
      "text/html": [
       "<div>\n",
       "<style>\n",
       "    .dataframe thead tr:only-child th {\n",
       "        text-align: right;\n",
       "    }\n",
       "\n",
       "    .dataframe thead th {\n",
       "        text-align: left;\n",
       "    }\n",
       "\n",
       "    .dataframe tbody tr th {\n",
       "        vertical-align: top;\n",
       "    }\n",
       "</style>\n",
       "<table border=\"1\" class=\"dataframe\">\n",
       "  <thead>\n",
       "    <tr style=\"text-align: right;\">\n",
       "      <th></th>\n",
       "      <th>contributors</th>\n",
       "      <th>coordinates</th>\n",
       "      <th>favorite_count</th>\n",
       "      <th>favorited</th>\n",
       "      <th>geo</th>\n",
       "      <th>id</th>\n",
       "      <th>id_str</th>\n",
       "      <th>in_reply_to_status_id</th>\n",
       "      <th>in_reply_to_status_id_str</th>\n",
       "      <th>in_reply_to_user_id</th>\n",
       "      <th>in_reply_to_user_id_str</th>\n",
       "      <th>is_quote_status</th>\n",
       "      <th>possibly_sensitive</th>\n",
       "      <th>possibly_sensitive_appealable</th>\n",
       "      <th>quoted_status_id</th>\n",
       "      <th>quoted_status_id_str</th>\n",
       "      <th>retweet_count</th>\n",
       "      <th>retweeted</th>\n",
       "      <th>truncated</th>\n",
       "    </tr>\n",
       "  </thead>\n",
       "  <tbody>\n",
       "    <tr>\n",
       "      <th>count</th>\n",
       "      <td>0.0</td>\n",
       "      <td>0.0</td>\n",
       "      <td>2344.000000</td>\n",
       "      <td>2344.0</td>\n",
       "      <td>0.0</td>\n",
       "      <td>2.344000e+03</td>\n",
       "      <td>2.344000e+03</td>\n",
       "      <td>7.800000e+01</td>\n",
       "      <td>7.800000e+01</td>\n",
       "      <td>7.800000e+01</td>\n",
       "      <td>7.800000e+01</td>\n",
       "      <td>2344.000000</td>\n",
       "      <td>2206.0</td>\n",
       "      <td>2206.0</td>\n",
       "      <td>2.600000e+01</td>\n",
       "      <td>2.600000e+01</td>\n",
       "      <td>2344.000000</td>\n",
       "      <td>2344.0</td>\n",
       "      <td>2344.000000</td>\n",
       "    </tr>\n",
       "    <tr>\n",
       "      <th>mean</th>\n",
       "      <td>NaN</td>\n",
       "      <td>NaN</td>\n",
       "      <td>8064.628840</td>\n",
       "      <td>0.0</td>\n",
       "      <td>NaN</td>\n",
       "      <td>7.423239e+17</td>\n",
       "      <td>7.423239e+17</td>\n",
       "      <td>7.455079e+17</td>\n",
       "      <td>7.455079e+17</td>\n",
       "      <td>2.014171e+16</td>\n",
       "      <td>2.014171e+16</td>\n",
       "      <td>0.013225</td>\n",
       "      <td>0.0</td>\n",
       "      <td>0.0</td>\n",
       "      <td>8.176271e+17</td>\n",
       "      <td>8.176271e+17</td>\n",
       "      <td>3023.098976</td>\n",
       "      <td>0.0</td>\n",
       "      <td>0.105375</td>\n",
       "    </tr>\n",
       "    <tr>\n",
       "      <th>std</th>\n",
       "      <td>NaN</td>\n",
       "      <td>NaN</td>\n",
       "      <td>12131.346752</td>\n",
       "      <td>0.0</td>\n",
       "      <td>NaN</td>\n",
       "      <td>6.833568e+16</td>\n",
       "      <td>6.833568e+16</td>\n",
       "      <td>7.582492e+16</td>\n",
       "      <td>7.582492e+16</td>\n",
       "      <td>1.252797e+17</td>\n",
       "      <td>1.252797e+17</td>\n",
       "      <td>0.114262</td>\n",
       "      <td>0.0</td>\n",
       "      <td>0.0</td>\n",
       "      <td>5.628443e+16</td>\n",
       "      <td>5.628443e+16</td>\n",
       "      <td>5027.517669</td>\n",
       "      <td>0.0</td>\n",
       "      <td>0.307102</td>\n",
       "    </tr>\n",
       "    <tr>\n",
       "      <th>min</th>\n",
       "      <td>NaN</td>\n",
       "      <td>NaN</td>\n",
       "      <td>0.000000</td>\n",
       "      <td>0.0</td>\n",
       "      <td>NaN</td>\n",
       "      <td>6.660209e+17</td>\n",
       "      <td>6.660209e+17</td>\n",
       "      <td>6.658147e+17</td>\n",
       "      <td>6.658147e+17</td>\n",
       "      <td>1.185634e+07</td>\n",
       "      <td>1.185634e+07</td>\n",
       "      <td>0.000000</td>\n",
       "      <td>0.0</td>\n",
       "      <td>0.0</td>\n",
       "      <td>7.061659e+17</td>\n",
       "      <td>7.061659e+17</td>\n",
       "      <td>0.000000</td>\n",
       "      <td>0.0</td>\n",
       "      <td>0.000000</td>\n",
       "    </tr>\n",
       "    <tr>\n",
       "      <th>25%</th>\n",
       "      <td>NaN</td>\n",
       "      <td>NaN</td>\n",
       "      <td>1407.000000</td>\n",
       "      <td>0.0</td>\n",
       "      <td>NaN</td>\n",
       "      <td>6.783868e+17</td>\n",
       "      <td>6.783868e+17</td>\n",
       "      <td>6.757419e+17</td>\n",
       "      <td>6.757419e+17</td>\n",
       "      <td>3.086374e+08</td>\n",
       "      <td>3.086374e+08</td>\n",
       "      <td>0.000000</td>\n",
       "      <td>0.0</td>\n",
       "      <td>0.0</td>\n",
       "      <td>7.906447e+17</td>\n",
       "      <td>7.906447e+17</td>\n",
       "      <td>607.000000</td>\n",
       "      <td>0.0</td>\n",
       "      <td>0.000000</td>\n",
       "    </tr>\n",
       "    <tr>\n",
       "      <th>50%</th>\n",
       "      <td>NaN</td>\n",
       "      <td>NaN</td>\n",
       "      <td>3536.500000</td>\n",
       "      <td>0.0</td>\n",
       "      <td>NaN</td>\n",
       "      <td>7.189556e+17</td>\n",
       "      <td>7.189556e+17</td>\n",
       "      <td>7.038708e+17</td>\n",
       "      <td>7.038708e+17</td>\n",
       "      <td>4.196984e+09</td>\n",
       "      <td>4.196984e+09</td>\n",
       "      <td>0.000000</td>\n",
       "      <td>0.0</td>\n",
       "      <td>0.0</td>\n",
       "      <td>8.331775e+17</td>\n",
       "      <td>8.331775e+17</td>\n",
       "      <td>1411.500000</td>\n",
       "      <td>0.0</td>\n",
       "      <td>0.000000</td>\n",
       "    </tr>\n",
       "    <tr>\n",
       "      <th>75%</th>\n",
       "      <td>NaN</td>\n",
       "      <td>NaN</td>\n",
       "      <td>9967.500000</td>\n",
       "      <td>0.0</td>\n",
       "      <td>NaN</td>\n",
       "      <td>7.986989e+17</td>\n",
       "      <td>7.986989e+17</td>\n",
       "      <td>8.257804e+17</td>\n",
       "      <td>8.257804e+17</td>\n",
       "      <td>4.196984e+09</td>\n",
       "      <td>4.196984e+09</td>\n",
       "      <td>0.000000</td>\n",
       "      <td>0.0</td>\n",
       "      <td>0.0</td>\n",
       "      <td>8.637581e+17</td>\n",
       "      <td>8.637581e+17</td>\n",
       "      <td>3519.250000</td>\n",
       "      <td>0.0</td>\n",
       "      <td>0.000000</td>\n",
       "    </tr>\n",
       "    <tr>\n",
       "      <th>max</th>\n",
       "      <td>NaN</td>\n",
       "      <td>NaN</td>\n",
       "      <td>143275.000000</td>\n",
       "      <td>0.0</td>\n",
       "      <td>NaN</td>\n",
       "      <td>8.924206e+17</td>\n",
       "      <td>8.924206e+17</td>\n",
       "      <td>8.862664e+17</td>\n",
       "      <td>8.862664e+17</td>\n",
       "      <td>8.405479e+17</td>\n",
       "      <td>8.405479e+17</td>\n",
       "      <td>1.000000</td>\n",
       "      <td>0.0</td>\n",
       "      <td>0.0</td>\n",
       "      <td>8.860534e+17</td>\n",
       "      <td>8.860534e+17</td>\n",
       "      <td>77286.000000</td>\n",
       "      <td>0.0</td>\n",
       "      <td>1.000000</td>\n",
       "    </tr>\n",
       "  </tbody>\n",
       "</table>\n",
       "</div>"
      ],
      "text/plain": [
       "       contributors  coordinates  favorite_count  favorited  geo  \\\n",
       "count           0.0          0.0     2344.000000     2344.0  0.0   \n",
       "mean            NaN          NaN     8064.628840        0.0  NaN   \n",
       "std             NaN          NaN    12131.346752        0.0  NaN   \n",
       "min             NaN          NaN        0.000000        0.0  NaN   \n",
       "25%             NaN          NaN     1407.000000        0.0  NaN   \n",
       "50%             NaN          NaN     3536.500000        0.0  NaN   \n",
       "75%             NaN          NaN     9967.500000        0.0  NaN   \n",
       "max             NaN          NaN   143275.000000        0.0  NaN   \n",
       "\n",
       "                 id        id_str  in_reply_to_status_id  \\\n",
       "count  2.344000e+03  2.344000e+03           7.800000e+01   \n",
       "mean   7.423239e+17  7.423239e+17           7.455079e+17   \n",
       "std    6.833568e+16  6.833568e+16           7.582492e+16   \n",
       "min    6.660209e+17  6.660209e+17           6.658147e+17   \n",
       "25%    6.783868e+17  6.783868e+17           6.757419e+17   \n",
       "50%    7.189556e+17  7.189556e+17           7.038708e+17   \n",
       "75%    7.986989e+17  7.986989e+17           8.257804e+17   \n",
       "max    8.924206e+17  8.924206e+17           8.862664e+17   \n",
       "\n",
       "       in_reply_to_status_id_str  in_reply_to_user_id  \\\n",
       "count               7.800000e+01         7.800000e+01   \n",
       "mean                7.455079e+17         2.014171e+16   \n",
       "std                 7.582492e+16         1.252797e+17   \n",
       "min                 6.658147e+17         1.185634e+07   \n",
       "25%                 6.757419e+17         3.086374e+08   \n",
       "50%                 7.038708e+17         4.196984e+09   \n",
       "75%                 8.257804e+17         4.196984e+09   \n",
       "max                 8.862664e+17         8.405479e+17   \n",
       "\n",
       "       in_reply_to_user_id_str  is_quote_status  possibly_sensitive  \\\n",
       "count             7.800000e+01      2344.000000              2206.0   \n",
       "mean              2.014171e+16         0.013225                 0.0   \n",
       "std               1.252797e+17         0.114262                 0.0   \n",
       "min               1.185634e+07         0.000000                 0.0   \n",
       "25%               3.086374e+08         0.000000                 0.0   \n",
       "50%               4.196984e+09         0.000000                 0.0   \n",
       "75%               4.196984e+09         0.000000                 0.0   \n",
       "max               8.405479e+17         1.000000                 0.0   \n",
       "\n",
       "       possibly_sensitive_appealable  quoted_status_id  quoted_status_id_str  \\\n",
       "count                         2206.0      2.600000e+01          2.600000e+01   \n",
       "mean                             0.0      8.176271e+17          8.176271e+17   \n",
       "std                              0.0      5.628443e+16          5.628443e+16   \n",
       "min                              0.0      7.061659e+17          7.061659e+17   \n",
       "25%                              0.0      7.906447e+17          7.906447e+17   \n",
       "50%                              0.0      8.331775e+17          8.331775e+17   \n",
       "75%                              0.0      8.637581e+17          8.637581e+17   \n",
       "max                              0.0      8.860534e+17          8.860534e+17   \n",
       "\n",
       "       retweet_count  retweeted    truncated  \n",
       "count    2344.000000     2344.0  2344.000000  \n",
       "mean     3023.098976        0.0     0.105375  \n",
       "std      5027.517669        0.0     0.307102  \n",
       "min         0.000000        0.0     0.000000  \n",
       "25%       607.000000        0.0     0.000000  \n",
       "50%      1411.500000        0.0     0.000000  \n",
       "75%      3519.250000        0.0     0.000000  \n",
       "max     77286.000000        0.0     1.000000  "
      ]
     },
     "execution_count": 694,
     "metadata": {},
     "output_type": "execute_result"
    }
   ],
   "source": [
    "tweet_df.describe()"
   ]
  },
  {
   "cell_type": "markdown",
   "metadata": {},
   "source": [
    "### Quality\n",
    "#### 'df' table  \n",
    "- There is HTML code in the **source** column. The HTML code should be removed if the source needs to be interpreted    \n",
    "- Not all URLs in the **source** column are refering to twitter. There are examples of gofundme and vin.co references. \n",
    "- The column **rating_numerator** has values below 10 which is not adhering to the general idea. It should be 10 or above.  \n",
    "- The **rating_denominator** has values different from 10, with a range between 0-170. Generally the idea is that this should be 10    \n",
    "- Index 1002 has the dog name set to **a** and the numerator to **8**. The name does not seem realistic and the numerator is supposed to be 10    \n",
    "- The **name** column is in several instances missing a dog name\n",
    "- Some fields within the **expanded_urls** seems to be missing \n",
    "- The algorithm to extract grades into the **rating_numerator** column seems to be wrong\n",
    "- Retweets will be removed otherwise tweets will be present several times in the dataset. The column **retweeted_status_id** will be used to identify these  \n",
    "- All replies to tweets will also be removed otherwise data will be present several times. The column **in_reply_to_status_id** will be used to identify these\n",
    "\n",
    "#### 'pred' table\n",
    "None found  \n",
    "\n",
    "#### 'tweet_df' table\n",
    "- There is HTML code in the **source** column. The HTML code should be removed if the source needs to be interpreted \n",
    "- The columns **contributors**, **coordinates** and **geo** have zero entries  \n",
    "- The column **place** has 1 entry   \n",
    "\n",
    "\n",
    "### Tidiness  \n",
    "#### 'df' table  \n",
    "- The columns **in_reply_to_status_id**, **retweet_status_id**, **retweeted_status_user_id** all seems to be represented in scientific notation as the type is float64. If used they could be converted to int64.  \n",
    "- The dog rating is included in both the **text** and **rating_numerator** columns  \n",
    "- The columns **timestamp**, **retweeted_status_timestamp** are both objects and should be converted to datetime if needed for analysis   \n",
    "- The columns **doggo**, **floofer**, **pupper** and **puppo** will be merged into one column  \n",
    "\n",
    "#### 'pred' table\n",
    "None found\n",
    "\n",
    "#### 'tweet_df' table\n",
    "- The column with tweet id is named **id** and should be renamed to **tweet_id**    \n",
    "- The first column has been read wrong\n",
    "- Another index should be used    \n",
    "- The columns **id** and **id_str** are similar  \n",
    "- Drop some columns as per project description  \n",
    "- The columns **in_reply_to_status_id**, **in_reply_to_status_id_str**, **quoted_status_id**, **quoted_status_str** are all float64 and should be converted to int64"
   ]
  },
  {
   "cell_type": "markdown",
   "metadata": {},
   "source": [
    "## Clean"
   ]
  },
  {
   "cell_type": "code",
   "execution_count": 695,
   "metadata": {},
   "outputs": [],
   "source": [
    "#Copying the datasets for cleaning purposes\n",
    "df_clean = df.copy()\n",
    "pred_clean = pred.copy()\n",
    "tweet_df_clean = tweet_df.copy()"
   ]
  },
  {
   "cell_type": "markdown",
   "metadata": {},
   "source": [
    "## df"
   ]
  },
  {
   "cell_type": "markdown",
   "metadata": {},
   "source": [
    "### Algorithm to extract grades into the **rating_numerator** in df seems to be wrong  \n",
    "#### Define  \n",
    "The algorithm that extracts the dog grades in the provided dataset \"twitter-archive-enhanced.csv\" seems to be wrongly interpreting the grades given. The column rating_numerator will be overwritten with a new algorithm, extracting the grade from the tweet text. Two code approaches will be tested"
   ]
  },
  {
   "cell_type": "markdown",
   "metadata": {},
   "source": [
    "#### Code 1"
   ]
  },
  {
   "cell_type": "code",
   "execution_count": 696,
   "metadata": {},
   "outputs": [
    {
     "name": "stdout",
     "output_type": "stream",
     "text": [
      " The text: This is quite the dog. Gets really excited when not in water. Not very soft tho. Bad at fetch. Can't do tricks. 2/10 https://t.co/aMCTNWO94t \n",
      " The new grade in rating_numerator: nan \n",
      " The old grade: 2.0\n",
      " The text: I've been told there's a slight possibility he's checking his mirror. We'll bump to 9.5/10. Still a menace \n",
      " The new grade in rating_numerator: 9.5 \n",
      " The old grade: 5.0\n"
     ]
    },
    {
     "name": "stderr",
     "output_type": "stream",
     "text": [
      "C:\\Users\\franz\\Anaconda3\\lib\\site-packages\\ipykernel\\__main__.py:4: DeprecationWarning: \n",
      ".ix is deprecated. Please use\n",
      ".loc for label based indexing or\n",
      ".iloc for positional indexing\n",
      "\n",
      "See the documentation here:\n",
      "http://pandas.pydata.org/pandas-docs/stable/indexing.html#ix-indexer-is-deprecated\n"
     ]
    }
   ],
   "source": [
    "#Extracting the rating numerator from the text column - only extracting values with a \".\"\n",
    "df_clean['rating_numerator']=df.text.str.extract('(\\d+\\.\\d+)', expand=True)\n",
    "df_clean['rating_numerator']= pd.to_numeric(df_clean['rating_numerator'])\n",
    "print (\" The text: %s \\n The new grade in rating_numerator: %.1f \\n The old grade: %.1f\" % (df_clean['text'].ix[2326], df_clean['rating_numerator'].ix[2326],df['rating_numerator'].ix[2326]))\n",
    "print (\" The text: %s \\n The new grade in rating_numerator: %.1f \\n The old grade: %.1f\" % (df_clean['text'].ix[1689], df_clean['rating_numerator'].ix[1689],df['rating_numerator'].ix[1689]))"
   ]
  },
  {
   "cell_type": "markdown",
   "metadata": {},
   "source": [
    "#### Code 2"
   ]
  },
  {
   "cell_type": "code",
   "execution_count": 697,
   "metadata": {},
   "outputs": [
    {
     "name": "stdout",
     "output_type": "stream",
     "text": [
      " The text: This is quite the dog. Gets really excited when not in water. Not very soft tho. Bad at fetch. Can't do tricks. 2/10 https://t.co/aMCTNWO94t \n",
      " The new grade in rating_numerator: 2.0 \n",
      " The old grade: 2.0\n",
      " The text: I've been told there's a slight possibility he's checking his mirror. We'll bump to 9.5/10. Still a menace \n",
      " The new grade in rating_numerator: 9.0 \n",
      " The old grade: 5.0\n"
     ]
    },
    {
     "name": "stderr",
     "output_type": "stream",
     "text": [
      "C:\\Users\\franz\\Anaconda3\\lib\\site-packages\\ipykernel\\__main__.py:4: DeprecationWarning: \n",
      ".ix is deprecated. Please use\n",
      ".loc for label based indexing or\n",
      ".iloc for positional indexing\n",
      "\n",
      "See the documentation here:\n",
      "http://pandas.pydata.org/pandas-docs/stable/indexing.html#ix-indexer-is-deprecated\n"
     ]
    }
   ],
   "source": [
    "#Extracting the rating numerator from the text column - only extracting integers\n",
    "df_clean['rating_numerator'] = df.text.str.extract('(\\d+)', expand=True)\n",
    "df_clean['rating_numerator'] = pd.to_numeric(df_clean['rating_numerator'])\n",
    "print (\" The text: %s \\n The new grade in rating_numerator: %.1f \\n The old grade: %.1f\" % (df_clean['text'].ix[2326], df_clean['rating_numerator'].ix[2326],df['rating_numerator'].ix[2326]))\n",
    "print (\" The text: %s \\n The new grade in rating_numerator: %.1f \\n The old grade: %.1f\" % (df_clean['text'].ix[1689], df_clean['rating_numerator'].ix[1689],df['rating_numerator'].ix[1689]))"
   ]
  },
  {
   "cell_type": "markdown",
   "metadata": {},
   "source": [
    "#### Test"
   ]
  },
  {
   "cell_type": "markdown",
   "metadata": {},
   "source": [
    "From the codes above and the testing included as well, code 2 will be used going forward. Code 1 tries to include the full number e.g. \"9.5\" whereas code 2 just reads the number \"9\". Code 1 does not work when the number is not having a \".\" which disqualifies it from being used. The lower resolution of the values in code 2 will be utilized instead. Code 2 is used going forward."
   ]
  },
  {
   "cell_type": "code",
   "execution_count": 698,
   "metadata": {},
   "outputs": [
    {
     "data": {
      "text/html": [
       "<div>\n",
       "<style>\n",
       "    .dataframe thead tr:only-child th {\n",
       "        text-align: right;\n",
       "    }\n",
       "\n",
       "    .dataframe thead th {\n",
       "        text-align: left;\n",
       "    }\n",
       "\n",
       "    .dataframe tbody tr th {\n",
       "        vertical-align: top;\n",
       "    }\n",
       "</style>\n",
       "<table border=\"1\" class=\"dataframe\">\n",
       "  <thead>\n",
       "    <tr style=\"text-align: right;\">\n",
       "      <th></th>\n",
       "      <th>text</th>\n",
       "      <th>rating_numerator</th>\n",
       "    </tr>\n",
       "  </thead>\n",
       "  <tbody>\n",
       "    <tr>\n",
       "      <th>0</th>\n",
       "      <td>This is Phineas. He's a mystical boy. Only eve...</td>\n",
       "      <td>13</td>\n",
       "    </tr>\n",
       "    <tr>\n",
       "      <th>1</th>\n",
       "      <td>This is Tilly. She's just checking pup on you....</td>\n",
       "      <td>13</td>\n",
       "    </tr>\n",
       "    <tr>\n",
       "      <th>2</th>\n",
       "      <td>This is Archie. He is a rare Norwegian Pouncin...</td>\n",
       "      <td>12</td>\n",
       "    </tr>\n",
       "    <tr>\n",
       "      <th>3</th>\n",
       "      <td>This is Darla. She commenced a snooze mid meal...</td>\n",
       "      <td>13</td>\n",
       "    </tr>\n",
       "    <tr>\n",
       "      <th>4</th>\n",
       "      <td>This is Franklin. He would like you to stop ca...</td>\n",
       "      <td>12</td>\n",
       "    </tr>\n",
       "  </tbody>\n",
       "</table>\n",
       "</div>"
      ],
      "text/plain": [
       "                                                text  rating_numerator\n",
       "0  This is Phineas. He's a mystical boy. Only eve...                13\n",
       "1  This is Tilly. She's just checking pup on you....                13\n",
       "2  This is Archie. He is a rare Norwegian Pouncin...                12\n",
       "3  This is Darla. She commenced a snooze mid meal...                13\n",
       "4  This is Franklin. He would like you to stop ca...                12"
      ]
     },
     "execution_count": 698,
     "metadata": {},
     "output_type": "execute_result"
    }
   ],
   "source": [
    "df_test = df_clean.loc[df_clean['rating_numerator'] > 10]\n",
    "df_test[['text','rating_numerator']].head()"
   ]
  },
  {
   "cell_type": "code",
   "execution_count": 699,
   "metadata": {},
   "outputs": [
    {
     "data": {
      "text/plain": [
       "12      545\n",
       "10      447\n",
       "11      444\n",
       "13      343\n",
       "9       152\n",
       "8       105\n",
       "7        51\n",
       "14       50\n",
       "6        35\n",
       "5        34\n",
       "3        28\n",
       "2        27\n",
       "4        24\n",
       "1        14\n",
       "0         7\n",
       "2016      2\n",
       "420       2\n",
       "100       2\n",
       "98        2\n",
       "50        2\n",
       "80        2\n",
       "2015      2\n",
       "15        2\n",
       "17        2\n",
       "31        2\n",
       "61        1\n",
       "46        1\n",
       "44        1\n",
       "24        1\n",
       "22        1\n",
       "20        1\n",
       "97        1\n",
       "60        1\n",
       "121       1\n",
       "143       1\n",
       "165       1\n",
       "987       1\n",
       "1949      1\n",
       "47        1\n",
       "84        1\n",
       "45        1\n",
       "2002      1\n",
       "88        1\n",
       "92        1\n",
       "33        1\n",
       "144       1\n",
       "2195      1\n",
       "150       1\n",
       "182       1\n",
       "204       1\n",
       "236       1\n",
       "2003      1\n",
       "960       1\n",
       "1776      1\n",
       "400       1\n",
       "Name: rating_numerator, dtype: int64"
      ]
     },
     "execution_count": 699,
     "metadata": {},
     "output_type": "execute_result"
    }
   ],
   "source": [
    "df_clean['rating_numerator'].value_counts()"
   ]
  },
  {
   "cell_type": "markdown",
   "metadata": {},
   "source": [
    "There is some problems with tweets containing other numbers than the rating itsels. E.g. index 78 writing \"@rachel2195\". All ratings above 20 will be removed, as it is relatively few and most likely will remove most of the errors in reading the grade."
   ]
  },
  {
   "cell_type": "code",
   "execution_count": 700,
   "metadata": {},
   "outputs": [],
   "source": [
    "df_clean.drop(df_clean[(df_clean.rating_numerator > 20)].index,inplace=True);"
   ]
  },
  {
   "cell_type": "code",
   "execution_count": 701,
   "metadata": {},
   "outputs": [
    {
     "data": {
      "text/plain": [
       "12    545\n",
       "10    447\n",
       "11    444\n",
       "13    343\n",
       "9     152\n",
       "8     105\n",
       "7      51\n",
       "14     50\n",
       "6      35\n",
       "5      34\n",
       "3      28\n",
       "2      27\n",
       "4      24\n",
       "1      14\n",
       "0       7\n",
       "17      2\n",
       "15      2\n",
       "20      1\n",
       "Name: rating_numerator, dtype: int64"
      ]
     },
     "execution_count": 701,
     "metadata": {},
     "output_type": "execute_result"
    }
   ],
   "source": [
    "df_clean['rating_numerator'].value_counts()"
   ]
  },
  {
   "cell_type": "markdown",
   "metadata": {},
   "source": [
    "The final test is the row located in the assess section"
   ]
  },
  {
   "cell_type": "code",
   "execution_count": 751,
   "metadata": {},
   "outputs": [
    {
     "name": "stdout",
     "output_type": "stream",
     "text": [
      " The text: This is Logan, the Chow who lived. He solemnly swears he's up to lots of good. H*ckin magical af 9.75/10 https://t.co/yBO5wuqaPS \n",
      " The grade in rating_numerator: 9.0 \n",
      "\n"
     ]
    }
   ],
   "source": [
    "print (\" The text: %s \\n The grade in rating_numerator: %.1f \\n\" % (df_clean['text'].ix[695], df_clean['rating_numerator'].ix[695]))"
   ]
  },
  {
   "cell_type": "markdown",
   "metadata": {},
   "source": [
    "Reading 9.75 as 9 is indeed better than the original algoritm that extracted 75 as the numerator."
   ]
  },
  {
   "cell_type": "markdown",
   "metadata": {},
   "source": [
    "### Rating_denominator in df has values different from 10 (range 0-170)  \n",
    "#### Define  \n",
    "The purpose of the tweets are to rate your dog on a scale from 1-10 (however most persons rate above 10). This means that the denominator should always be 10. The tweets with another denominator than 10 will be removed.  \n",
    "#### Code"
   ]
  },
  {
   "cell_type": "code",
   "execution_count": 703,
   "metadata": {},
   "outputs": [
    {
     "data": {
      "text/plain": [
       "10    2302\n",
       "11       3\n",
       "20       2\n",
       "15       1\n",
       "90       1\n",
       "16       1\n",
       "2        1\n",
       "Name: rating_denominator, dtype: int64"
      ]
     },
     "execution_count": 703,
     "metadata": {},
     "output_type": "execute_result"
    }
   ],
   "source": [
    "df_clean.rating_denominator.value_counts()"
   ]
  },
  {
   "cell_type": "code",
   "execution_count": 704,
   "metadata": {},
   "outputs": [],
   "source": [
    "#https://stackoverflow.com/questions/13851535/how-to-delete-rows-from-a-pandas-dataframe-based-on-a-conditional-expression\n",
    "df_clean.drop(df_clean[(df_clean.rating_denominator != 10)].index,inplace=True);"
   ]
  },
  {
   "cell_type": "markdown",
   "metadata": {},
   "source": [
    "#### Test"
   ]
  },
  {
   "cell_type": "code",
   "execution_count": 705,
   "metadata": {},
   "outputs": [
    {
     "data": {
      "text/plain": [
       "10    2302\n",
       "Name: rating_denominator, dtype: int64"
      ]
     },
     "execution_count": 705,
     "metadata": {},
     "output_type": "execute_result"
    }
   ],
   "source": [
    "df_clean.rating_denominator.value_counts()"
   ]
  },
  {
   "cell_type": "markdown",
   "metadata": {},
   "source": [
    "### Timestamp in df needs to be converted from object to datetime  \n",
    "#### Define  \n",
    "The timestamp should be in datetime format and not object  \n",
    "\n",
    "#### Code"
   ]
  },
  {
   "cell_type": "code",
   "execution_count": 706,
   "metadata": {},
   "outputs": [],
   "source": [
    "df_clean['timestamp'] = pd.to_datetime(df_clean['timestamp'],format='%Y-%m-%d %H:%M:%S')"
   ]
  },
  {
   "cell_type": "markdown",
   "metadata": {},
   "source": [
    "#### Test "
   ]
  },
  {
   "cell_type": "code",
   "execution_count": 707,
   "metadata": {},
   "outputs": [
    {
     "name": "stdout",
     "output_type": "stream",
     "text": [
      "<class 'pandas.core.frame.DataFrame'>\n",
      "Int64Index: 2302 entries, 0 to 2355\n",
      "Data columns (total 17 columns):\n",
      "tweet_id                      2302 non-null int64\n",
      "in_reply_to_status_id         69 non-null float64\n",
      "in_reply_to_user_id           69 non-null float64\n",
      "timestamp                     2302 non-null datetime64[ns]\n",
      "source                        2302 non-null object\n",
      "text                          2302 non-null object\n",
      "retweeted_status_id           176 non-null float64\n",
      "retweeted_status_user_id      176 non-null float64\n",
      "retweeted_status_timestamp    176 non-null object\n",
      "expanded_urls                 2250 non-null object\n",
      "rating_numerator              2302 non-null int64\n",
      "rating_denominator            2302 non-null int64\n",
      "name                          2302 non-null object\n",
      "doggo                         2302 non-null object\n",
      "floofer                       2302 non-null object\n",
      "pupper                        2302 non-null object\n",
      "puppo                         2302 non-null object\n",
      "dtypes: datetime64[ns](1), float64(4), int64(3), object(9)\n",
      "memory usage: 323.7+ KB\n"
     ]
    }
   ],
   "source": [
    "df_clean.info()"
   ]
  },
  {
   "cell_type": "code",
   "execution_count": 708,
   "metadata": {},
   "outputs": [
    {
     "data": {
      "text/html": [
       "<div>\n",
       "<style>\n",
       "    .dataframe thead tr:only-child th {\n",
       "        text-align: right;\n",
       "    }\n",
       "\n",
       "    .dataframe thead th {\n",
       "        text-align: left;\n",
       "    }\n",
       "\n",
       "    .dataframe tbody tr th {\n",
       "        vertical-align: top;\n",
       "    }\n",
       "</style>\n",
       "<table border=\"1\" class=\"dataframe\">\n",
       "  <thead>\n",
       "    <tr style=\"text-align: right;\">\n",
       "      <th></th>\n",
       "      <th>tweet_id</th>\n",
       "      <th>in_reply_to_status_id</th>\n",
       "      <th>in_reply_to_user_id</th>\n",
       "      <th>timestamp</th>\n",
       "      <th>source</th>\n",
       "      <th>text</th>\n",
       "      <th>retweeted_status_id</th>\n",
       "      <th>retweeted_status_user_id</th>\n",
       "      <th>retweeted_status_timestamp</th>\n",
       "      <th>expanded_urls</th>\n",
       "      <th>rating_numerator</th>\n",
       "      <th>rating_denominator</th>\n",
       "      <th>name</th>\n",
       "      <th>doggo</th>\n",
       "      <th>floofer</th>\n",
       "      <th>pupper</th>\n",
       "      <th>puppo</th>\n",
       "    </tr>\n",
       "  </thead>\n",
       "  <tbody>\n",
       "    <tr>\n",
       "      <th>0</th>\n",
       "      <td>892420643555336193</td>\n",
       "      <td>NaN</td>\n",
       "      <td>NaN</td>\n",
       "      <td>2017-08-01 16:23:56</td>\n",
       "      <td>&lt;a href=\"http://twitter.com/download/iphone\" r...</td>\n",
       "      <td>This is Phineas. He's a mystical boy. Only eve...</td>\n",
       "      <td>NaN</td>\n",
       "      <td>NaN</td>\n",
       "      <td>NaN</td>\n",
       "      <td>https://twitter.com/dog_rates/status/892420643...</td>\n",
       "      <td>13</td>\n",
       "      <td>10</td>\n",
       "      <td>Phineas</td>\n",
       "      <td>None</td>\n",
       "      <td>None</td>\n",
       "      <td>None</td>\n",
       "      <td>None</td>\n",
       "    </tr>\n",
       "    <tr>\n",
       "      <th>1</th>\n",
       "      <td>892177421306343426</td>\n",
       "      <td>NaN</td>\n",
       "      <td>NaN</td>\n",
       "      <td>2017-08-01 00:17:27</td>\n",
       "      <td>&lt;a href=\"http://twitter.com/download/iphone\" r...</td>\n",
       "      <td>This is Tilly. She's just checking pup on you....</td>\n",
       "      <td>NaN</td>\n",
       "      <td>NaN</td>\n",
       "      <td>NaN</td>\n",
       "      <td>https://twitter.com/dog_rates/status/892177421...</td>\n",
       "      <td>13</td>\n",
       "      <td>10</td>\n",
       "      <td>Tilly</td>\n",
       "      <td>None</td>\n",
       "      <td>None</td>\n",
       "      <td>None</td>\n",
       "      <td>None</td>\n",
       "    </tr>\n",
       "    <tr>\n",
       "      <th>2</th>\n",
       "      <td>891815181378084864</td>\n",
       "      <td>NaN</td>\n",
       "      <td>NaN</td>\n",
       "      <td>2017-07-31 00:18:03</td>\n",
       "      <td>&lt;a href=\"http://twitter.com/download/iphone\" r...</td>\n",
       "      <td>This is Archie. He is a rare Norwegian Pouncin...</td>\n",
       "      <td>NaN</td>\n",
       "      <td>NaN</td>\n",
       "      <td>NaN</td>\n",
       "      <td>https://twitter.com/dog_rates/status/891815181...</td>\n",
       "      <td>12</td>\n",
       "      <td>10</td>\n",
       "      <td>Archie</td>\n",
       "      <td>None</td>\n",
       "      <td>None</td>\n",
       "      <td>None</td>\n",
       "      <td>None</td>\n",
       "    </tr>\n",
       "    <tr>\n",
       "      <th>3</th>\n",
       "      <td>891689557279858688</td>\n",
       "      <td>NaN</td>\n",
       "      <td>NaN</td>\n",
       "      <td>2017-07-30 15:58:51</td>\n",
       "      <td>&lt;a href=\"http://twitter.com/download/iphone\" r...</td>\n",
       "      <td>This is Darla. She commenced a snooze mid meal...</td>\n",
       "      <td>NaN</td>\n",
       "      <td>NaN</td>\n",
       "      <td>NaN</td>\n",
       "      <td>https://twitter.com/dog_rates/status/891689557...</td>\n",
       "      <td>13</td>\n",
       "      <td>10</td>\n",
       "      <td>Darla</td>\n",
       "      <td>None</td>\n",
       "      <td>None</td>\n",
       "      <td>None</td>\n",
       "      <td>None</td>\n",
       "    </tr>\n",
       "    <tr>\n",
       "      <th>4</th>\n",
       "      <td>891327558926688256</td>\n",
       "      <td>NaN</td>\n",
       "      <td>NaN</td>\n",
       "      <td>2017-07-29 16:00:24</td>\n",
       "      <td>&lt;a href=\"http://twitter.com/download/iphone\" r...</td>\n",
       "      <td>This is Franklin. He would like you to stop ca...</td>\n",
       "      <td>NaN</td>\n",
       "      <td>NaN</td>\n",
       "      <td>NaN</td>\n",
       "      <td>https://twitter.com/dog_rates/status/891327558...</td>\n",
       "      <td>12</td>\n",
       "      <td>10</td>\n",
       "      <td>Franklin</td>\n",
       "      <td>None</td>\n",
       "      <td>None</td>\n",
       "      <td>None</td>\n",
       "      <td>None</td>\n",
       "    </tr>\n",
       "  </tbody>\n",
       "</table>\n",
       "</div>"
      ],
      "text/plain": [
       "             tweet_id  in_reply_to_status_id  in_reply_to_user_id  \\\n",
       "0  892420643555336193                    NaN                  NaN   \n",
       "1  892177421306343426                    NaN                  NaN   \n",
       "2  891815181378084864                    NaN                  NaN   \n",
       "3  891689557279858688                    NaN                  NaN   \n",
       "4  891327558926688256                    NaN                  NaN   \n",
       "\n",
       "            timestamp                                             source  \\\n",
       "0 2017-08-01 16:23:56  <a href=\"http://twitter.com/download/iphone\" r...   \n",
       "1 2017-08-01 00:17:27  <a href=\"http://twitter.com/download/iphone\" r...   \n",
       "2 2017-07-31 00:18:03  <a href=\"http://twitter.com/download/iphone\" r...   \n",
       "3 2017-07-30 15:58:51  <a href=\"http://twitter.com/download/iphone\" r...   \n",
       "4 2017-07-29 16:00:24  <a href=\"http://twitter.com/download/iphone\" r...   \n",
       "\n",
       "                                                text  retweeted_status_id  \\\n",
       "0  This is Phineas. He's a mystical boy. Only eve...                  NaN   \n",
       "1  This is Tilly. She's just checking pup on you....                  NaN   \n",
       "2  This is Archie. He is a rare Norwegian Pouncin...                  NaN   \n",
       "3  This is Darla. She commenced a snooze mid meal...                  NaN   \n",
       "4  This is Franklin. He would like you to stop ca...                  NaN   \n",
       "\n",
       "   retweeted_status_user_id retweeted_status_timestamp  \\\n",
       "0                       NaN                        NaN   \n",
       "1                       NaN                        NaN   \n",
       "2                       NaN                        NaN   \n",
       "3                       NaN                        NaN   \n",
       "4                       NaN                        NaN   \n",
       "\n",
       "                                       expanded_urls  rating_numerator  \\\n",
       "0  https://twitter.com/dog_rates/status/892420643...                13   \n",
       "1  https://twitter.com/dog_rates/status/892177421...                13   \n",
       "2  https://twitter.com/dog_rates/status/891815181...                12   \n",
       "3  https://twitter.com/dog_rates/status/891689557...                13   \n",
       "4  https://twitter.com/dog_rates/status/891327558...                12   \n",
       "\n",
       "   rating_denominator      name doggo floofer pupper puppo  \n",
       "0                  10   Phineas  None    None   None  None  \n",
       "1                  10     Tilly  None    None   None  None  \n",
       "2                  10    Archie  None    None   None  None  \n",
       "3                  10     Darla  None    None   None  None  \n",
       "4                  10  Franklin  None    None   None  None  "
      ]
     },
     "execution_count": 708,
     "metadata": {},
     "output_type": "execute_result"
    }
   ],
   "source": [
    "df_clean.head()"
   ]
  },
  {
   "cell_type": "markdown",
   "metadata": {},
   "source": [
    "### Merging dog nicknames into one column\n",
    "#### Define  \n",
    "The columns **doggo**, **floofer**, **pupper** and **puppo** will be merged into one column  "
   ]
  },
  {
   "cell_type": "markdown",
   "metadata": {},
   "source": [
    "#### Code"
   ]
  },
  {
   "cell_type": "code",
   "execution_count": 709,
   "metadata": {},
   "outputs": [],
   "source": [
    "df_clean['dog_nick'] = df_clean[['doggo','floofer','pupper','puppo']].mask(df_clean[['doggo','floofer','pupper','puppo']].eq('None')).fillna('').sum(axis=1)"
   ]
  },
  {
   "cell_type": "markdown",
   "metadata": {},
   "source": [
    "#### Test"
   ]
  },
  {
   "cell_type": "code",
   "execution_count": 710,
   "metadata": {},
   "outputs": [
    {
     "data": {
      "text/plain": [
       "(None     2205\n",
       " doggo      97\n",
       " Name: doggo, dtype: int64, None       2292\n",
       " floofer      10\n",
       " Name: floofer, dtype: int64, None      2049\n",
       " pupper     253\n",
       " Name: pupper, dtype: int64, None     2272\n",
       " puppo      30\n",
       " Name: puppo, dtype: int64)"
      ]
     },
     "execution_count": 710,
     "metadata": {},
     "output_type": "execute_result"
    }
   ],
   "source": [
    "#Before merging\n",
    "df_clean['doggo'].value_counts(),df_clean['floofer'].value_counts(),df_clean['pupper'].value_counts(),df_clean['puppo'].value_counts()"
   ]
  },
  {
   "cell_type": "code",
   "execution_count": 711,
   "metadata": {},
   "outputs": [
    {
     "data": {
      "text/plain": [
       "                1926\n",
       "pupper           241\n",
       "doggo             83\n",
       "puppo             29\n",
       "doggopupper       12\n",
       "floofer            9\n",
       "doggofloofer       1\n",
       "doggopuppo         1\n",
       "Name: dog_nick, dtype: int64"
      ]
     },
     "execution_count": 711,
     "metadata": {},
     "output_type": "execute_result"
    }
   ],
   "source": [
    "#After merging\n",
    "df_clean['dog_nick'].value_counts()"
   ]
  },
  {
   "cell_type": "markdown",
   "metadata": {},
   "source": [
    "The rows where more than one nickname is present is now containing both of these names e.g. \"doggopupper\""
   ]
  },
  {
   "cell_type": "markdown",
   "metadata": {},
   "source": [
    "### Removing unnecessary columns and rows in df  \n",
    "#### Define  \n",
    "Several columns in df will not be utilized for data analysis - especially the ones with a lot of text. The following columns will be removed:  \n",
    "- The columns with dog nicknames as they have been merged into a single column\n",
    "- expanded_urls: Not relevant for the analysis  \n",
    "- source: Lot of text and the url's to other sites is due to referencing to a movie uploaded on another media, e.g.  \n",
    "- name: The most prevalent dog name in the dataset is \"None\" and the next most is \"a\". This column will be removed  "
   ]
  },
  {
   "cell_type": "code",
   "execution_count": 712,
   "metadata": {},
   "outputs": [
    {
     "data": {
      "text/plain": [
       "None         715\n",
       "a             54\n",
       "Charlie       12\n",
       "Cooper        11\n",
       "Oliver        11\n",
       "Lucy          11\n",
       "Penny         10\n",
       "Lola          10\n",
       "Bo             9\n",
       "Winston        9\n",
       "Tucker         9\n",
       "the            8\n",
       "Sadie          8\n",
       "Daisy          7\n",
       "Bailey         7\n",
       "Toby           7\n",
       "Buddy          7\n",
       "Koda           6\n",
       "Milo           6\n",
       "an             6\n",
       "Scout          6\n",
       "Jax            6\n",
       "Jack           6\n",
       "Stanley        6\n",
       "Rusty          6\n",
       "Oscar          6\n",
       "Dave           6\n",
       "Leo            6\n",
       "George         5\n",
       "Bentley        5\n",
       "            ... \n",
       "Acro           1\n",
       "Chevy          1\n",
       "Hanz           1\n",
       "Suki           1\n",
       "Monty          1\n",
       "Walker         1\n",
       "Mookie         1\n",
       "Beemo          1\n",
       "Spark          1\n",
       "Pip            1\n",
       "Ambrose        1\n",
       "Noosh          1\n",
       "Tupawc         1\n",
       "Sam            1\n",
       "Rumble         1\n",
       "Tess           1\n",
       "Nigel          1\n",
       "Amélie         1\n",
       "Rilo           1\n",
       "Flurpson       1\n",
       "DonDon         1\n",
       "Stu            1\n",
       "Kulet          1\n",
       "Zeus           1\n",
       "Schnitzel      1\n",
       "Rufio          1\n",
       "Gunner         1\n",
       "Tanner         1\n",
       "Remus          1\n",
       "Wiggles        1\n",
       "Name: name, Length: 946, dtype: int64"
      ]
     },
     "execution_count": 712,
     "metadata": {},
     "output_type": "execute_result"
    }
   ],
   "source": [
    "df_clean['name'].value_counts()"
   ]
  },
  {
   "cell_type": "markdown",
   "metadata": {},
   "source": [
    "Some rows will also be removed as they represent responses or retweets of the same material already present in the dataset. This includes all rows with values in **retweeted_status_id** and **in_reply_to_status_id**. Here after will these two columns also be removed as they will not be containing any values.\n",
    "\n",
    "#### Code for row removal"
   ]
  },
  {
   "cell_type": "code",
   "execution_count": 713,
   "metadata": {},
   "outputs": [
    {
     "name": "stdout",
     "output_type": "stream",
     "text": [
      "<class 'pandas.core.frame.DataFrame'>\n",
      "Int64Index: 2302 entries, 0 to 2355\n",
      "Data columns (total 18 columns):\n",
      "tweet_id                      2302 non-null int64\n",
      "in_reply_to_status_id         69 non-null float64\n",
      "in_reply_to_user_id           69 non-null float64\n",
      "timestamp                     2302 non-null datetime64[ns]\n",
      "source                        2302 non-null object\n",
      "text                          2302 non-null object\n",
      "retweeted_status_id           176 non-null float64\n",
      "retweeted_status_user_id      176 non-null float64\n",
      "retweeted_status_timestamp    176 non-null object\n",
      "expanded_urls                 2250 non-null object\n",
      "rating_numerator              2302 non-null int64\n",
      "rating_denominator            2302 non-null int64\n",
      "name                          2302 non-null object\n",
      "doggo                         2302 non-null object\n",
      "floofer                       2302 non-null object\n",
      "pupper                        2302 non-null object\n",
      "puppo                         2302 non-null object\n",
      "dog_nick                      2302 non-null object\n",
      "dtypes: datetime64[ns](1), float64(4), int64(3), object(10)\n",
      "memory usage: 341.7+ KB\n"
     ]
    }
   ],
   "source": [
    "df_clean.info()"
   ]
  },
  {
   "cell_type": "code",
   "execution_count": 714,
   "metadata": {},
   "outputs": [],
   "source": [
    "df_clean = df_clean[df_clean['retweeted_status_id'].isnull()]\n",
    "df_clean = df_clean[df_clean['in_reply_to_status_id'].isnull()]"
   ]
  },
  {
   "cell_type": "markdown",
   "metadata": {},
   "source": [
    "#### Test of removed rows"
   ]
  },
  {
   "cell_type": "code",
   "execution_count": 715,
   "metadata": {},
   "outputs": [
    {
     "name": "stdout",
     "output_type": "stream",
     "text": [
      "<class 'pandas.core.frame.DataFrame'>\n",
      "Int64Index: 2057 entries, 0 to 2355\n",
      "Data columns (total 18 columns):\n",
      "tweet_id                      2057 non-null int64\n",
      "in_reply_to_status_id         0 non-null float64\n",
      "in_reply_to_user_id           0 non-null float64\n",
      "timestamp                     2057 non-null datetime64[ns]\n",
      "source                        2057 non-null object\n",
      "text                          2057 non-null object\n",
      "retweeted_status_id           0 non-null float64\n",
      "retweeted_status_user_id      0 non-null float64\n",
      "retweeted_status_timestamp    0 non-null object\n",
      "expanded_urls                 2054 non-null object\n",
      "rating_numerator              2057 non-null int64\n",
      "rating_denominator            2057 non-null int64\n",
      "name                          2057 non-null object\n",
      "doggo                         2057 non-null object\n",
      "floofer                       2057 non-null object\n",
      "pupper                        2057 non-null object\n",
      "puppo                         2057 non-null object\n",
      "dog_nick                      2057 non-null object\n",
      "dtypes: datetime64[ns](1), float64(4), int64(3), object(10)\n",
      "memory usage: 305.3+ KB\n"
     ]
    }
   ],
   "source": [
    "df_clean.info()"
   ]
  },
  {
   "cell_type": "markdown",
   "metadata": {},
   "source": [
    "#### Code for column removal"
   ]
  },
  {
   "cell_type": "code",
   "execution_count": 716,
   "metadata": {},
   "outputs": [],
   "source": [
    "df_clean.drop(['doggo','floofer','pupper','puppo','expanded_urls', 'source','name','in_reply_to_status_id','in_reply_to_user_id','retweeted_status_id',\n",
    "               'retweeted_status_user_id','retweeted_status_timestamp'], axis=1,inplace=True)\n"
   ]
  },
  {
   "cell_type": "markdown",
   "metadata": {},
   "source": [
    "#### Test of remaining columns"
   ]
  },
  {
   "cell_type": "code",
   "execution_count": 717,
   "metadata": {},
   "outputs": [
    {
     "data": {
      "text/html": [
       "<div>\n",
       "<style>\n",
       "    .dataframe thead tr:only-child th {\n",
       "        text-align: right;\n",
       "    }\n",
       "\n",
       "    .dataframe thead th {\n",
       "        text-align: left;\n",
       "    }\n",
       "\n",
       "    .dataframe tbody tr th {\n",
       "        vertical-align: top;\n",
       "    }\n",
       "</style>\n",
       "<table border=\"1\" class=\"dataframe\">\n",
       "  <thead>\n",
       "    <tr style=\"text-align: right;\">\n",
       "      <th></th>\n",
       "      <th>tweet_id</th>\n",
       "      <th>timestamp</th>\n",
       "      <th>text</th>\n",
       "      <th>rating_numerator</th>\n",
       "      <th>rating_denominator</th>\n",
       "      <th>dog_nick</th>\n",
       "    </tr>\n",
       "  </thead>\n",
       "  <tbody>\n",
       "    <tr>\n",
       "      <th>283</th>\n",
       "      <td>838952994649550848</td>\n",
       "      <td>2017-03-07 03:22:35</td>\n",
       "      <td>SHE MISPLACED HER HOOMAN 13/10 MISTAKES HAPPEN...</td>\n",
       "      <td>13</td>\n",
       "      <td>10</td>\n",
       "      <td></td>\n",
       "    </tr>\n",
       "    <tr>\n",
       "      <th>163</th>\n",
       "      <td>860276583193509888</td>\n",
       "      <td>2017-05-04 23:34:55</td>\n",
       "      <td>This is Jordy. He likes to go on adventures an...</td>\n",
       "      <td>12</td>\n",
       "      <td>10</td>\n",
       "      <td></td>\n",
       "    </tr>\n",
       "    <tr>\n",
       "      <th>1631</th>\n",
       "      <td>684481074559381504</td>\n",
       "      <td>2016-01-05 21:06:19</td>\n",
       "      <td>Meet Pippa. She's an Elfin High Feta. Compact ...</td>\n",
       "      <td>10</td>\n",
       "      <td>10</td>\n",
       "      <td></td>\n",
       "    </tr>\n",
       "    <tr>\n",
       "      <th>1387</th>\n",
       "      <td>700505138482569216</td>\n",
       "      <td>2016-02-19 02:20:14</td>\n",
       "      <td>This is Kaia. She's just cute as hell. 12/10 I...</td>\n",
       "      <td>12</td>\n",
       "      <td>10</td>\n",
       "      <td></td>\n",
       "    </tr>\n",
       "    <tr>\n",
       "      <th>1429</th>\n",
       "      <td>697596423848730625</td>\n",
       "      <td>2016-02-11 01:42:02</td>\n",
       "      <td>Here's a pupper with a piece of pizza. Two of ...</td>\n",
       "      <td>11</td>\n",
       "      <td>10</td>\n",
       "      <td>pupper</td>\n",
       "    </tr>\n",
       "    <tr>\n",
       "      <th>1046</th>\n",
       "      <td>743545585370791937</td>\n",
       "      <td>2016-06-16 20:47:36</td>\n",
       "      <td>Say hello to Bentley and Millie. They do every...</td>\n",
       "      <td>11</td>\n",
       "      <td>10</td>\n",
       "      <td></td>\n",
       "    </tr>\n",
       "    <tr>\n",
       "      <th>1041</th>\n",
       "      <td>743980027717509120</td>\n",
       "      <td>2016-06-18 01:33:55</td>\n",
       "      <td>This is Geno. He's a Wrinkled Baklavian Velvee...</td>\n",
       "      <td>11</td>\n",
       "      <td>10</td>\n",
       "      <td></td>\n",
       "    </tr>\n",
       "    <tr>\n",
       "      <th>1030</th>\n",
       "      <td>745433870967832576</td>\n",
       "      <td>2016-06-22 01:50:58</td>\n",
       "      <td>This is Lenox. She's in a wheelbarrow. Silly d...</td>\n",
       "      <td>10</td>\n",
       "      <td>10</td>\n",
       "      <td>doggo</td>\n",
       "    </tr>\n",
       "    <tr>\n",
       "      <th>1820</th>\n",
       "      <td>676588346097852417</td>\n",
       "      <td>2015-12-15 02:23:26</td>\n",
       "      <td>This is Bubbles. He kinda resembles a fish. Al...</td>\n",
       "      <td>5</td>\n",
       "      <td>10</td>\n",
       "      <td></td>\n",
       "    </tr>\n",
       "    <tr>\n",
       "      <th>1495</th>\n",
       "      <td>692535307825213440</td>\n",
       "      <td>2016-01-28 02:30:58</td>\n",
       "      <td>This is Amber. She's a Fetty Woof. 10/10 would...</td>\n",
       "      <td>10</td>\n",
       "      <td>10</td>\n",
       "      <td></td>\n",
       "    </tr>\n",
       "  </tbody>\n",
       "</table>\n",
       "</div>"
      ],
      "text/plain": [
       "                tweet_id           timestamp  \\\n",
       "283   838952994649550848 2017-03-07 03:22:35   \n",
       "163   860276583193509888 2017-05-04 23:34:55   \n",
       "1631  684481074559381504 2016-01-05 21:06:19   \n",
       "1387  700505138482569216 2016-02-19 02:20:14   \n",
       "1429  697596423848730625 2016-02-11 01:42:02   \n",
       "1046  743545585370791937 2016-06-16 20:47:36   \n",
       "1041  743980027717509120 2016-06-18 01:33:55   \n",
       "1030  745433870967832576 2016-06-22 01:50:58   \n",
       "1820  676588346097852417 2015-12-15 02:23:26   \n",
       "1495  692535307825213440 2016-01-28 02:30:58   \n",
       "\n",
       "                                                   text  rating_numerator  \\\n",
       "283   SHE MISPLACED HER HOOMAN 13/10 MISTAKES HAPPEN...                13   \n",
       "163   This is Jordy. He likes to go on adventures an...                12   \n",
       "1631  Meet Pippa. She's an Elfin High Feta. Compact ...                10   \n",
       "1387  This is Kaia. She's just cute as hell. 12/10 I...                12   \n",
       "1429  Here's a pupper with a piece of pizza. Two of ...                11   \n",
       "1046  Say hello to Bentley and Millie. They do every...                11   \n",
       "1041  This is Geno. He's a Wrinkled Baklavian Velvee...                11   \n",
       "1030  This is Lenox. She's in a wheelbarrow. Silly d...                10   \n",
       "1820  This is Bubbles. He kinda resembles a fish. Al...                 5   \n",
       "1495  This is Amber. She's a Fetty Woof. 10/10 would...                10   \n",
       "\n",
       "      rating_denominator dog_nick  \n",
       "283                   10           \n",
       "163                   10           \n",
       "1631                  10           \n",
       "1387                  10           \n",
       "1429                  10   pupper  \n",
       "1046                  10           \n",
       "1041                  10           \n",
       "1030                  10    doggo  \n",
       "1820                  10           \n",
       "1495                  10           "
      ]
     },
     "execution_count": 717,
     "metadata": {},
     "output_type": "execute_result"
    }
   ],
   "source": [
    "df_clean.sample(10)"
   ]
  },
  {
   "cell_type": "code",
   "execution_count": 718,
   "metadata": {},
   "outputs": [
    {
     "name": "stdout",
     "output_type": "stream",
     "text": [
      "<class 'pandas.core.frame.DataFrame'>\n",
      "Int64Index: 2057 entries, 0 to 2355\n",
      "Data columns (total 6 columns):\n",
      "tweet_id              2057 non-null int64\n",
      "timestamp             2057 non-null datetime64[ns]\n",
      "text                  2057 non-null object\n",
      "rating_numerator      2057 non-null int64\n",
      "rating_denominator    2057 non-null int64\n",
      "dog_nick              2057 non-null object\n",
      "dtypes: datetime64[ns](1), int64(3), object(2)\n",
      "memory usage: 112.5+ KB\n"
     ]
    }
   ],
   "source": [
    "df_clean.info()"
   ]
  },
  {
   "cell_type": "markdown",
   "metadata": {},
   "source": [
    "## pred\n",
    "### Remove columns not necessary for data analysis  \n",
    "#### Define  \n",
    "**img_num** in the pred table will be removed. **img_num** is the image number and has not been found relevant for analysis.  \n",
    "#### Code"
   ]
  },
  {
   "cell_type": "code",
   "execution_count": 719,
   "metadata": {},
   "outputs": [],
   "source": [
    "pred_clean.drop(['jpg_url','img_num'], axis=1,inplace=True);"
   ]
  },
  {
   "cell_type": "markdown",
   "metadata": {},
   "source": [
    "#### Test"
   ]
  },
  {
   "cell_type": "code",
   "execution_count": 720,
   "metadata": {},
   "outputs": [
    {
     "name": "stdout",
     "output_type": "stream",
     "text": [
      "<class 'pandas.core.frame.DataFrame'>\n",
      "RangeIndex: 2075 entries, 0 to 2074\n",
      "Data columns (total 10 columns):\n",
      "tweet_id    2075 non-null int64\n",
      "p1          2075 non-null object\n",
      "p1_conf     2075 non-null float64\n",
      "p1_dog      2075 non-null bool\n",
      "p2          2075 non-null object\n",
      "p2_conf     2075 non-null float64\n",
      "p2_dog      2075 non-null bool\n",
      "p3          2075 non-null object\n",
      "p3_conf     2075 non-null float64\n",
      "p3_dog      2075 non-null bool\n",
      "dtypes: bool(3), float64(3), int64(1), object(3)\n",
      "memory usage: 119.6+ KB\n"
     ]
    }
   ],
   "source": [
    "pred_clean.info()"
   ]
  },
  {
   "cell_type": "markdown",
   "metadata": {},
   "source": [
    "## tweet_df\n",
    "### Wrong index in 'tweet_df' table"
   ]
  },
  {
   "cell_type": "markdown",
   "metadata": {},
   "source": [
    "#### Define"
   ]
  },
  {
   "cell_type": "markdown",
   "metadata": {},
   "source": [
    "The index used in the tweet_df table is the tweet_id somehow converted into a datetime format. This should be removed and a normal index inserted instead"
   ]
  },
  {
   "cell_type": "markdown",
   "metadata": {},
   "source": [
    "#### Code"
   ]
  },
  {
   "cell_type": "code",
   "execution_count": 721,
   "metadata": {},
   "outputs": [],
   "source": [
    "tweet_df_clean.reset_index(inplace=True)\n",
    "tweet_df_clean.drop('index', axis=1, inplace=True)\n",
    "#tweet_df_clean.drop('level_0', axis=1, inplace=True)"
   ]
  },
  {
   "cell_type": "markdown",
   "metadata": {},
   "source": [
    "#### Test"
   ]
  },
  {
   "cell_type": "code",
   "execution_count": 722,
   "metadata": {},
   "outputs": [
    {
     "data": {
      "text/html": [
       "<div>\n",
       "<style>\n",
       "    .dataframe thead tr:only-child th {\n",
       "        text-align: right;\n",
       "    }\n",
       "\n",
       "    .dataframe thead th {\n",
       "        text-align: left;\n",
       "    }\n",
       "\n",
       "    .dataframe tbody tr th {\n",
       "        vertical-align: top;\n",
       "    }\n",
       "</style>\n",
       "<table border=\"1\" class=\"dataframe\">\n",
       "  <thead>\n",
       "    <tr style=\"text-align: right;\">\n",
       "      <th></th>\n",
       "      <th>contributors</th>\n",
       "      <th>coordinates</th>\n",
       "      <th>created_at</th>\n",
       "      <th>entities</th>\n",
       "      <th>extended_entities</th>\n",
       "      <th>favorite_count</th>\n",
       "      <th>favorited</th>\n",
       "      <th>geo</th>\n",
       "      <th>id</th>\n",
       "      <th>id_str</th>\n",
       "      <th>...</th>\n",
       "      <th>quoted_status</th>\n",
       "      <th>quoted_status_id</th>\n",
       "      <th>quoted_status_id_str</th>\n",
       "      <th>retweet_count</th>\n",
       "      <th>retweeted</th>\n",
       "      <th>retweeted_status</th>\n",
       "      <th>source</th>\n",
       "      <th>text</th>\n",
       "      <th>truncated</th>\n",
       "      <th>user</th>\n",
       "    </tr>\n",
       "  </thead>\n",
       "  <tbody>\n",
       "    <tr>\n",
       "      <th>0</th>\n",
       "      <td>NaN</td>\n",
       "      <td>NaN</td>\n",
       "      <td>2015-11-15 22:32:08</td>\n",
       "      <td>{'hashtags': [], 'media': [{'display_url': 'pi...</td>\n",
       "      <td>{'media': [{'display_url': 'pic.twitter.com/BL...</td>\n",
       "      <td>2555</td>\n",
       "      <td>0</td>\n",
       "      <td>NaN</td>\n",
       "      <td>666020888022790144</td>\n",
       "      <td>666020888022790144</td>\n",
       "      <td>...</td>\n",
       "      <td>NaN</td>\n",
       "      <td>NaN</td>\n",
       "      <td>NaN</td>\n",
       "      <td>517</td>\n",
       "      <td>0</td>\n",
       "      <td>NaN</td>\n",
       "      <td>&lt;a href=\"http://twitter.com/download/iphone\" r...</td>\n",
       "      <td>Here we have a Japanese Irish Setter. Lost eye...</td>\n",
       "      <td>0</td>\n",
       "      <td>{'contributors_enabled': False, 'created_at': ...</td>\n",
       "    </tr>\n",
       "    <tr>\n",
       "      <th>1</th>\n",
       "      <td>NaN</td>\n",
       "      <td>NaN</td>\n",
       "      <td>2015-11-15 23:05:30</td>\n",
       "      <td>{'hashtags': [], 'media': [{'display_url': 'pi...</td>\n",
       "      <td>{'media': [{'display_url': 'pic.twitter.com/r7...</td>\n",
       "      <td>129</td>\n",
       "      <td>0</td>\n",
       "      <td>NaN</td>\n",
       "      <td>666029285002620928</td>\n",
       "      <td>666029285002620928</td>\n",
       "      <td>...</td>\n",
       "      <td>NaN</td>\n",
       "      <td>NaN</td>\n",
       "      <td>NaN</td>\n",
       "      <td>46</td>\n",
       "      <td>0</td>\n",
       "      <td>NaN</td>\n",
       "      <td>&lt;a href=\"http://twitter.com/download/iphone\" r...</td>\n",
       "      <td>This is a western brown Mitsubishi terrier. Up...</td>\n",
       "      <td>0</td>\n",
       "      <td>{'contributors_enabled': False, 'created_at': ...</td>\n",
       "    </tr>\n",
       "    <tr>\n",
       "      <th>2</th>\n",
       "      <td>NaN</td>\n",
       "      <td>NaN</td>\n",
       "      <td>2015-11-15 23:21:54</td>\n",
       "      <td>{'hashtags': [], 'media': [{'display_url': 'pi...</td>\n",
       "      <td>{'media': [{'display_url': 'pic.twitter.com/y6...</td>\n",
       "      <td>125</td>\n",
       "      <td>0</td>\n",
       "      <td>NaN</td>\n",
       "      <td>666033412701032448</td>\n",
       "      <td>666033412701032448</td>\n",
       "      <td>...</td>\n",
       "      <td>NaN</td>\n",
       "      <td>NaN</td>\n",
       "      <td>NaN</td>\n",
       "      <td>44</td>\n",
       "      <td>0</td>\n",
       "      <td>NaN</td>\n",
       "      <td>&lt;a href=\"http://twitter.com/download/iphone\" r...</td>\n",
       "      <td>Here is a very happy pup. Big fan of well-main...</td>\n",
       "      <td>0</td>\n",
       "      <td>{'contributors_enabled': False, 'created_at': ...</td>\n",
       "    </tr>\n",
       "    <tr>\n",
       "      <th>3</th>\n",
       "      <td>NaN</td>\n",
       "      <td>NaN</td>\n",
       "      <td>2015-11-16 00:04:52</td>\n",
       "      <td>{'hashtags': [], 'media': [{'display_url': 'pi...</td>\n",
       "      <td>{'media': [{'display_url': 'pic.twitter.com/DW...</td>\n",
       "      <td>299</td>\n",
       "      <td>0</td>\n",
       "      <td>NaN</td>\n",
       "      <td>666044226329800704</td>\n",
       "      <td>666044226329800704</td>\n",
       "      <td>...</td>\n",
       "      <td>NaN</td>\n",
       "      <td>NaN</td>\n",
       "      <td>NaN</td>\n",
       "      <td>141</td>\n",
       "      <td>0</td>\n",
       "      <td>NaN</td>\n",
       "      <td>&lt;a href=\"http://twitter.com/download/iphone\" r...</td>\n",
       "      <td>This is a purebred Piers Morgan. Loves to Netf...</td>\n",
       "      <td>0</td>\n",
       "      <td>{'contributors_enabled': False, 'created_at': ...</td>\n",
       "    </tr>\n",
       "    <tr>\n",
       "      <th>4</th>\n",
       "      <td>NaN</td>\n",
       "      <td>NaN</td>\n",
       "      <td>2015-11-16 00:24:50</td>\n",
       "      <td>{'hashtags': [], 'media': [{'display_url': 'pi...</td>\n",
       "      <td>{'media': [{'display_url': 'pic.twitter.com/4B...</td>\n",
       "      <td>109</td>\n",
       "      <td>0</td>\n",
       "      <td>NaN</td>\n",
       "      <td>666049248165822464</td>\n",
       "      <td>666049248165822464</td>\n",
       "      <td>...</td>\n",
       "      <td>NaN</td>\n",
       "      <td>NaN</td>\n",
       "      <td>NaN</td>\n",
       "      <td>40</td>\n",
       "      <td>0</td>\n",
       "      <td>NaN</td>\n",
       "      <td>&lt;a href=\"http://twitter.com/download/iphone\" r...</td>\n",
       "      <td>Here we have a 1949 1st generation vulpix. Enj...</td>\n",
       "      <td>0</td>\n",
       "      <td>{'contributors_enabled': False, 'created_at': ...</td>\n",
       "    </tr>\n",
       "  </tbody>\n",
       "</table>\n",
       "<p>5 rows × 30 columns</p>\n",
       "</div>"
      ],
      "text/plain": [
       "   contributors  coordinates          created_at  \\\n",
       "0           NaN          NaN 2015-11-15 22:32:08   \n",
       "1           NaN          NaN 2015-11-15 23:05:30   \n",
       "2           NaN          NaN 2015-11-15 23:21:54   \n",
       "3           NaN          NaN 2015-11-16 00:04:52   \n",
       "4           NaN          NaN 2015-11-16 00:24:50   \n",
       "\n",
       "                                            entities  \\\n",
       "0  {'hashtags': [], 'media': [{'display_url': 'pi...   \n",
       "1  {'hashtags': [], 'media': [{'display_url': 'pi...   \n",
       "2  {'hashtags': [], 'media': [{'display_url': 'pi...   \n",
       "3  {'hashtags': [], 'media': [{'display_url': 'pi...   \n",
       "4  {'hashtags': [], 'media': [{'display_url': 'pi...   \n",
       "\n",
       "                                   extended_entities  favorite_count  \\\n",
       "0  {'media': [{'display_url': 'pic.twitter.com/BL...            2555   \n",
       "1  {'media': [{'display_url': 'pic.twitter.com/r7...             129   \n",
       "2  {'media': [{'display_url': 'pic.twitter.com/y6...             125   \n",
       "3  {'media': [{'display_url': 'pic.twitter.com/DW...             299   \n",
       "4  {'media': [{'display_url': 'pic.twitter.com/4B...             109   \n",
       "\n",
       "   favorited  geo                  id              id_str  \\\n",
       "0          0  NaN  666020888022790144  666020888022790144   \n",
       "1          0  NaN  666029285002620928  666029285002620928   \n",
       "2          0  NaN  666033412701032448  666033412701032448   \n",
       "3          0  NaN  666044226329800704  666044226329800704   \n",
       "4          0  NaN  666049248165822464  666049248165822464   \n",
       "\n",
       "                         ...                         quoted_status  \\\n",
       "0                        ...                                   NaN   \n",
       "1                        ...                                   NaN   \n",
       "2                        ...                                   NaN   \n",
       "3                        ...                                   NaN   \n",
       "4                        ...                                   NaN   \n",
       "\n",
       "   quoted_status_id  quoted_status_id_str  retweet_count  retweeted  \\\n",
       "0               NaN                   NaN            517          0   \n",
       "1               NaN                   NaN             46          0   \n",
       "2               NaN                   NaN             44          0   \n",
       "3               NaN                   NaN            141          0   \n",
       "4               NaN                   NaN             40          0   \n",
       "\n",
       "   retweeted_status                                             source  \\\n",
       "0               NaN  <a href=\"http://twitter.com/download/iphone\" r...   \n",
       "1               NaN  <a href=\"http://twitter.com/download/iphone\" r...   \n",
       "2               NaN  <a href=\"http://twitter.com/download/iphone\" r...   \n",
       "3               NaN  <a href=\"http://twitter.com/download/iphone\" r...   \n",
       "4               NaN  <a href=\"http://twitter.com/download/iphone\" r...   \n",
       "\n",
       "                                                text  truncated  \\\n",
       "0  Here we have a Japanese Irish Setter. Lost eye...          0   \n",
       "1  This is a western brown Mitsubishi terrier. Up...          0   \n",
       "2  Here is a very happy pup. Big fan of well-main...          0   \n",
       "3  This is a purebred Piers Morgan. Loves to Netf...          0   \n",
       "4  Here we have a 1949 1st generation vulpix. Enj...          0   \n",
       "\n",
       "                                                user  \n",
       "0  {'contributors_enabled': False, 'created_at': ...  \n",
       "1  {'contributors_enabled': False, 'created_at': ...  \n",
       "2  {'contributors_enabled': False, 'created_at': ...  \n",
       "3  {'contributors_enabled': False, 'created_at': ...  \n",
       "4  {'contributors_enabled': False, 'created_at': ...  \n",
       "\n",
       "[5 rows x 30 columns]"
      ]
     },
     "execution_count": 722,
     "metadata": {},
     "output_type": "execute_result"
    }
   ],
   "source": [
    "tweet_df_clean.head()"
   ]
  },
  {
   "cell_type": "markdown",
   "metadata": {},
   "source": [
    "### Drop some columns as per project description  in tweet_df"
   ]
  },
  {
   "cell_type": "markdown",
   "metadata": {},
   "source": [
    "#### Define"
   ]
  },
  {
   "cell_type": "markdown",
   "metadata": {},
   "source": [
    "The project description states \"Each tweet's retweet count and favorite (\"like\") count at minimum, and any additional data you find interesting\". Several columns will be removed as they either contain a lot of text or have very few entries. The columns possibly_sensitive and possibly_sensitive_appealable are both full of zero values and will also be removed."
   ]
  },
  {
   "cell_type": "markdown",
   "metadata": {},
   "source": [
    "#### Code"
   ]
  },
  {
   "cell_type": "code",
   "execution_count": 723,
   "metadata": {},
   "outputs": [],
   "source": [
    "tweet_df_clean.drop(['contributors', 'coordinates','entities','extended_entities',\n",
    "               'geo','id_str','in_reply_to_screen_name','in_reply_to_status_id',\n",
    "               'in_reply_to_status_id_str','in_reply_to_user_id',\n",
    "               'in_reply_to_user_id_str','is_quote_status','lang','place',\n",
    "               'possibly_sensitive','possibly_sensitive_appealable','quoted_status',\n",
    "               'quoted_status_id','quoted_status_id_str','retweeted_status','source',\n",
    "               'text','truncated','user'], axis=1,inplace=True)"
   ]
  },
  {
   "cell_type": "markdown",
   "metadata": {},
   "source": [
    "#### Test"
   ]
  },
  {
   "cell_type": "code",
   "execution_count": 724,
   "metadata": {},
   "outputs": [
    {
     "data": {
      "text/html": [
       "<div>\n",
       "<style>\n",
       "    .dataframe thead tr:only-child th {\n",
       "        text-align: right;\n",
       "    }\n",
       "\n",
       "    .dataframe thead th {\n",
       "        text-align: left;\n",
       "    }\n",
       "\n",
       "    .dataframe tbody tr th {\n",
       "        vertical-align: top;\n",
       "    }\n",
       "</style>\n",
       "<table border=\"1\" class=\"dataframe\">\n",
       "  <thead>\n",
       "    <tr style=\"text-align: right;\">\n",
       "      <th></th>\n",
       "      <th>created_at</th>\n",
       "      <th>favorite_count</th>\n",
       "      <th>favorited</th>\n",
       "      <th>id</th>\n",
       "      <th>retweet_count</th>\n",
       "      <th>retweeted</th>\n",
       "    </tr>\n",
       "  </thead>\n",
       "  <tbody>\n",
       "    <tr>\n",
       "      <th>0</th>\n",
       "      <td>2015-11-15 22:32:08</td>\n",
       "      <td>2555</td>\n",
       "      <td>0</td>\n",
       "      <td>666020888022790144</td>\n",
       "      <td>517</td>\n",
       "      <td>0</td>\n",
       "    </tr>\n",
       "    <tr>\n",
       "      <th>1</th>\n",
       "      <td>2015-11-15 23:05:30</td>\n",
       "      <td>129</td>\n",
       "      <td>0</td>\n",
       "      <td>666029285002620928</td>\n",
       "      <td>46</td>\n",
       "      <td>0</td>\n",
       "    </tr>\n",
       "    <tr>\n",
       "      <th>2</th>\n",
       "      <td>2015-11-15 23:21:54</td>\n",
       "      <td>125</td>\n",
       "      <td>0</td>\n",
       "      <td>666033412701032448</td>\n",
       "      <td>44</td>\n",
       "      <td>0</td>\n",
       "    </tr>\n",
       "    <tr>\n",
       "      <th>3</th>\n",
       "      <td>2015-11-16 00:04:52</td>\n",
       "      <td>299</td>\n",
       "      <td>0</td>\n",
       "      <td>666044226329800704</td>\n",
       "      <td>141</td>\n",
       "      <td>0</td>\n",
       "    </tr>\n",
       "    <tr>\n",
       "      <th>4</th>\n",
       "      <td>2015-11-16 00:24:50</td>\n",
       "      <td>109</td>\n",
       "      <td>0</td>\n",
       "      <td>666049248165822464</td>\n",
       "      <td>40</td>\n",
       "      <td>0</td>\n",
       "    </tr>\n",
       "  </tbody>\n",
       "</table>\n",
       "</div>"
      ],
      "text/plain": [
       "           created_at  favorite_count  favorited                  id  \\\n",
       "0 2015-11-15 22:32:08            2555          0  666020888022790144   \n",
       "1 2015-11-15 23:05:30             129          0  666029285002620928   \n",
       "2 2015-11-15 23:21:54             125          0  666033412701032448   \n",
       "3 2015-11-16 00:04:52             299          0  666044226329800704   \n",
       "4 2015-11-16 00:24:50             109          0  666049248165822464   \n",
       "\n",
       "   retweet_count  retweeted  \n",
       "0            517          0  \n",
       "1             46          0  \n",
       "2             44          0  \n",
       "3            141          0  \n",
       "4             40          0  "
      ]
     },
     "execution_count": 724,
     "metadata": {},
     "output_type": "execute_result"
    }
   ],
   "source": [
    "tweet_df_clean.head()"
   ]
  },
  {
   "cell_type": "code",
   "execution_count": 725,
   "metadata": {},
   "outputs": [
    {
     "name": "stdout",
     "output_type": "stream",
     "text": [
      "<class 'pandas.core.frame.DataFrame'>\n",
      "RangeIndex: 2344 entries, 0 to 2343\n",
      "Data columns (total 6 columns):\n",
      "created_at        2344 non-null datetime64[ns]\n",
      "favorite_count    2344 non-null int64\n",
      "favorited         2344 non-null int64\n",
      "id                2344 non-null int64\n",
      "retweet_count     2344 non-null int64\n",
      "retweeted         2344 non-null int64\n",
      "dtypes: datetime64[ns](1), int64(5)\n",
      "memory usage: 110.0 KB\n"
     ]
    }
   ],
   "source": [
    "tweet_df_clean.info()"
   ]
  },
  {
   "cell_type": "markdown",
   "metadata": {},
   "source": [
    "### Rename id to tweet_id in tweet_df "
   ]
  },
  {
   "cell_type": "markdown",
   "metadata": {},
   "source": [
    "#### Define"
   ]
  },
  {
   "cell_type": "markdown",
   "metadata": {},
   "source": [
    "To succesfully merge the cleaned datasets it is necessary to have all the columns with the tweet id's named similarly. The column in tweet_df for id's is currently named __id__ which should be changed to **tweet_id**"
   ]
  },
  {
   "cell_type": "markdown",
   "metadata": {},
   "source": [
    "#### Code"
   ]
  },
  {
   "cell_type": "code",
   "execution_count": 726,
   "metadata": {},
   "outputs": [],
   "source": [
    "tweet_df_clean.rename(columns={'id':'tweet_id'},inplace=True)"
   ]
  },
  {
   "cell_type": "markdown",
   "metadata": {},
   "source": [
    "#### Test"
   ]
  },
  {
   "cell_type": "code",
   "execution_count": 727,
   "metadata": {},
   "outputs": [
    {
     "data": {
      "text/html": [
       "<div>\n",
       "<style>\n",
       "    .dataframe thead tr:only-child th {\n",
       "        text-align: right;\n",
       "    }\n",
       "\n",
       "    .dataframe thead th {\n",
       "        text-align: left;\n",
       "    }\n",
       "\n",
       "    .dataframe tbody tr th {\n",
       "        vertical-align: top;\n",
       "    }\n",
       "</style>\n",
       "<table border=\"1\" class=\"dataframe\">\n",
       "  <thead>\n",
       "    <tr style=\"text-align: right;\">\n",
       "      <th></th>\n",
       "      <th>created_at</th>\n",
       "      <th>favorite_count</th>\n",
       "      <th>favorited</th>\n",
       "      <th>tweet_id</th>\n",
       "      <th>retweet_count</th>\n",
       "      <th>retweeted</th>\n",
       "    </tr>\n",
       "  </thead>\n",
       "  <tbody>\n",
       "    <tr>\n",
       "      <th>0</th>\n",
       "      <td>2015-11-15 22:32:08</td>\n",
       "      <td>2555</td>\n",
       "      <td>0</td>\n",
       "      <td>666020888022790144</td>\n",
       "      <td>517</td>\n",
       "      <td>0</td>\n",
       "    </tr>\n",
       "    <tr>\n",
       "      <th>1</th>\n",
       "      <td>2015-11-15 23:05:30</td>\n",
       "      <td>129</td>\n",
       "      <td>0</td>\n",
       "      <td>666029285002620928</td>\n",
       "      <td>46</td>\n",
       "      <td>0</td>\n",
       "    </tr>\n",
       "    <tr>\n",
       "      <th>2</th>\n",
       "      <td>2015-11-15 23:21:54</td>\n",
       "      <td>125</td>\n",
       "      <td>0</td>\n",
       "      <td>666033412701032448</td>\n",
       "      <td>44</td>\n",
       "      <td>0</td>\n",
       "    </tr>\n",
       "    <tr>\n",
       "      <th>3</th>\n",
       "      <td>2015-11-16 00:04:52</td>\n",
       "      <td>299</td>\n",
       "      <td>0</td>\n",
       "      <td>666044226329800704</td>\n",
       "      <td>141</td>\n",
       "      <td>0</td>\n",
       "    </tr>\n",
       "    <tr>\n",
       "      <th>4</th>\n",
       "      <td>2015-11-16 00:24:50</td>\n",
       "      <td>109</td>\n",
       "      <td>0</td>\n",
       "      <td>666049248165822464</td>\n",
       "      <td>40</td>\n",
       "      <td>0</td>\n",
       "    </tr>\n",
       "  </tbody>\n",
       "</table>\n",
       "</div>"
      ],
      "text/plain": [
       "           created_at  favorite_count  favorited            tweet_id  \\\n",
       "0 2015-11-15 22:32:08            2555          0  666020888022790144   \n",
       "1 2015-11-15 23:05:30             129          0  666029285002620928   \n",
       "2 2015-11-15 23:21:54             125          0  666033412701032448   \n",
       "3 2015-11-16 00:04:52             299          0  666044226329800704   \n",
       "4 2015-11-16 00:24:50             109          0  666049248165822464   \n",
       "\n",
       "   retweet_count  retweeted  \n",
       "0            517          0  \n",
       "1             46          0  \n",
       "2             44          0  \n",
       "3            141          0  \n",
       "4             40          0  "
      ]
     },
     "execution_count": 727,
     "metadata": {},
     "output_type": "execute_result"
    }
   ],
   "source": [
    "tweet_df_clean.head()"
   ]
  },
  {
   "cell_type": "markdown",
   "metadata": {},
   "source": [
    "## Merge datasets using tweet_id's  \n",
    "## Delete some more columns in merged dataframe"
   ]
  },
  {
   "cell_type": "markdown",
   "metadata": {},
   "source": [
    "#### Define"
   ]
  },
  {
   "cell_type": "markdown",
   "metadata": {},
   "source": [
    "All the three cleaned datasets will be merged using the tweet_id's that are represented in all three datasets. This is done to include more relevant data for analysis"
   ]
  },
  {
   "cell_type": "markdown",
   "metadata": {},
   "source": [
    "#### Code"
   ]
  },
  {
   "cell_type": "code",
   "execution_count": 728,
   "metadata": {},
   "outputs": [
    {
     "name": "stdout",
     "output_type": "stream",
     "text": [
      "<class 'pandas.core.frame.DataFrame'>\n",
      "Int64Index: 1342 entries, 0 to 1341\n",
      "Data columns (total 11 columns):\n",
      "tweet_id              1342 non-null int64\n",
      "timestamp             1342 non-null datetime64[ns]\n",
      "text                  1342 non-null object\n",
      "rating_numerator      1342 non-null int64\n",
      "rating_denominator    1342 non-null int64\n",
      "dog_nick              1342 non-null object\n",
      "created_at            1342 non-null datetime64[ns]\n",
      "favorite_count        1342 non-null int64\n",
      "favorited             1342 non-null int64\n",
      "retweet_count         1342 non-null int64\n",
      "retweeted             1342 non-null int64\n",
      "dtypes: datetime64[ns](2), int64(7), object(2)\n",
      "memory usage: 125.8+ KB\n"
     ]
    }
   ],
   "source": [
    "#https://chrisalbon.com/python/data_wrangling/pandas_join_merge_dataframe/\n",
    "#An inner join is used as the API to download tweets have gone beyond the tweets in the provided dataset. \n",
    "#By using the inner join only the tweets represented in both datasets will be merged.\n",
    "df_merged = pd.merge(df_clean, tweet_df_clean, on='tweet_id', how='inner')\n",
    "df_merged.info()"
   ]
  },
  {
   "cell_type": "markdown",
   "metadata": {},
   "source": [
    "The two input datasets have 2302 and 2344 columns and the merge only produces 1475 columns. This means that a lot of the tweet data is not represented in both datasets. This could be due to some fault in the tweepy API or due to the cleaning that has been undertaken above."
   ]
  },
  {
   "cell_type": "code",
   "execution_count": 729,
   "metadata": {},
   "outputs": [
    {
     "name": "stdout",
     "output_type": "stream",
     "text": [
      "<class 'pandas.core.frame.DataFrame'>\n",
      "Int64Index: 1256 entries, 0 to 1255\n",
      "Data columns (total 20 columns):\n",
      "tweet_id              1256 non-null int64\n",
      "timestamp             1256 non-null datetime64[ns]\n",
      "text                  1256 non-null object\n",
      "rating_numerator      1256 non-null int64\n",
      "rating_denominator    1256 non-null int64\n",
      "dog_nick              1256 non-null object\n",
      "created_at            1256 non-null datetime64[ns]\n",
      "favorite_count        1256 non-null int64\n",
      "favorited             1256 non-null int64\n",
      "retweet_count         1256 non-null int64\n",
      "retweeted             1256 non-null int64\n",
      "p1                    1256 non-null object\n",
      "p1_conf               1256 non-null float64\n",
      "p1_dog                1256 non-null bool\n",
      "p2                    1256 non-null object\n",
      "p2_conf               1256 non-null float64\n",
      "p2_dog                1256 non-null bool\n",
      "p3                    1256 non-null object\n",
      "p3_conf               1256 non-null float64\n",
      "p3_dog                1256 non-null bool\n",
      "dtypes: bool(3), datetime64[ns](2), float64(3), int64(7), object(5)\n",
      "memory usage: 180.3+ KB\n"
     ]
    }
   ],
   "source": [
    "df_merged = pd.merge(df_merged, pred_clean, on='tweet_id', how='inner')\n",
    "df_merged.info()"
   ]
  },
  {
   "cell_type": "markdown",
   "metadata": {},
   "source": [
    "A few more rows have been removed due to lack of overlapping tweet id's"
   ]
  },
  {
   "cell_type": "markdown",
   "metadata": {},
   "source": [
    "#### Test"
   ]
  },
  {
   "cell_type": "code",
   "execution_count": 730,
   "metadata": {},
   "outputs": [
    {
     "data": {
      "text/html": [
       "<div>\n",
       "<style>\n",
       "    .dataframe thead tr:only-child th {\n",
       "        text-align: right;\n",
       "    }\n",
       "\n",
       "    .dataframe thead th {\n",
       "        text-align: left;\n",
       "    }\n",
       "\n",
       "    .dataframe tbody tr th {\n",
       "        vertical-align: top;\n",
       "    }\n",
       "</style>\n",
       "<table border=\"1\" class=\"dataframe\">\n",
       "  <thead>\n",
       "    <tr style=\"text-align: right;\">\n",
       "      <th></th>\n",
       "      <th>tweet_id</th>\n",
       "      <th>timestamp</th>\n",
       "      <th>text</th>\n",
       "      <th>rating_numerator</th>\n",
       "      <th>rating_denominator</th>\n",
       "      <th>dog_nick</th>\n",
       "      <th>created_at</th>\n",
       "      <th>favorite_count</th>\n",
       "      <th>favorited</th>\n",
       "      <th>retweet_count</th>\n",
       "      <th>retweeted</th>\n",
       "      <th>p1</th>\n",
       "      <th>p1_conf</th>\n",
       "      <th>p1_dog</th>\n",
       "      <th>p2</th>\n",
       "      <th>p2_conf</th>\n",
       "      <th>p2_dog</th>\n",
       "      <th>p3</th>\n",
       "      <th>p3_conf</th>\n",
       "      <th>p3_dog</th>\n",
       "    </tr>\n",
       "  </thead>\n",
       "  <tbody>\n",
       "    <tr>\n",
       "      <th>0</th>\n",
       "      <td>891815181378084864</td>\n",
       "      <td>2017-07-31 00:18:03</td>\n",
       "      <td>This is Archie. He is a rare Norwegian Pouncin...</td>\n",
       "      <td>12</td>\n",
       "      <td>10</td>\n",
       "      <td></td>\n",
       "      <td>2017-07-31 00:18:03</td>\n",
       "      <td>25009</td>\n",
       "      <td>0</td>\n",
       "      <td>4186</td>\n",
       "      <td>0</td>\n",
       "      <td>Chihuahua</td>\n",
       "      <td>0.716012</td>\n",
       "      <td>True</td>\n",
       "      <td>malamute</td>\n",
       "      <td>0.078253</td>\n",
       "      <td>True</td>\n",
       "      <td>kelpie</td>\n",
       "      <td>0.031379</td>\n",
       "      <td>True</td>\n",
       "    </tr>\n",
       "    <tr>\n",
       "      <th>1</th>\n",
       "      <td>891689557279858688</td>\n",
       "      <td>2017-07-30 15:58:51</td>\n",
       "      <td>This is Darla. She commenced a snooze mid meal...</td>\n",
       "      <td>13</td>\n",
       "      <td>10</td>\n",
       "      <td></td>\n",
       "      <td>2017-07-30 15:58:51</td>\n",
       "      <td>42146</td>\n",
       "      <td>0</td>\n",
       "      <td>8706</td>\n",
       "      <td>0</td>\n",
       "      <td>paper_towel</td>\n",
       "      <td>0.170278</td>\n",
       "      <td>False</td>\n",
       "      <td>Labrador_retriever</td>\n",
       "      <td>0.168086</td>\n",
       "      <td>True</td>\n",
       "      <td>spatula</td>\n",
       "      <td>0.040836</td>\n",
       "      <td>False</td>\n",
       "    </tr>\n",
       "    <tr>\n",
       "      <th>2</th>\n",
       "      <td>891327558926688256</td>\n",
       "      <td>2017-07-29 16:00:24</td>\n",
       "      <td>This is Franklin. He would like you to stop ca...</td>\n",
       "      <td>12</td>\n",
       "      <td>10</td>\n",
       "      <td></td>\n",
       "      <td>2017-07-29 16:00:24</td>\n",
       "      <td>40312</td>\n",
       "      <td>0</td>\n",
       "      <td>9467</td>\n",
       "      <td>0</td>\n",
       "      <td>basset</td>\n",
       "      <td>0.555712</td>\n",
       "      <td>True</td>\n",
       "      <td>English_springer</td>\n",
       "      <td>0.225770</td>\n",
       "      <td>True</td>\n",
       "      <td>German_short-haired_pointer</td>\n",
       "      <td>0.175219</td>\n",
       "      <td>True</td>\n",
       "    </tr>\n",
       "    <tr>\n",
       "      <th>3</th>\n",
       "      <td>891087950875897856</td>\n",
       "      <td>2017-07-29 00:08:17</td>\n",
       "      <td>Here we have a majestic great white breaching ...</td>\n",
       "      <td>13</td>\n",
       "      <td>10</td>\n",
       "      <td></td>\n",
       "      <td>2017-07-29 00:08:17</td>\n",
       "      <td>20207</td>\n",
       "      <td>0</td>\n",
       "      <td>3136</td>\n",
       "      <td>0</td>\n",
       "      <td>Chesapeake_Bay_retriever</td>\n",
       "      <td>0.425595</td>\n",
       "      <td>True</td>\n",
       "      <td>Irish_terrier</td>\n",
       "      <td>0.116317</td>\n",
       "      <td>True</td>\n",
       "      <td>Indian_elephant</td>\n",
       "      <td>0.076902</td>\n",
       "      <td>False</td>\n",
       "    </tr>\n",
       "    <tr>\n",
       "      <th>4</th>\n",
       "      <td>890729181411237888</td>\n",
       "      <td>2017-07-28 00:22:40</td>\n",
       "      <td>When you watch your owner call another dog a g...</td>\n",
       "      <td>13</td>\n",
       "      <td>10</td>\n",
       "      <td></td>\n",
       "      <td>2017-07-28 00:22:40</td>\n",
       "      <td>65476</td>\n",
       "      <td>0</td>\n",
       "      <td>19021</td>\n",
       "      <td>0</td>\n",
       "      <td>Pomeranian</td>\n",
       "      <td>0.566142</td>\n",
       "      <td>True</td>\n",
       "      <td>Eskimo_dog</td>\n",
       "      <td>0.178406</td>\n",
       "      <td>True</td>\n",
       "      <td>Pembroke</td>\n",
       "      <td>0.076507</td>\n",
       "      <td>True</td>\n",
       "    </tr>\n",
       "  </tbody>\n",
       "</table>\n",
       "</div>"
      ],
      "text/plain": [
       "             tweet_id           timestamp  \\\n",
       "0  891815181378084864 2017-07-31 00:18:03   \n",
       "1  891689557279858688 2017-07-30 15:58:51   \n",
       "2  891327558926688256 2017-07-29 16:00:24   \n",
       "3  891087950875897856 2017-07-29 00:08:17   \n",
       "4  890729181411237888 2017-07-28 00:22:40   \n",
       "\n",
       "                                                text  rating_numerator  \\\n",
       "0  This is Archie. He is a rare Norwegian Pouncin...                12   \n",
       "1  This is Darla. She commenced a snooze mid meal...                13   \n",
       "2  This is Franklin. He would like you to stop ca...                12   \n",
       "3  Here we have a majestic great white breaching ...                13   \n",
       "4  When you watch your owner call another dog a g...                13   \n",
       "\n",
       "   rating_denominator dog_nick          created_at  favorite_count  favorited  \\\n",
       "0                  10          2017-07-31 00:18:03           25009          0   \n",
       "1                  10          2017-07-30 15:58:51           42146          0   \n",
       "2                  10          2017-07-29 16:00:24           40312          0   \n",
       "3                  10          2017-07-29 00:08:17           20207          0   \n",
       "4                  10          2017-07-28 00:22:40           65476          0   \n",
       "\n",
       "   retweet_count  retweeted                        p1   p1_conf  p1_dog  \\\n",
       "0           4186          0                 Chihuahua  0.716012    True   \n",
       "1           8706          0               paper_towel  0.170278   False   \n",
       "2           9467          0                    basset  0.555712    True   \n",
       "3           3136          0  Chesapeake_Bay_retriever  0.425595    True   \n",
       "4          19021          0                Pomeranian  0.566142    True   \n",
       "\n",
       "                   p2   p2_conf  p2_dog                           p3  \\\n",
       "0            malamute  0.078253    True                       kelpie   \n",
       "1  Labrador_retriever  0.168086    True                      spatula   \n",
       "2    English_springer  0.225770    True  German_short-haired_pointer   \n",
       "3       Irish_terrier  0.116317    True              Indian_elephant   \n",
       "4          Eskimo_dog  0.178406    True                     Pembroke   \n",
       "\n",
       "    p3_conf  p3_dog  \n",
       "0  0.031379    True  \n",
       "1  0.040836   False  \n",
       "2  0.175219    True  \n",
       "3  0.076902   False  \n",
       "4  0.076507    True  "
      ]
     },
     "execution_count": 730,
     "metadata": {},
     "output_type": "execute_result"
    }
   ],
   "source": [
    "df_merged.head()"
   ]
  },
  {
   "cell_type": "markdown",
   "metadata": {},
   "source": [
    "Time is represented twice - **timestamp** and **created_at**. **created_at** will be removed"
   ]
  },
  {
   "cell_type": "code",
   "execution_count": 731,
   "metadata": {},
   "outputs": [],
   "source": [
    "df_merged.drop(['created_at'], axis=1,inplace=True);"
   ]
  },
  {
   "cell_type": "code",
   "execution_count": 732,
   "metadata": {},
   "outputs": [
    {
     "name": "stdout",
     "output_type": "stream",
     "text": [
      "<class 'pandas.core.frame.DataFrame'>\n",
      "Int64Index: 1256 entries, 0 to 1255\n",
      "Data columns (total 19 columns):\n",
      "tweet_id              1256 non-null int64\n",
      "timestamp             1256 non-null datetime64[ns]\n",
      "text                  1256 non-null object\n",
      "rating_numerator      1256 non-null int64\n",
      "rating_denominator    1256 non-null int64\n",
      "dog_nick              1256 non-null object\n",
      "favorite_count        1256 non-null int64\n",
      "favorited             1256 non-null int64\n",
      "retweet_count         1256 non-null int64\n",
      "retweeted             1256 non-null int64\n",
      "p1                    1256 non-null object\n",
      "p1_conf               1256 non-null float64\n",
      "p1_dog                1256 non-null bool\n",
      "p2                    1256 non-null object\n",
      "p2_conf               1256 non-null float64\n",
      "p2_dog                1256 non-null bool\n",
      "p3                    1256 non-null object\n",
      "p3_conf               1256 non-null float64\n",
      "p3_dog                1256 non-null bool\n",
      "dtypes: bool(3), datetime64[ns](1), float64(3), int64(7), object(5)\n",
      "memory usage: 170.5+ KB\n"
     ]
    }
   ],
   "source": [
    "df_merged.info()"
   ]
  },
  {
   "cell_type": "code",
   "execution_count": 733,
   "metadata": {},
   "outputs": [],
   "source": [
    "df_merged.to_csv('twitter_archive_master.csv', index=False)"
   ]
  },
  {
   "cell_type": "markdown",
   "metadata": {},
   "source": [
    "### Insights and vizualizations"
   ]
  },
  {
   "cell_type": "markdown",
   "metadata": {},
   "source": [
    "Statistical summary of the cleaned dataset"
   ]
  },
  {
   "cell_type": "code",
   "execution_count": 734,
   "metadata": {},
   "outputs": [
    {
     "data": {
      "text/html": [
       "<div>\n",
       "<style>\n",
       "    .dataframe thead tr:only-child th {\n",
       "        text-align: right;\n",
       "    }\n",
       "\n",
       "    .dataframe thead th {\n",
       "        text-align: left;\n",
       "    }\n",
       "\n",
       "    .dataframe tbody tr th {\n",
       "        vertical-align: top;\n",
       "    }\n",
       "</style>\n",
       "<table border=\"1\" class=\"dataframe\">\n",
       "  <thead>\n",
       "    <tr style=\"text-align: right;\">\n",
       "      <th></th>\n",
       "      <th>tweet_id</th>\n",
       "      <th>rating_numerator</th>\n",
       "      <th>rating_denominator</th>\n",
       "      <th>favorite_count</th>\n",
       "      <th>favorited</th>\n",
       "      <th>retweet_count</th>\n",
       "      <th>retweeted</th>\n",
       "      <th>p1_conf</th>\n",
       "      <th>p2_conf</th>\n",
       "      <th>p3_conf</th>\n",
       "    </tr>\n",
       "  </thead>\n",
       "  <tbody>\n",
       "    <tr>\n",
       "      <th>count</th>\n",
       "      <td>1.256000e+03</td>\n",
       "      <td>1256.000000</td>\n",
       "      <td>1256.0</td>\n",
       "      <td>1256.000000</td>\n",
       "      <td>1256.0</td>\n",
       "      <td>1256.000000</td>\n",
       "      <td>1256.0</td>\n",
       "      <td>1256.000000</td>\n",
       "      <td>1.256000e+03</td>\n",
       "      <td>1.256000e+03</td>\n",
       "    </tr>\n",
       "    <tr>\n",
       "      <th>mean</th>\n",
       "      <td>7.333641e+17</td>\n",
       "      <td>10.308121</td>\n",
       "      <td>10.0</td>\n",
       "      <td>8419.785032</td>\n",
       "      <td>0.0</td>\n",
       "      <td>2564.212580</td>\n",
       "      <td>0.0</td>\n",
       "      <td>0.587768</td>\n",
       "      <td>1.382528e-01</td>\n",
       "      <td>6.163705e-02</td>\n",
       "    </tr>\n",
       "    <tr>\n",
       "      <th>std</th>\n",
       "      <td>6.666799e+16</td>\n",
       "      <td>2.449125</td>\n",
       "      <td>0.0</td>\n",
       "      <td>11596.054131</td>\n",
       "      <td>0.0</td>\n",
       "      <td>4098.519288</td>\n",
       "      <td>0.0</td>\n",
       "      <td>0.273306</td>\n",
       "      <td>1.026474e-01</td>\n",
       "      <td>5.237566e-02</td>\n",
       "    </tr>\n",
       "    <tr>\n",
       "      <th>min</th>\n",
       "      <td>6.660293e+17</td>\n",
       "      <td>0.000000</td>\n",
       "      <td>10.0</td>\n",
       "      <td>80.000000</td>\n",
       "      <td>0.0</td>\n",
       "      <td>13.000000</td>\n",
       "      <td>0.0</td>\n",
       "      <td>0.044333</td>\n",
       "      <td>1.011300e-08</td>\n",
       "      <td>1.740170e-10</td>\n",
       "    </tr>\n",
       "    <tr>\n",
       "      <th>25%</th>\n",
       "      <td>6.747900e+17</td>\n",
       "      <td>10.000000</td>\n",
       "      <td>10.0</td>\n",
       "      <td>1691.500000</td>\n",
       "      <td>0.0</td>\n",
       "      <td>585.000000</td>\n",
       "      <td>0.0</td>\n",
       "      <td>0.354800</td>\n",
       "      <td>5.444888e-02</td>\n",
       "      <td>1.623188e-02</td>\n",
       "    </tr>\n",
       "    <tr>\n",
       "      <th>50%</th>\n",
       "      <td>7.066634e+17</td>\n",
       "      <td>11.000000</td>\n",
       "      <td>10.0</td>\n",
       "      <td>3878.500000</td>\n",
       "      <td>0.0</td>\n",
       "      <td>1278.000000</td>\n",
       "      <td>0.0</td>\n",
       "      <td>0.581619</td>\n",
       "      <td>1.206915e-01</td>\n",
       "      <td>4.939865e-02</td>\n",
       "    </tr>\n",
       "    <tr>\n",
       "      <th>75%</th>\n",
       "      <td>7.808766e+17</td>\n",
       "      <td>12.000000</td>\n",
       "      <td>10.0</td>\n",
       "      <td>10551.750000</td>\n",
       "      <td>0.0</td>\n",
       "      <td>3041.750000</td>\n",
       "      <td>0.0</td>\n",
       "      <td>0.837575</td>\n",
       "      <td>2.006998e-01</td>\n",
       "      <td>9.494717e-02</td>\n",
       "    </tr>\n",
       "    <tr>\n",
       "      <th>max</th>\n",
       "      <td>8.918152e+17</td>\n",
       "      <td>17.000000</td>\n",
       "      <td>10.0</td>\n",
       "      <td>122923.000000</td>\n",
       "      <td>0.0</td>\n",
       "      <td>61029.000000</td>\n",
       "      <td>0.0</td>\n",
       "      <td>1.000000</td>\n",
       "      <td>4.676780e-01</td>\n",
       "      <td>2.710420e-01</td>\n",
       "    </tr>\n",
       "  </tbody>\n",
       "</table>\n",
       "</div>"
      ],
      "text/plain": [
       "           tweet_id  rating_numerator  rating_denominator  favorite_count  \\\n",
       "count  1.256000e+03       1256.000000              1256.0     1256.000000   \n",
       "mean   7.333641e+17         10.308121                10.0     8419.785032   \n",
       "std    6.666799e+16          2.449125                 0.0    11596.054131   \n",
       "min    6.660293e+17          0.000000                10.0       80.000000   \n",
       "25%    6.747900e+17         10.000000                10.0     1691.500000   \n",
       "50%    7.066634e+17         11.000000                10.0     3878.500000   \n",
       "75%    7.808766e+17         12.000000                10.0    10551.750000   \n",
       "max    8.918152e+17         17.000000                10.0   122923.000000   \n",
       "\n",
       "       favorited  retweet_count  retweeted      p1_conf       p2_conf  \\\n",
       "count     1256.0    1256.000000     1256.0  1256.000000  1.256000e+03   \n",
       "mean         0.0    2564.212580        0.0     0.587768  1.382528e-01   \n",
       "std          0.0    4098.519288        0.0     0.273306  1.026474e-01   \n",
       "min          0.0      13.000000        0.0     0.044333  1.011300e-08   \n",
       "25%          0.0     585.000000        0.0     0.354800  5.444888e-02   \n",
       "50%          0.0    1278.000000        0.0     0.581619  1.206915e-01   \n",
       "75%          0.0    3041.750000        0.0     0.837575  2.006998e-01   \n",
       "max          0.0   61029.000000        0.0     1.000000  4.676780e-01   \n",
       "\n",
       "            p3_conf  \n",
       "count  1.256000e+03  \n",
       "mean   6.163705e-02  \n",
       "std    5.237566e-02  \n",
       "min    1.740170e-10  \n",
       "25%    1.623188e-02  \n",
       "50%    4.939865e-02  \n",
       "75%    9.494717e-02  \n",
       "max    2.710420e-01  "
      ]
     },
     "execution_count": 734,
     "metadata": {},
     "output_type": "execute_result"
    }
   ],
   "source": [
    "df_merged.describe()"
   ]
  },
  {
   "cell_type": "markdown",
   "metadata": {},
   "source": [
    "The rating numerator is present in the range from 0-17 with a mean of 10.3. There is a great spread on both the amount of favorite and retweet counts, where the favorite range is from 80 to 122923 with a mean of 8420 and the retweet range is from 13 to 61029 with a mean of 2564.  \n",
    "The range of the confidence for the first prediction is from 0,04 to 1. This range is greatly reduced when moving on to the second and third guesses."
   ]
  },
  {
   "cell_type": "markdown",
   "metadata": {},
   "source": [
    "The rating numerator is further investigated"
   ]
  },
  {
   "cell_type": "code",
   "execution_count": 735,
   "metadata": {},
   "outputs": [
    {
     "data": {
      "image/png": "[encoded data removed]",
      "text/plain": [
       "<matplotlib.figure.Figure at 0x23b1a842c50>"
      ]
     },
     "metadata": {},
     "output_type": "display_data"
    }
   ],
   "source": [
    "df_merged.hist(column='rating_numerator',bins=[0,1,2,3,4,6,7,8,9,10,11,12,13,14,15,16,17,18,19,20]);"
   ]
  },
  {
   "cell_type": "markdown",
   "metadata": {},
   "source": [
    "The ratings given seems to behave in an unimodal behaviour with two peaks with a negative skew. One peak at 10 and one at 12. It seems that a lot of people rates their dogs lower than the denominator at 10, which isn't the actual purpose of the group. "
   ]
  },
  {
   "cell_type": "code",
   "execution_count": 736,
   "metadata": {},
   "outputs": [
    {
     "data": {
      "image/png": "[encoded data removed]",
      "text/plain": [
       "<matplotlib.figure.Figure at 0x23b1487f9b0>"
      ]
     },
     "metadata": {},
     "output_type": "display_data"
    }
   ],
   "source": [
    "df_merged.boxplot(column='rating_numerator');"
   ]
  },
  {
   "cell_type": "markdown",
   "metadata": {},
   "source": [
    "From the boxplot it seems that the rating numerator is normally distributed with some outliers."
   ]
  },
  {
   "cell_type": "markdown",
   "metadata": {},
   "source": [
    "The favorite count is looked in to:"
   ]
  },
  {
   "cell_type": "code",
   "execution_count": 737,
   "metadata": {},
   "outputs": [
    {
     "data": {
      "image/png": "[encoded data removed]",
      "text/plain": [
       "<matplotlib.figure.Figure at 0x23b1408fc88>"
      ]
     },
     "metadata": {},
     "output_type": "display_data"
    }
   ],
   "source": [
    "df_merged.hist(column='favorite_count',bins=100);"
   ]
  },
  {
   "cell_type": "markdown",
   "metadata": {},
   "source": [
    "Most of the tweets seems to have relatively low favorite counts, but from the plot there seems to be a positive skew with a very long tail."
   ]
  },
  {
   "cell_type": "code",
   "execution_count": 738,
   "metadata": {},
   "outputs": [
    {
     "data": {
      "image/png": "[encoded data removed]",
      "text/plain": [
       "<matplotlib.figure.Figure at 0x23b140bc9e8>"
      ]
     },
     "metadata": {},
     "output_type": "display_data"
    }
   ],
   "source": [
    "df_merged.boxplot(column='favorite_count');"
   ]
  },
  {
   "cell_type": "markdown",
   "metadata": {},
   "source": [
    "The boxplot confirms what was seen in the previous plot.  \n",
    "The retweet count is also investigated"
   ]
  },
  {
   "cell_type": "code",
   "execution_count": 739,
   "metadata": {},
   "outputs": [
    {
     "data": {
      "image/png": "[encoded data removed]",
      "text/plain": [
       "<matplotlib.figure.Figure at 0x23b10f8f978>"
      ]
     },
     "metadata": {},
     "output_type": "display_data"
    }
   ],
   "source": [
    "df_merged.hist(column='retweet_count',bins=100);"
   ]
  },
  {
   "cell_type": "markdown",
   "metadata": {},
   "source": [
    "The retweet count shows the same tendency as the favorite count."
   ]
  },
  {
   "cell_type": "code",
   "execution_count": 740,
   "metadata": {},
   "outputs": [
    {
     "data": {
      "image/png": "[encoded data removed]",
      "text/plain": [
       "<matplotlib.figure.Figure at 0x23b11403ac8>"
      ]
     },
     "metadata": {},
     "output_type": "display_data"
    }
   ],
   "source": [
    "df_merged.boxplot(column='retweet_count');"
   ]
  },
  {
   "cell_type": "markdown",
   "metadata": {},
   "source": [
    "Again showing the same trend as the favorite count. From this investigation it seems that the favorite and retweet count correlates well with each other. This possible correlation will be further investigated."
   ]
  },
  {
   "cell_type": "code",
   "execution_count": 741,
   "metadata": {},
   "outputs": [
    {
     "data": {
      "text/plain": [
       "0.92277233620934085"
      ]
     },
     "execution_count": 741,
     "metadata": {},
     "output_type": "execute_result"
    }
   ],
   "source": [
    "df_merged['retweet_count'].corr(df_merged['favorite_count'])"
   ]
  },
  {
   "cell_type": "markdown",
   "metadata": {},
   "source": [
    "There seems to be a well correlated relationship between the two parameters and this will be plotted"
   ]
  },
  {
   "cell_type": "code",
   "execution_count": 742,
   "metadata": {},
   "outputs": [
    {
     "data": {
      "image/png": "[encoded data removed]",
      "text/plain": [
       "<matplotlib.figure.Figure at 0x23b11204da0>"
      ]
     },
     "metadata": {},
     "output_type": "display_data"
    }
   ],
   "source": [
    "plt.scatter(df_merged['retweet_count'],df_merged['favorite_count'],c=df_merged['rating_numerator'], alpha=0.25,cmap = 'viridis')\n",
    "plt.colorbar()\n",
    "plt.xlabel(\"Retweet count\")\n",
    "plt.ylabel(\"Favorite count\")\n",
    "plt.title(\"Favorite and retweet count - colored with numerator rating\")\n",
    "plt.show()"
   ]
  },
  {
   "cell_type": "markdown",
   "metadata": {},
   "source": [
    "There seems to be some tweets with a zero favorite count but with several retweets. Overall there is a positive trend between favorite and retweet count. Using the numerator rating as a color code it seems to indicate that high dog ratings are more prevalent for a high amount of retweets and favorites.  \n",
    "There is a few tweets that have both a very high favorite and retweet count. The highest one will be further investigated."
   ]
  },
  {
   "cell_type": "code",
   "execution_count": 743,
   "metadata": {},
   "outputs": [
    {
     "data": {
      "text/html": [
       "<div>\n",
       "<style>\n",
       "    .dataframe thead tr:only-child th {\n",
       "        text-align: right;\n",
       "    }\n",
       "\n",
       "    .dataframe thead th {\n",
       "        text-align: left;\n",
       "    }\n",
       "\n",
       "    .dataframe tbody tr th {\n",
       "        vertical-align: top;\n",
       "    }\n",
       "</style>\n",
       "<table border=\"1\" class=\"dataframe\">\n",
       "  <thead>\n",
       "    <tr style=\"text-align: right;\">\n",
       "      <th></th>\n",
       "      <th>tweet_id</th>\n",
       "      <th>timestamp</th>\n",
       "      <th>text</th>\n",
       "      <th>rating_numerator</th>\n",
       "      <th>rating_denominator</th>\n",
       "      <th>dog_nick</th>\n",
       "      <th>favorite_count</th>\n",
       "      <th>favorited</th>\n",
       "      <th>retweet_count</th>\n",
       "      <th>retweeted</th>\n",
       "      <th>p1</th>\n",
       "      <th>p1_conf</th>\n",
       "      <th>p1_dog</th>\n",
       "      <th>p2</th>\n",
       "      <th>p2_conf</th>\n",
       "      <th>p2_dog</th>\n",
       "      <th>p3</th>\n",
       "      <th>p3_conf</th>\n",
       "      <th>p3_dog</th>\n",
       "    </tr>\n",
       "  </thead>\n",
       "  <tbody>\n",
       "    <tr>\n",
       "      <th>228</th>\n",
       "      <td>807106840509214720</td>\n",
       "      <td>2016-12-09 06:17:20</td>\n",
       "      <td>This is Stephan. He just wants to help. 13/10 ...</td>\n",
       "      <td>13</td>\n",
       "      <td>10</td>\n",
       "      <td></td>\n",
       "      <td>122923</td>\n",
       "      <td>0</td>\n",
       "      <td>61029</td>\n",
       "      <td>0</td>\n",
       "      <td>Chihuahua</td>\n",
       "      <td>0.50537</td>\n",
       "      <td>True</td>\n",
       "      <td>Pomeranian</td>\n",
       "      <td>0.120358</td>\n",
       "      <td>True</td>\n",
       "      <td>toy_terrier</td>\n",
       "      <td>0.077008</td>\n",
       "      <td>True</td>\n",
       "    </tr>\n",
       "  </tbody>\n",
       "</table>\n",
       "</div>"
      ],
      "text/plain": [
       "               tweet_id           timestamp  \\\n",
       "228  807106840509214720 2016-12-09 06:17:20   \n",
       "\n",
       "                                                  text  rating_numerator  \\\n",
       "228  This is Stephan. He just wants to help. 13/10 ...                13   \n",
       "\n",
       "     rating_denominator dog_nick  favorite_count  favorited  retweet_count  \\\n",
       "228                  10                   122923          0          61029   \n",
       "\n",
       "     retweeted         p1  p1_conf  p1_dog          p2   p2_conf  p2_dog  \\\n",
       "228          0  Chihuahua  0.50537    True  Pomeranian  0.120358    True   \n",
       "\n",
       "              p3   p3_conf  p3_dog  \n",
       "228  toy_terrier  0.077008    True  "
      ]
     },
     "execution_count": 743,
     "metadata": {},
     "output_type": "execute_result"
    }
   ],
   "source": [
    "df_merged.nlargest(1, 'favorite_count')"
   ]
  },
  {
   "cell_type": "code",
   "execution_count": 744,
   "metadata": {},
   "outputs": [
    {
     "data": {
      "text/plain": [
       "'This is Stephan. He just wants to help. 13/10 such a good boy https://t.co/DkBYaCAg2d'"
      ]
     },
     "execution_count": 744,
     "metadata": {},
     "output_type": "execute_result"
    }
   ],
   "source": [
    "df_merged['text'].iloc[228]"
   ]
  },
  {
   "cell_type": "markdown",
   "metadata": {},
   "source": [
    "Following the url for the tweet reveals what looks to be a corgi who wants to help cleaning the floor. The machine learning predicts the following dog types and the confidence to that guess:"
   ]
  },
  {
   "cell_type": "code",
   "execution_count": 745,
   "metadata": {},
   "outputs": [
    {
     "data": {
      "text/plain": [
       "('Chihuahua',\n",
       " 0.50536999999999999,\n",
       " 'Pomeranian',\n",
       " 0.12035800000000001,\n",
       " 'toy_terrier',\n",
       " 0.077008099999999996)"
      ]
     },
     "execution_count": 745,
     "metadata": {},
     "output_type": "execute_result"
    }
   ],
   "source": [
    "(df_merged['p1'].iloc[228], df_merged['p1_conf'].iloc[228],df_merged['p2'].iloc[228],df_merged['p2_conf'].iloc[228],df_merged['p3'].iloc[228],df_merged['p3_conf'].iloc[228])"
   ]
  },
  {
   "cell_type": "markdown",
   "metadata": {},
   "source": [
    "In this case the algorithm seems to be off as the video shows a corgi. Let's look at the prediction with the three highest confidences in the machine learning dataset to investigate if the algorithm predicts correctly then. Only the predictions with p1_dog showing true will be investigated."
   ]
  },
  {
   "cell_type": "code",
   "execution_count": 746,
   "metadata": {},
   "outputs": [
    {
     "data": {
      "text/html": [
       "<div>\n",
       "<style>\n",
       "    .dataframe thead tr:only-child th {\n",
       "        text-align: right;\n",
       "    }\n",
       "\n",
       "    .dataframe thead th {\n",
       "        text-align: left;\n",
       "    }\n",
       "\n",
       "    .dataframe tbody tr th {\n",
       "        vertical-align: top;\n",
       "    }\n",
       "</style>\n",
       "<table border=\"1\" class=\"dataframe\">\n",
       "  <thead>\n",
       "    <tr style=\"text-align: right;\">\n",
       "      <th></th>\n",
       "      <th>tweet_id</th>\n",
       "      <th>timestamp</th>\n",
       "      <th>text</th>\n",
       "      <th>rating_numerator</th>\n",
       "      <th>rating_denominator</th>\n",
       "      <th>dog_nick</th>\n",
       "      <th>favorite_count</th>\n",
       "      <th>favorited</th>\n",
       "      <th>retweet_count</th>\n",
       "      <th>retweeted</th>\n",
       "      <th>p1</th>\n",
       "      <th>p1_conf</th>\n",
       "      <th>p1_dog</th>\n",
       "      <th>p2</th>\n",
       "      <th>p2_conf</th>\n",
       "      <th>p2_dog</th>\n",
       "      <th>p3</th>\n",
       "      <th>p3_conf</th>\n",
       "      <th>p3_dog</th>\n",
       "    </tr>\n",
       "  </thead>\n",
       "  <tbody>\n",
       "    <tr>\n",
       "      <th>1150</th>\n",
       "      <td>668636665813057536</td>\n",
       "      <td>2015-11-23 03:46:18</td>\n",
       "      <td>This is an Irish Rigatoni terrier named Berta....</td>\n",
       "      <td>10</td>\n",
       "      <td>10</td>\n",
       "      <td></td>\n",
       "      <td>1083</td>\n",
       "      <td>0</td>\n",
       "      <td>510</td>\n",
       "      <td>0</td>\n",
       "      <td>komondor</td>\n",
       "      <td>0.999956</td>\n",
       "      <td>True</td>\n",
       "      <td>llama</td>\n",
       "      <td>0.000043</td>\n",
       "      <td>False</td>\n",
       "      <td>ram</td>\n",
       "      <td>2.160900e-07</td>\n",
       "      <td>False</td>\n",
       "    </tr>\n",
       "    <tr>\n",
       "      <th>602</th>\n",
       "      <td>709566166965075968</td>\n",
       "      <td>2016-03-15 02:25:31</td>\n",
       "      <td>This is Olaf. He's gotta be rare. Seems sturdy...</td>\n",
       "      <td>12</td>\n",
       "      <td>10</td>\n",
       "      <td></td>\n",
       "      <td>3768</td>\n",
       "      <td>0</td>\n",
       "      <td>1319</td>\n",
       "      <td>0</td>\n",
       "      <td>chow</td>\n",
       "      <td>0.999837</td>\n",
       "      <td>True</td>\n",
       "      <td>Tibetan_mastiff</td>\n",
       "      <td>0.000117</td>\n",
       "      <td>True</td>\n",
       "      <td>Australian_terrier</td>\n",
       "      <td>1.133840e-05</td>\n",
       "      <td>True</td>\n",
       "    </tr>\n",
       "    <tr>\n",
       "      <th>201</th>\n",
       "      <td>814986499976527872</td>\n",
       "      <td>2016-12-31 00:08:17</td>\n",
       "      <td>This is Cooper. Someone attacked him with a sh...</td>\n",
       "      <td>11</td>\n",
       "      <td>10</td>\n",
       "      <td>pupper</td>\n",
       "      <td>8311</td>\n",
       "      <td>0</td>\n",
       "      <td>1450</td>\n",
       "      <td>0</td>\n",
       "      <td>dalmatian</td>\n",
       "      <td>0.999828</td>\n",
       "      <td>True</td>\n",
       "      <td>boxer</td>\n",
       "      <td>0.000068</td>\n",
       "      <td>True</td>\n",
       "      <td>American_Staffordshire_terrier</td>\n",
       "      <td>3.424360e-05</td>\n",
       "      <td>True</td>\n",
       "    </tr>\n",
       "  </tbody>\n",
       "</table>\n",
       "</div>"
      ],
      "text/plain": [
       "                tweet_id           timestamp  \\\n",
       "1150  668636665813057536 2015-11-23 03:46:18   \n",
       "602   709566166965075968 2016-03-15 02:25:31   \n",
       "201   814986499976527872 2016-12-31 00:08:17   \n",
       "\n",
       "                                                   text  rating_numerator  \\\n",
       "1150  This is an Irish Rigatoni terrier named Berta....                10   \n",
       "602   This is Olaf. He's gotta be rare. Seems sturdy...                12   \n",
       "201   This is Cooper. Someone attacked him with a sh...                11   \n",
       "\n",
       "      rating_denominator dog_nick  favorite_count  favorited  retweet_count  \\\n",
       "1150                  10                     1083          0            510   \n",
       "602                   10                     3768          0           1319   \n",
       "201                   10   pupper            8311          0           1450   \n",
       "\n",
       "      retweeted         p1   p1_conf  p1_dog               p2   p2_conf  \\\n",
       "1150          0   komondor  0.999956    True            llama  0.000043   \n",
       "602           0       chow  0.999837    True  Tibetan_mastiff  0.000117   \n",
       "201           0  dalmatian  0.999828    True            boxer  0.000068   \n",
       "\n",
       "      p2_dog                              p3       p3_conf  p3_dog  \n",
       "1150   False                             ram  2.160900e-07   False  \n",
       "602     True              Australian_terrier  1.133840e-05    True  \n",
       "201     True  American_Staffordshire_terrier  3.424360e-05    True  "
      ]
     },
     "execution_count": 746,
     "metadata": {},
     "output_type": "execute_result"
    }
   ],
   "source": [
    "df_merged.nlargest(10, 'p1_conf').loc[df_merged['p1_dog'] == True]"
   ]
  },
  {
   "cell_type": "markdown",
   "metadata": {},
   "source": [
    "The p1 predictions for these three tweets are listed"
   ]
  },
  {
   "cell_type": "code",
   "execution_count": 747,
   "metadata": {},
   "outputs": [
    {
     "data": {
      "text/plain": [
       "('komondor',\n",
       " 0.99995599999999996,\n",
       " 'chow',\n",
       " 0.99983699999999998,\n",
       " 'dalmatian',\n",
       " 0.99982800000000005)"
      ]
     },
     "execution_count": 747,
     "metadata": {},
     "output_type": "execute_result"
    }
   ],
   "source": [
    "(df_merged['p1'].iloc[1150], df_merged['p1_conf'].iloc[1150],df_merged['p1'].iloc[602],df_merged['p1_conf'].iloc[602],df_merged['p1'].iloc[201],df_merged['p1_conf'].iloc[201])"
   ]
  },
  {
   "cell_type": "code",
   "execution_count": 748,
   "metadata": {},
   "outputs": [
    {
     "data": {
      "text/plain": [
       "('This is an Irish Rigatoni terrier named Berta. Completely made of rope. No eyes. Quite large. Loves to dance. 10/10 https://t.co/EM5fDykrJg',\n",
       " \"This is Olaf. He's gotta be rare. Seems sturdy. Tail is floofy af. 12/10 would do whatever it takes to pet https://t.co/E9jaU59bh9\",\n",
       " 'This is Cooper. Someone attacked him with a sharpie. Poor pupper. 11/10 nifty tongue slip tho https://t.co/01vpuRDXQ8')"
      ]
     },
     "execution_count": 748,
     "metadata": {},
     "output_type": "execute_result"
    }
   ],
   "source": [
    "(df_merged['text'].iloc[1150],df_merged['text'].iloc[602],df_merged['text'].iloc[201])"
   ]
  },
  {
   "cell_type": "markdown",
   "metadata": {},
   "source": [
    "Even though the first tweet actually says Rigatoni terrier, then after reading the comments under the tweet it becomes evident that in fact it is a komondor, which the machine learning algorithm predicted.  \n",
    "Tweet two is in fact a chow.  \n",
    "Tweet three states that his pupper was attacked by a sharpie but he does not cheat the machine learning algorithm which correctly predicted a dalmatian."
   ]
  }
 ],
 "metadata": {
  "kernelspec": {
   "display_name": "Python [default]",
   "language": "python",
   "name": "python3"
  },
  "language_info": {
   "codemirror_mode": {
    "name": "ipython",
    "version": 3
   },
   "file_extension": ".py",
   "mimetype": "text/x-python",
   "name": "python",
   "nbconvert_exporter": "python",
   "pygments_lexer": "ipython3",
   "version": "3.6.3"
  }
 },
 "nbformat": 4,
 "nbformat_minor": 2
}
